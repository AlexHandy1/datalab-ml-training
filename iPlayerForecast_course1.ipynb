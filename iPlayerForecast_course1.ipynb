{
 "cells": [
  {
   "cell_type": "markdown",
   "metadata": {},
   "source": [
    "# Course One: Data Exploration\n",
    "\n",
    "Expected time to complete: 45 to 60 minutes\n",
    "\n",
    "## Goal of this Course\n",
    "During this course we will introduce our problematic and have a first look at the data. It is one of the most important part of the modelling process: formulate our problem and explore the data we are going to work with.\n",
    "\n",
    "This course is split into the following parts:\n",
    "- <a href='#context'>Context</a> \n",
    "- <a href='#data_sampling'>Data Sampling</a> \n",
    "- <a href='#import_data'>First Overview of the Data</a>\n",
    "    - <a href='#load_data'>Load the Data</a>\n",
    "    - <a href='#feature_engineering'>Feature Engineering</a>\n",
    "\n",
    "\n",
    "- <a href='#data_analysis'>Exploratory Data Analysis</a>\n",
    "    - <a href='#quality_check'>Data Quality Check</a>\n",
    "    - <a href='#scope'>Scope</a>\n",
    "    - <a href='#basic_statistics'>Descriptive Statistics</a>\n",
    "\n",
    "\n",
    "<a id='context'></a>\n",
    "# Context\n",
    "## Background\n",
    "\n",
    "Cultivating brand loyalty is key for the BBC to remain relevant in a data-driven world dominated by the likes of Youtube, Netflix and Facebook. We know that tens of thousands of viewers consume our content on iPlayer everyday but we still have very little understanding of what makes them come back for more. In order to keep our audience engaged, it is vital that we develop audience statistics that reflect how likely they are to continue consuming our content. These metrics will then enable us to gain greater insights into whether we are surfacing the right content to the right audience members. These activities will be vital for retaining and growing our audiences both domestically and around the world. \n",
    "\n",
    "## Problem Formulation\n",
    "One way of measuring the engagement of a user is to count how much content they have consumed over a given period.  Engagement, measured in this way, may be affected by many different factors ranging from the kind of content they enjoy to the time of day they consume it.\n",
    " \n",
    "In our current exercise, what we want to understand is how an audience member consumes content, based upon their past behaviour. More specifically, what we will do in this case is to investigate if there is a relationship between an audience member’s viewing behaviour (what and when they have watched on iPlayer) over a 14-week period and the amount of content they consumed in the subsequent two-week period.\n",
    "\n",
    "<a id='data_sampling'></a>\n",
    "# Data Sampling \n",
    "\n",
    "## Theory\n",
    "The data you use to solve your problem is called your dataset. To ensure that any inferences you make from your dataset can be generalised to “the real world” it is important to ensure that the data you choose for your dataset is indeed a good representation of the wider population it is sampled from and, in particular, free from systematic biases. Regardless of what machine-learning techniques you eventually use, if your dataset is not a good approximation of the population it is supposed to represent, you will struggle to find a satisfactory solution to your problem.\n",
    "\n",
    "For more information on data sampling please see the Wikipedia page here:\n",
    "https://en.wikipedia.org/wiki/Sampling_(statistics)  \n",
    "\n",
    "\n",
    "## Our Dataset\n",
    "For our particular problem, we have a dataset containing __the viewing history of 10,000 iPlayer viewers__. To ensure that this is a representative sample those viewers were sampled from all over the UK and are accurate representations over all age groups, socio-economic class, race and gender. \n",
    " \n",
    "<a id='import_data'></a>\n",
    "# First Overview of the Data\n",
    "The code lined out below, and indeed throughout the entire training course, shows one possible way to approach the problem. Other ways are always possible, and comparing them is where the fun starts, so we leave that to you!\n",
    "\n",
    "<a id='load_data'></a>\n",
    "## Load the Data\n",
    "The first thing to do is to load the data and get a first idea what it looks like."
   ]
  },
  {
   "cell_type": "code",
   "execution_count": 1,
   "metadata": {
    "collapsed": true
   },
   "outputs": [],
   "source": [
    "# Import all relevent libraries to analyse the data\n",
    "import pandas as pd\n",
    "import numpy as np\n",
    "import datetime\n",
    "import math\n",
    "import matplotlib.pyplot as plt\n",
    "\n",
    "# This line makes sure that our graphs are rendered within the notebook\n",
    "%matplotlib inline\n",
    "\n",
    "# Set options to display all columns\n",
    "pd.set_option(\"display.max_columns\",None)"
   ]
  },
  {
   "cell_type": "markdown",
   "metadata": {},
   "source": [
    "*pandas* is a very comprehensive library that allows us to manipulate datasets and perform data analysis. Among others it has a great datetime parsing function which will make handling datetimes later much easier!\n",
    "\n",
    "Make sure to have your dataset in the same folder as your notebook. Or specify its path `'path/to/data/iplayer_data_sample_janapr2017.csv'`."
   ]
  },
  {
   "cell_type": "code",
   "execution_count": 2,
   "metadata": {},
   "outputs": [
    {
     "name": "stdout",
     "output_type": "stream",
     "text": [
      "(490852, 8)\n",
      "  user_id program_id series_id          genre programme_duration  \\\n",
      "0  cd2006     f6d3d8    a282ca        Factual           00:00:21   \n",
      "1  cd2006     b8fbf2    e0480e         Comedy           00:01:51   \n",
      "2  cd2006     e2f113    933a1b        Factual           00:00:30   \n",
      "3  cd2006     0e0916    b68e79  Entertainment           00:01:22   \n",
      "4  cd2006     ca03b9    5d0813          Sport           00:01:37   \n",
      "\n",
      "      streaming_id         start_date_time  time_viewed  \n",
      "0  1486911129420_1 2017-02-12 14:51:24.544      20920.0  \n",
      "1  1484864257965_1 2017-01-19 22:17:04.648     111285.0  \n",
      "2  1487099603980_1 2017-02-14 19:12:36.667      29945.0  \n",
      "3  1484773546557_1 2017-01-18 21:05:11.466      82620.0  \n",
      "4  1486911176609_1 2017-02-12 14:52:08.965      97444.0  \n"
     ]
    }
   ],
   "source": [
    "# Load the data into a pandas dataframe\n",
    "# Display the size of the dataset and first couple of rows to see what it looks like\n",
    "data=pd.read_csv('iplayer_data_sample_janapr2017.csv', parse_dates=['start_date_time'])\n",
    "print(data.shape)\n",
    "print(data.head())"
   ]
  },
  {
   "cell_type": "markdown",
   "metadata": {},
   "source": [
    "This output gives us a broad sense of what our data look likes. We can start creating additional derived columns that we think could explain why and how much people will watch on iPlayer. This step is called __feature engineering__. \n",
    "\n",
    "<a id='feature_engineering'></a>\n",
    "## Feature Engineering\n",
    "Feature engineering is the process of identifying the input variables (_time of the day, content genre_ etc.) that will be used by your model to predict the output variable (_number of minutes watched_). Feature engineering is _very_ important as the performance of your model is directly dependent upon the features you choose as input. Statistical models are essentially just pattern detectors. Different types of models have strengths and weaknesses in specific situations but they can only find structure in your data if the information exists in your features, in the first place.\n",
    "\n",
    "In most situations the process of feature engineering is an iterative one. Finding the best subset of explanatory variables is not straightforward and we will come back later on this. In the meantime, we will enhance the data by calculating some additional features that we think can help predict the viewing-time of iPlayer users. \n",
    "\n",
    "Our hypothesis is that the more you interact with iPlayer, the more likely you are to return. So the additional data columns are aimed at understanding __the breadth of the user's interactions with us__."
   ]
  },
  {
   "cell_type": "code",
   "execution_count": 3,
   "metadata": {
    "collapsed": true
   },
   "outputs": [],
   "source": [
    "# Enhance the data with a few additional columns\n",
    "# Here we create some functions that we will apply to our dataset columns afterwards\n",
    "\n",
    "# Get the weekday\n",
    "def get_weekday(formated_time):\n",
    "    return 'weekday_' + str(formated_time.weekday())\n",
    "\n",
    "# Get the two-week number. We will forecast the minutes watched in the last two weeks\n",
    "# Python3 rounds 0.5 up and down depending on the integer so we can't use round function\n",
    "def get_twoweeknumber(formated_time):\n",
    "    return math.floor(formated_time.isocalendar()[1]/2.0)\n",
    "\n",
    "# Get the time of day\n",
    "def get_timeofday(formated_time):\n",
    "    hour=formated_time.hour\n",
    "    if hour in range(5,13):\n",
    "        return 'Morning'\n",
    "    elif hour in range(13,18):\n",
    "        return 'Afternoon'\n",
    "    elif hour in range(18,23):\n",
    "        return 'Evening'\n",
    "    else:\n",
    "        return 'Night'\n",
    "\n",
    "# Parse the programme duration \n",
    "# and turn it into minutes so that we can compute the percentage of time watched\n",
    "# we assume programme_duration is in hh:mm:ss\n",
    "def parse_programme_duration(unformated_time):\n",
    "    try:\n",
    "        timeparts=unformated_time.split(':')\n",
    "        return int(timeparts[0])*60.0+int(timeparts[1])+int(timeparts[2])/100\n",
    "    except:\n",
    "        return"
   ]
  },
  {
   "cell_type": "code",
   "execution_count": 4,
   "metadata": {},
   "outputs": [
    {
     "data": {
      "text/html": [
       "<div>\n",
       "<style>\n",
       "    .dataframe thead tr:only-child th {\n",
       "        text-align: right;\n",
       "    }\n",
       "\n",
       "    .dataframe thead th {\n",
       "        text-align: left;\n",
       "    }\n",
       "\n",
       "    .dataframe tbody tr th {\n",
       "        vertical-align: top;\n",
       "    }\n",
       "</style>\n",
       "<table border=\"1\" class=\"dataframe\">\n",
       "  <thead>\n",
       "    <tr style=\"text-align: right;\">\n",
       "      <th></th>\n",
       "      <th>user_id</th>\n",
       "      <th>program_id</th>\n",
       "      <th>series_id</th>\n",
       "      <th>genre</th>\n",
       "      <th>programme_duration</th>\n",
       "      <th>streaming_id</th>\n",
       "      <th>start_date_time</th>\n",
       "      <th>time_viewed</th>\n",
       "      <th>weekday</th>\n",
       "      <th>time_of_day</th>\n",
       "      <th>programme_duration_mins</th>\n",
       "      <th>twoweek</th>\n",
       "      <th>min_watched</th>\n",
       "    </tr>\n",
       "  </thead>\n",
       "  <tbody>\n",
       "    <tr>\n",
       "      <th>0</th>\n",
       "      <td>cd2006</td>\n",
       "      <td>f6d3d8</td>\n",
       "      <td>a282ca</td>\n",
       "      <td>Factual</td>\n",
       "      <td>00:00:21</td>\n",
       "      <td>1486911129420_1</td>\n",
       "      <td>2017-02-12 14:51:24.544</td>\n",
       "      <td>20920.0</td>\n",
       "      <td>weekday_6</td>\n",
       "      <td>Afternoon</td>\n",
       "      <td>0.21</td>\n",
       "      <td>3</td>\n",
       "      <td>0.348667</td>\n",
       "    </tr>\n",
       "    <tr>\n",
       "      <th>1</th>\n",
       "      <td>cd2006</td>\n",
       "      <td>b8fbf2</td>\n",
       "      <td>e0480e</td>\n",
       "      <td>Comedy</td>\n",
       "      <td>00:01:51</td>\n",
       "      <td>1484864257965_1</td>\n",
       "      <td>2017-01-19 22:17:04.648</td>\n",
       "      <td>111285.0</td>\n",
       "      <td>weekday_3</td>\n",
       "      <td>Evening</td>\n",
       "      <td>1.51</td>\n",
       "      <td>1</td>\n",
       "      <td>1.854750</td>\n",
       "    </tr>\n",
       "    <tr>\n",
       "      <th>2</th>\n",
       "      <td>cd2006</td>\n",
       "      <td>e2f113</td>\n",
       "      <td>933a1b</td>\n",
       "      <td>Factual</td>\n",
       "      <td>00:00:30</td>\n",
       "      <td>1487099603980_1</td>\n",
       "      <td>2017-02-14 19:12:36.667</td>\n",
       "      <td>29945.0</td>\n",
       "      <td>weekday_1</td>\n",
       "      <td>Evening</td>\n",
       "      <td>0.30</td>\n",
       "      <td>3</td>\n",
       "      <td>0.499083</td>\n",
       "    </tr>\n",
       "    <tr>\n",
       "      <th>3</th>\n",
       "      <td>cd2006</td>\n",
       "      <td>0e0916</td>\n",
       "      <td>b68e79</td>\n",
       "      <td>Entertainment</td>\n",
       "      <td>00:01:22</td>\n",
       "      <td>1484773546557_1</td>\n",
       "      <td>2017-01-18 21:05:11.466</td>\n",
       "      <td>82620.0</td>\n",
       "      <td>weekday_2</td>\n",
       "      <td>Evening</td>\n",
       "      <td>1.22</td>\n",
       "      <td>1</td>\n",
       "      <td>1.377000</td>\n",
       "    </tr>\n",
       "    <tr>\n",
       "      <th>4</th>\n",
       "      <td>cd2006</td>\n",
       "      <td>ca03b9</td>\n",
       "      <td>5d0813</td>\n",
       "      <td>Sport</td>\n",
       "      <td>00:01:37</td>\n",
       "      <td>1486911176609_1</td>\n",
       "      <td>2017-02-12 14:52:08.965</td>\n",
       "      <td>97444.0</td>\n",
       "      <td>weekday_6</td>\n",
       "      <td>Afternoon</td>\n",
       "      <td>1.37</td>\n",
       "      <td>3</td>\n",
       "      <td>1.624067</td>\n",
       "    </tr>\n",
       "  </tbody>\n",
       "</table>\n",
       "</div>"
      ],
      "text/plain": [
       "  user_id program_id series_id          genre programme_duration  \\\n",
       "0  cd2006     f6d3d8    a282ca        Factual           00:00:21   \n",
       "1  cd2006     b8fbf2    e0480e         Comedy           00:01:51   \n",
       "2  cd2006     e2f113    933a1b        Factual           00:00:30   \n",
       "3  cd2006     0e0916    b68e79  Entertainment           00:01:22   \n",
       "4  cd2006     ca03b9    5d0813          Sport           00:01:37   \n",
       "\n",
       "      streaming_id         start_date_time  time_viewed    weekday  \\\n",
       "0  1486911129420_1 2017-02-12 14:51:24.544      20920.0  weekday_6   \n",
       "1  1484864257965_1 2017-01-19 22:17:04.648     111285.0  weekday_3   \n",
       "2  1487099603980_1 2017-02-14 19:12:36.667      29945.0  weekday_1   \n",
       "3  1484773546557_1 2017-01-18 21:05:11.466      82620.0  weekday_2   \n",
       "4  1486911176609_1 2017-02-12 14:52:08.965      97444.0  weekday_6   \n",
       "\n",
       "  time_of_day  programme_duration_mins  twoweek  min_watched  \n",
       "0   Afternoon                     0.21        3     0.348667  \n",
       "1     Evening                     1.51        1     1.854750  \n",
       "2     Evening                     0.30        3     0.499083  \n",
       "3     Evening                     1.22        1     1.377000  \n",
       "4   Afternoon                     1.37        3     1.624067  "
      ]
     },
     "execution_count": 4,
     "metadata": {},
     "output_type": "execute_result"
    }
   ],
   "source": [
    "# Apply the functions to the dataframe\n",
    "data['weekday']=data['start_date_time'].apply(get_weekday)\n",
    "data['time_of_day']=data['start_date_time'].apply(get_timeofday)\n",
    "data['programme_duration_mins']=data['programme_duration'].apply(parse_programme_duration)\n",
    "data['twoweek']=data['start_date_time'].apply(get_twoweeknumber)\n",
    "\n",
    "# Convert time viewed and length of programme into minutes\n",
    "data['min_watched']=data['time_viewed']/(60000.0)\n",
    "\n",
    "data.head()"
   ]
  },
  {
   "cell_type": "markdown",
   "metadata": {},
   "source": [
    "<a id='data_analysis'></a>\n",
    "# Exploratory Data Analysis\n",
    "\n",
    "Once we have our dataset, enhanced with some additional features we can start its exploration. First of all, we need to check the quality of the data we are working with. Most data sources are very \"noisy\": often data is missing for some observations or data can also be wrong. It is therefore crucial to spend some time cleaning the data to avoid a \"garbage in, garbage out\" problem. Cleaning involves both __infer missing values__ and identify __outliers__ (statistically improbable values). When dealing with missing or unusual values, keep always in mind the “business\" and context of your analysis. \n",
    "\n",
    "Generally the investigation and enrichment of data is quite a cyclical process. As you investigate the data you have new ideas on how to fix and enrich it and you will then again check whether you have any missing or clearly wrong values in your dataset. \n",
    "\n",
    "Exploratory data analysis allows us as well to get a “feel” for our dataset and provides useful insights regarding the best techniques or models to use later on in the modelling stage. Data exploration can involve many different techniques and approaches but will invariably include generating __descriptive statistics__ and __visualising distributions__. Summarising our data in this way is not only useful for checking the assumptions that many models hold about our data but can also be useful to perform “sanity checks” when evaluating the output of the more complex models we use later on.\n",
    "\n",
    "<a id='quality_check'></a>\n",
    "## Data Quality Check\n",
    "### Missing Values"
   ]
  },
  {
   "cell_type": "code",
   "execution_count": 5,
   "metadata": {},
   "outputs": [
    {
     "name": "stdout",
     "output_type": "stream",
     "text": [
      "user_id - Missing: 0 - Unique: 9937\n",
      "program_id - Missing: 33698 - Unique: 23857\n",
      "series_id - Missing: 33698 - Unique: 5921\n",
      "genre - Missing: 67719 - Unique: 12\n",
      "programme_duration - Missing: 33698 - Unique: 891\n",
      "streaming_id - Missing: 0 - Unique: 434430\n",
      "start_date_time - Missing: 0 - Unique: 490626\n",
      "time_viewed - Missing: 1900 - Unique: 259532\n",
      "weekday - Missing: 0 - Unique: 7\n",
      "time_of_day - Missing: 0 - Unique: 4\n",
      "programme_duration_mins - Missing: 33698 - Unique: 891\n",
      "twoweek - Missing: 0 - Unique: 10\n",
      "min_watched - Missing: 1900 - Unique: 259532\n"
     ]
    }
   ],
   "source": [
    "# Check how many missing and unique values there are per column\n",
    "features=data.columns.values\n",
    "for feature in features:\n",
    "    print(feature,'- Missing:', \n",
    "          sum(data[feature].isnull()),\n",
    "          '- Unique:', len(data[feature].unique()))"
   ]
  },
  {
   "cell_type": "markdown",
   "metadata": {},
   "source": [
    "Sometimes we can improve our model by not dropping rows with missing data, but instead trying to impute what the missing values should be.  _Scikit_ has a whole set of functions for this (such as imputing the median or a fixed number), but we will create our own functions in this case because it makes it more clear what we are doing. \n",
    "\n",
    "It is important to remember that by imputing data into empty fields we are almost always __making assumptions__ about the structure of the data. These assumptions can be more or less valid. For example, to impute genre, we may choose series ID or we may choose broadcast hour. If we impute from series ID we are making the assumption that all programs within a specific series will have the same genre. Alternatively, if we impute from broadcast hour we are assuming that all shows broadcast at a specific hour of the day are the same genre. You must judge for yourself whether these assumptions are valid or not. \n",
    " \n",
    "Since the field `genre` has only a small number of possible values but quite a large number of missing values, we will start by imputing it to reduce the amount of missing data. After that the most useful column to impute is probably `programme_duration`, again because it is quite easy to impute and will remove a fair amount of missing data. \n",
    "\n",
    "We could also think about imputing `series_id` as well if we wanted to get really clever at a later stage (maybe the same programme sometimes has a `series_id` and sometimes it doesn't). \n",
    "\n",
    "For the other missing variables imputation probably makes little sense at this stage. \n",
    "\n",
    "Again, usually we would cycle through the whole process of imputing data > building features > building/training models > evaluating models multiple times. By having a clear success metric, it makes it much easier for us to see whether any of the additional complexity delivers value.\n",
    "\n",
    "#### Genre\n",
    "\n",
    "Let's see first whether we can guess the genre based on the id of the piece of content."
   ]
  },
  {
   "cell_type": "code",
   "execution_count": 6,
   "metadata": {},
   "outputs": [
    {
     "data": {
      "text/html": [
       "<div>\n",
       "<style>\n",
       "    .dataframe thead tr:only-child th {\n",
       "        text-align: right;\n",
       "    }\n",
       "\n",
       "    .dataframe thead th {\n",
       "        text-align: left;\n",
       "    }\n",
       "\n",
       "    .dataframe tbody tr th {\n",
       "        vertical-align: top;\n",
       "    }\n",
       "</style>\n",
       "<table border=\"1\" class=\"dataframe\">\n",
       "  <thead>\n",
       "    <tr style=\"text-align: right;\">\n",
       "      <th></th>\n",
       "      <th>series_id</th>\n",
       "      <th>enriched_genre</th>\n",
       "    </tr>\n",
       "  </thead>\n",
       "  <tbody>\n",
       "    <tr>\n",
       "      <th>0</th>\n",
       "      <td>001b96</td>\n",
       "      <td>Factual</td>\n",
       "    </tr>\n",
       "    <tr>\n",
       "      <th>1</th>\n",
       "      <td>00389f</td>\n",
       "      <td>Factual</td>\n",
       "    </tr>\n",
       "    <tr>\n",
       "      <th>2</th>\n",
       "      <td>00400b</td>\n",
       "      <td>Children's</td>\n",
       "    </tr>\n",
       "    <tr>\n",
       "      <th>3</th>\n",
       "      <td>00434d</td>\n",
       "      <td>Factual</td>\n",
       "    </tr>\n",
       "    <tr>\n",
       "      <th>4</th>\n",
       "      <td>0079b7</td>\n",
       "      <td>Factual</td>\n",
       "    </tr>\n",
       "  </tbody>\n",
       "</table>\n",
       "</div>"
      ],
      "text/plain": [
       "  series_id enriched_genre\n",
       "0    001b96        Factual\n",
       "1    00389f        Factual\n",
       "2    00400b     Children's\n",
       "3    00434d        Factual\n",
       "4    0079b7        Factual"
      ]
     },
     "execution_count": 6,
     "metadata": {},
     "output_type": "execute_result"
    }
   ],
   "source": [
    "# First create a data frame that maps each piece of content with its genre\n",
    "series_mapping=pd.pivot_table(data,values='streaming_id',\n",
    "                              index=['series_id'],\n",
    "                              columns=['genre'],\n",
    "                              aggfunc=len).idxmax(axis=1)\n",
    "series_mapping=pd.DataFrame(series_mapping).reset_index().rename(columns={0:'enriched_genre'})\n",
    "series_mapping.head()"
   ]
  },
  {
   "cell_type": "code",
   "execution_count": 7,
   "metadata": {},
   "outputs": [
    {
     "data": {
      "text/html": [
       "<div>\n",
       "<style>\n",
       "    .dataframe thead tr:only-child th {\n",
       "        text-align: right;\n",
       "    }\n",
       "\n",
       "    .dataframe thead th {\n",
       "        text-align: left;\n",
       "    }\n",
       "\n",
       "    .dataframe tbody tr th {\n",
       "        vertical-align: top;\n",
       "    }\n",
       "</style>\n",
       "<table border=\"1\" class=\"dataframe\">\n",
       "  <thead>\n",
       "    <tr style=\"text-align: right;\">\n",
       "      <th></th>\n",
       "      <th>user_id</th>\n",
       "      <th>program_id</th>\n",
       "      <th>series_id</th>\n",
       "      <th>genre</th>\n",
       "      <th>programme_duration</th>\n",
       "      <th>streaming_id</th>\n",
       "      <th>start_date_time</th>\n",
       "      <th>time_viewed</th>\n",
       "      <th>weekday</th>\n",
       "      <th>time_of_day</th>\n",
       "      <th>programme_duration_mins</th>\n",
       "      <th>twoweek</th>\n",
       "      <th>min_watched</th>\n",
       "      <th>enriched_genre</th>\n",
       "    </tr>\n",
       "  </thead>\n",
       "  <tbody>\n",
       "    <tr>\n",
       "      <th>134</th>\n",
       "      <td>3387a6</td>\n",
       "      <td>47f8c1</td>\n",
       "      <td>c9cc1a</td>\n",
       "      <td>NaN</td>\n",
       "      <td>00:00:00</td>\n",
       "      <td>1485900618555_1</td>\n",
       "      <td>2017-01-31 22:10:20.049</td>\n",
       "      <td>3584.0</td>\n",
       "      <td>weekday_1</td>\n",
       "      <td>Evening</td>\n",
       "      <td>0.0</td>\n",
       "      <td>2</td>\n",
       "      <td>0.059733</td>\n",
       "      <td>Factual</td>\n",
       "    </tr>\n",
       "    <tr>\n",
       "      <th>140</th>\n",
       "      <td>3387a6</td>\n",
       "      <td>NaN</td>\n",
       "      <td>NaN</td>\n",
       "      <td>NaN</td>\n",
       "      <td>NaN</td>\n",
       "      <td>1489439401348_1</td>\n",
       "      <td>2017-03-13 21:10:02.421</td>\n",
       "      <td>3730.0</td>\n",
       "      <td>weekday_0</td>\n",
       "      <td>Evening</td>\n",
       "      <td>NaN</td>\n",
       "      <td>5</td>\n",
       "      <td>0.062167</td>\n",
       "      <td>NaN</td>\n",
       "    </tr>\n",
       "    <tr>\n",
       "      <th>141</th>\n",
       "      <td>3387a6</td>\n",
       "      <td>NaN</td>\n",
       "      <td>NaN</td>\n",
       "      <td>NaN</td>\n",
       "      <td>NaN</td>\n",
       "      <td>1485100892026_1</td>\n",
       "      <td>2017-01-22 16:01:34.292</td>\n",
       "      <td>3634.0</td>\n",
       "      <td>weekday_6</td>\n",
       "      <td>Afternoon</td>\n",
       "      <td>NaN</td>\n",
       "      <td>1</td>\n",
       "      <td>0.060567</td>\n",
       "      <td>NaN</td>\n",
       "    </tr>\n",
       "    <tr>\n",
       "      <th>142</th>\n",
       "      <td>3387a6</td>\n",
       "      <td>NaN</td>\n",
       "      <td>NaN</td>\n",
       "      <td>NaN</td>\n",
       "      <td>NaN</td>\n",
       "      <td>1489441109070_3</td>\n",
       "      <td>2017-03-13 21:38:30.203</td>\n",
       "      <td>3651.0</td>\n",
       "      <td>weekday_0</td>\n",
       "      <td>Evening</td>\n",
       "      <td>NaN</td>\n",
       "      <td>5</td>\n",
       "      <td>0.060850</td>\n",
       "      <td>NaN</td>\n",
       "    </tr>\n",
       "    <tr>\n",
       "      <th>143</th>\n",
       "      <td>3387a6</td>\n",
       "      <td>NaN</td>\n",
       "      <td>NaN</td>\n",
       "      <td>NaN</td>\n",
       "      <td>NaN</td>\n",
       "      <td>1493538827057_2</td>\n",
       "      <td>2017-04-30 07:53:47.559</td>\n",
       "      <td>3665.0</td>\n",
       "      <td>weekday_6</td>\n",
       "      <td>Morning</td>\n",
       "      <td>NaN</td>\n",
       "      <td>8</td>\n",
       "      <td>0.061083</td>\n",
       "      <td>NaN</td>\n",
       "    </tr>\n",
       "  </tbody>\n",
       "</table>\n",
       "</div>"
      ],
      "text/plain": [
       "    user_id program_id series_id genre programme_duration     streaming_id  \\\n",
       "134  3387a6     47f8c1    c9cc1a   NaN           00:00:00  1485900618555_1   \n",
       "140  3387a6        NaN       NaN   NaN                NaN  1489439401348_1   \n",
       "141  3387a6        NaN       NaN   NaN                NaN  1485100892026_1   \n",
       "142  3387a6        NaN       NaN   NaN                NaN  1489441109070_3   \n",
       "143  3387a6        NaN       NaN   NaN                NaN  1493538827057_2   \n",
       "\n",
       "            start_date_time  time_viewed    weekday time_of_day  \\\n",
       "134 2017-01-31 22:10:20.049       3584.0  weekday_1     Evening   \n",
       "140 2017-03-13 21:10:02.421       3730.0  weekday_0     Evening   \n",
       "141 2017-01-22 16:01:34.292       3634.0  weekday_6   Afternoon   \n",
       "142 2017-03-13 21:38:30.203       3651.0  weekday_0     Evening   \n",
       "143 2017-04-30 07:53:47.559       3665.0  weekday_6     Morning   \n",
       "\n",
       "     programme_duration_mins  twoweek  min_watched enriched_genre  \n",
       "134                      0.0        2     0.059733        Factual  \n",
       "140                      NaN        5     0.062167            NaN  \n",
       "141                      NaN        1     0.060567            NaN  \n",
       "142                      NaN        5     0.060850            NaN  \n",
       "143                      NaN        8     0.061083            NaN  "
      ]
     },
     "execution_count": 7,
     "metadata": {},
     "output_type": "execute_result"
    }
   ],
   "source": [
    "# Let's merge in the genre back into the data\n",
    "data=pd.merge(data,series_mapping,how='left',on='series_id')\n",
    "data[data['genre'].isnull()].head()"
   ]
  },
  {
   "cell_type": "code",
   "execution_count": 8,
   "metadata": {},
   "outputs": [
    {
     "name": "stdout",
     "output_type": "stream",
     "text": [
      "genre - Missing: 67719 - Unique: 12\n",
      "enriched_genre - Missing: 43829 - Unique: 12\n"
     ]
    }
   ],
   "source": [
    "# Check how many missing and unique values for this column\n",
    "features=['genre','enriched_genre']\n",
    "for feature in features:\n",
    "    print(feature,'- Missing:',sum(data[feature].isnull()),\n",
    "          '- Unique:', len(data[feature].unique()))"
   ]
  },
  {
   "cell_type": "markdown",
   "metadata": {},
   "source": [
    "So while this has made things better (compare `genre` to `enriched_genre`), we are still missing the genre for a lot of different rows of data.\n",
    "\n",
    "Let's try to infer the genre based on seasonality patterns."
   ]
  },
  {
   "cell_type": "code",
   "execution_count": 9,
   "metadata": {},
   "outputs": [
    {
     "data": {
      "text/html": [
       "<div>\n",
       "<style>\n",
       "    .dataframe thead tr:only-child th {\n",
       "        text-align: right;\n",
       "    }\n",
       "\n",
       "    .dataframe thead th {\n",
       "        text-align: left;\n",
       "    }\n",
       "\n",
       "    .dataframe tbody tr th {\n",
       "        vertical-align: top;\n",
       "    }\n",
       "</style>\n",
       "<table border=\"1\" class=\"dataframe\">\n",
       "  <thead>\n",
       "    <tr style=\"text-align: right;\">\n",
       "      <th></th>\n",
       "      <th>time_of_day</th>\n",
       "      <th>enriched_genre</th>\n",
       "    </tr>\n",
       "  </thead>\n",
       "  <tbody>\n",
       "    <tr>\n",
       "      <th>0</th>\n",
       "      <td>Afternoon</td>\n",
       "      <td>Factual</td>\n",
       "    </tr>\n",
       "    <tr>\n",
       "      <th>1</th>\n",
       "      <td>Evening</td>\n",
       "      <td>Factual</td>\n",
       "    </tr>\n",
       "    <tr>\n",
       "      <th>2</th>\n",
       "      <td>Morning</td>\n",
       "      <td>Factual</td>\n",
       "    </tr>\n",
       "    <tr>\n",
       "      <th>3</th>\n",
       "      <td>Night</td>\n",
       "      <td>Factual</td>\n",
       "    </tr>\n",
       "  </tbody>\n",
       "</table>\n",
       "</div>"
      ],
      "text/plain": [
       "  time_of_day enriched_genre\n",
       "0   Afternoon        Factual\n",
       "1     Evening        Factual\n",
       "2     Morning        Factual\n",
       "3       Night        Factual"
      ]
     },
     "execution_count": 9,
     "metadata": {},
     "output_type": "execute_result"
    }
   ],
   "source": [
    "# What genre is the most popular at which time of day\n",
    "genre_by_time=pd.pivot_table(data,values='streaming_id',\n",
    "                             index=['time_of_day'],\n",
    "                             columns=['enriched_genre'],\n",
    "                             aggfunc=len).idxmax(axis=1)\n",
    "genre_by_time=pd.DataFrame(genre_by_time).reset_index().rename(columns={0:'enriched_genre'})\n",
    "genre_by_time"
   ]
  },
  {
   "cell_type": "markdown",
   "metadata": {},
   "source": [
    "Maybe the time of the day isn't granular enough. Let's consider the hour the content is displayed."
   ]
  },
  {
   "cell_type": "code",
   "execution_count": 10,
   "metadata": {},
   "outputs": [
    {
     "data": {
      "text/html": [
       "<div>\n",
       "<style>\n",
       "    .dataframe thead tr:only-child th {\n",
       "        text-align: right;\n",
       "    }\n",
       "\n",
       "    .dataframe thead th {\n",
       "        text-align: left;\n",
       "    }\n",
       "\n",
       "    .dataframe tbody tr th {\n",
       "        vertical-align: top;\n",
       "    }\n",
       "</style>\n",
       "<table border=\"1\" class=\"dataframe\">\n",
       "  <thead>\n",
       "    <tr style=\"text-align: right;\">\n",
       "      <th></th>\n",
       "      <th>hour</th>\n",
       "      <th>enriched_genre_hour</th>\n",
       "    </tr>\n",
       "  </thead>\n",
       "  <tbody>\n",
       "    <tr>\n",
       "      <th>0</th>\n",
       "      <td>0</td>\n",
       "      <td>Factual</td>\n",
       "    </tr>\n",
       "    <tr>\n",
       "      <th>1</th>\n",
       "      <td>1</td>\n",
       "      <td>Factual</td>\n",
       "    </tr>\n",
       "    <tr>\n",
       "      <th>2</th>\n",
       "      <td>2</td>\n",
       "      <td>Factual</td>\n",
       "    </tr>\n",
       "    <tr>\n",
       "      <th>3</th>\n",
       "      <td>3</td>\n",
       "      <td>Factual</td>\n",
       "    </tr>\n",
       "    <tr>\n",
       "      <th>4</th>\n",
       "      <td>4</td>\n",
       "      <td>Factual</td>\n",
       "    </tr>\n",
       "    <tr>\n",
       "      <th>5</th>\n",
       "      <td>5</td>\n",
       "      <td>News</td>\n",
       "    </tr>\n",
       "    <tr>\n",
       "      <th>6</th>\n",
       "      <td>6</td>\n",
       "      <td>News</td>\n",
       "    </tr>\n",
       "    <tr>\n",
       "      <th>7</th>\n",
       "      <td>7</td>\n",
       "      <td>Factual</td>\n",
       "    </tr>\n",
       "    <tr>\n",
       "      <th>8</th>\n",
       "      <td>8</td>\n",
       "      <td>Factual</td>\n",
       "    </tr>\n",
       "    <tr>\n",
       "      <th>9</th>\n",
       "      <td>9</td>\n",
       "      <td>Factual</td>\n",
       "    </tr>\n",
       "    <tr>\n",
       "      <th>10</th>\n",
       "      <td>10</td>\n",
       "      <td>Factual</td>\n",
       "    </tr>\n",
       "    <tr>\n",
       "      <th>11</th>\n",
       "      <td>11</td>\n",
       "      <td>Factual</td>\n",
       "    </tr>\n",
       "    <tr>\n",
       "      <th>12</th>\n",
       "      <td>12</td>\n",
       "      <td>Factual</td>\n",
       "    </tr>\n",
       "    <tr>\n",
       "      <th>13</th>\n",
       "      <td>13</td>\n",
       "      <td>Factual</td>\n",
       "    </tr>\n",
       "    <tr>\n",
       "      <th>14</th>\n",
       "      <td>14</td>\n",
       "      <td>Factual</td>\n",
       "    </tr>\n",
       "    <tr>\n",
       "      <th>15</th>\n",
       "      <td>15</td>\n",
       "      <td>Factual</td>\n",
       "    </tr>\n",
       "    <tr>\n",
       "      <th>16</th>\n",
       "      <td>16</td>\n",
       "      <td>Factual</td>\n",
       "    </tr>\n",
       "    <tr>\n",
       "      <th>17</th>\n",
       "      <td>17</td>\n",
       "      <td>Factual</td>\n",
       "    </tr>\n",
       "    <tr>\n",
       "      <th>18</th>\n",
       "      <td>18</td>\n",
       "      <td>Factual</td>\n",
       "    </tr>\n",
       "    <tr>\n",
       "      <th>19</th>\n",
       "      <td>19</td>\n",
       "      <td>Factual</td>\n",
       "    </tr>\n",
       "    <tr>\n",
       "      <th>20</th>\n",
       "      <td>20</td>\n",
       "      <td>Factual</td>\n",
       "    </tr>\n",
       "    <tr>\n",
       "      <th>21</th>\n",
       "      <td>21</td>\n",
       "      <td>Drama</td>\n",
       "    </tr>\n",
       "    <tr>\n",
       "      <th>22</th>\n",
       "      <td>22</td>\n",
       "      <td>Drama</td>\n",
       "    </tr>\n",
       "    <tr>\n",
       "      <th>23</th>\n",
       "      <td>23</td>\n",
       "      <td>Factual</td>\n",
       "    </tr>\n",
       "  </tbody>\n",
       "</table>\n",
       "</div>"
      ],
      "text/plain": [
       "    hour enriched_genre_hour\n",
       "0      0             Factual\n",
       "1      1             Factual\n",
       "2      2             Factual\n",
       "3      3             Factual\n",
       "4      4             Factual\n",
       "5      5                News\n",
       "6      6                News\n",
       "7      7             Factual\n",
       "8      8             Factual\n",
       "9      9             Factual\n",
       "10    10             Factual\n",
       "11    11             Factual\n",
       "12    12             Factual\n",
       "13    13             Factual\n",
       "14    14             Factual\n",
       "15    15             Factual\n",
       "16    16             Factual\n",
       "17    17             Factual\n",
       "18    18             Factual\n",
       "19    19             Factual\n",
       "20    20             Factual\n",
       "21    21               Drama\n",
       "22    22               Drama\n",
       "23    23             Factual"
      ]
     },
     "execution_count": 10,
     "metadata": {},
     "output_type": "execute_result"
    }
   ],
   "source": [
    "# What genre is the most popular at which hour of day\n",
    "# Rmk: we first need to build this new feature\n",
    "data['hour']=data.start_date_time.apply(lambda x:x.hour)\n",
    "genre_by_hour=pd.pivot_table(data,values='streaming_id',\n",
    "                             index=['hour'],\n",
    "                             columns=['enriched_genre'],\n",
    "                             aggfunc=len).idxmax(axis=1)\n",
    "genre_by_hour=pd.DataFrame(genre_by_hour).reset_index().rename(columns={0:'enriched_genre_hour'})\n",
    "genre_by_hour"
   ]
  },
  {
   "cell_type": "markdown",
   "metadata": {},
   "source": [
    "With this granularity we can get the news pattern in the morning and the movies at night."
   ]
  },
  {
   "cell_type": "code",
   "execution_count": 11,
   "metadata": {},
   "outputs": [
    {
     "data": {
      "text/html": [
       "<div>\n",
       "<style>\n",
       "    .dataframe thead tr:only-child th {\n",
       "        text-align: right;\n",
       "    }\n",
       "\n",
       "    .dataframe thead th {\n",
       "        text-align: left;\n",
       "    }\n",
       "\n",
       "    .dataframe tbody tr th {\n",
       "        vertical-align: top;\n",
       "    }\n",
       "</style>\n",
       "<table border=\"1\" class=\"dataframe\">\n",
       "  <thead>\n",
       "    <tr style=\"text-align: right;\">\n",
       "      <th></th>\n",
       "      <th>user_id</th>\n",
       "      <th>program_id</th>\n",
       "      <th>series_id</th>\n",
       "      <th>genre</th>\n",
       "      <th>programme_duration</th>\n",
       "      <th>streaming_id</th>\n",
       "      <th>start_date_time</th>\n",
       "      <th>time_viewed</th>\n",
       "      <th>weekday</th>\n",
       "      <th>time_of_day</th>\n",
       "      <th>programme_duration_mins</th>\n",
       "      <th>twoweek</th>\n",
       "      <th>min_watched</th>\n",
       "      <th>enriched_genre</th>\n",
       "      <th>hour</th>\n",
       "      <th>enriched_genre_hour</th>\n",
       "    </tr>\n",
       "  </thead>\n",
       "  <tbody>\n",
       "    <tr>\n",
       "      <th>0</th>\n",
       "      <td>cd2006</td>\n",
       "      <td>f6d3d8</td>\n",
       "      <td>a282ca</td>\n",
       "      <td>Factual</td>\n",
       "      <td>00:00:21</td>\n",
       "      <td>1486911129420_1</td>\n",
       "      <td>2017-02-12 14:51:24.544</td>\n",
       "      <td>20920.0</td>\n",
       "      <td>weekday_6</td>\n",
       "      <td>Afternoon</td>\n",
       "      <td>0.21</td>\n",
       "      <td>3</td>\n",
       "      <td>0.348667</td>\n",
       "      <td>Factual</td>\n",
       "      <td>14</td>\n",
       "      <td>Factual</td>\n",
       "    </tr>\n",
       "    <tr>\n",
       "      <th>1</th>\n",
       "      <td>cd2006</td>\n",
       "      <td>b8fbf2</td>\n",
       "      <td>e0480e</td>\n",
       "      <td>Comedy</td>\n",
       "      <td>00:01:51</td>\n",
       "      <td>1484864257965_1</td>\n",
       "      <td>2017-01-19 22:17:04.648</td>\n",
       "      <td>111285.0</td>\n",
       "      <td>weekday_3</td>\n",
       "      <td>Evening</td>\n",
       "      <td>1.51</td>\n",
       "      <td>1</td>\n",
       "      <td>1.854750</td>\n",
       "      <td>Comedy</td>\n",
       "      <td>22</td>\n",
       "      <td>Drama</td>\n",
       "    </tr>\n",
       "    <tr>\n",
       "      <th>2</th>\n",
       "      <td>cd2006</td>\n",
       "      <td>e2f113</td>\n",
       "      <td>933a1b</td>\n",
       "      <td>Factual</td>\n",
       "      <td>00:00:30</td>\n",
       "      <td>1487099603980_1</td>\n",
       "      <td>2017-02-14 19:12:36.667</td>\n",
       "      <td>29945.0</td>\n",
       "      <td>weekday_1</td>\n",
       "      <td>Evening</td>\n",
       "      <td>0.30</td>\n",
       "      <td>3</td>\n",
       "      <td>0.499083</td>\n",
       "      <td>Factual</td>\n",
       "      <td>19</td>\n",
       "      <td>Factual</td>\n",
       "    </tr>\n",
       "    <tr>\n",
       "      <th>3</th>\n",
       "      <td>cd2006</td>\n",
       "      <td>0e0916</td>\n",
       "      <td>b68e79</td>\n",
       "      <td>Entertainment</td>\n",
       "      <td>00:01:22</td>\n",
       "      <td>1484773546557_1</td>\n",
       "      <td>2017-01-18 21:05:11.466</td>\n",
       "      <td>82620.0</td>\n",
       "      <td>weekday_2</td>\n",
       "      <td>Evening</td>\n",
       "      <td>1.22</td>\n",
       "      <td>1</td>\n",
       "      <td>1.377000</td>\n",
       "      <td>Entertainment</td>\n",
       "      <td>21</td>\n",
       "      <td>Drama</td>\n",
       "    </tr>\n",
       "    <tr>\n",
       "      <th>4</th>\n",
       "      <td>cd2006</td>\n",
       "      <td>ca03b9</td>\n",
       "      <td>5d0813</td>\n",
       "      <td>Sport</td>\n",
       "      <td>00:01:37</td>\n",
       "      <td>1486911176609_1</td>\n",
       "      <td>2017-02-12 14:52:08.965</td>\n",
       "      <td>97444.0</td>\n",
       "      <td>weekday_6</td>\n",
       "      <td>Afternoon</td>\n",
       "      <td>1.37</td>\n",
       "      <td>3</td>\n",
       "      <td>1.624067</td>\n",
       "      <td>Sport</td>\n",
       "      <td>14</td>\n",
       "      <td>Factual</td>\n",
       "    </tr>\n",
       "  </tbody>\n",
       "</table>\n",
       "</div>"
      ],
      "text/plain": [
       "  user_id program_id series_id          genre programme_duration  \\\n",
       "0  cd2006     f6d3d8    a282ca        Factual           00:00:21   \n",
       "1  cd2006     b8fbf2    e0480e         Comedy           00:01:51   \n",
       "2  cd2006     e2f113    933a1b        Factual           00:00:30   \n",
       "3  cd2006     0e0916    b68e79  Entertainment           00:01:22   \n",
       "4  cd2006     ca03b9    5d0813          Sport           00:01:37   \n",
       "\n",
       "      streaming_id         start_date_time  time_viewed    weekday  \\\n",
       "0  1486911129420_1 2017-02-12 14:51:24.544      20920.0  weekday_6   \n",
       "1  1484864257965_1 2017-01-19 22:17:04.648     111285.0  weekday_3   \n",
       "2  1487099603980_1 2017-02-14 19:12:36.667      29945.0  weekday_1   \n",
       "3  1484773546557_1 2017-01-18 21:05:11.466      82620.0  weekday_2   \n",
       "4  1486911176609_1 2017-02-12 14:52:08.965      97444.0  weekday_6   \n",
       "\n",
       "  time_of_day  programme_duration_mins  twoweek  min_watched enriched_genre  \\\n",
       "0   Afternoon                     0.21        3     0.348667        Factual   \n",
       "1     Evening                     1.51        1     1.854750         Comedy   \n",
       "2     Evening                     0.30        3     0.499083        Factual   \n",
       "3     Evening                     1.22        1     1.377000  Entertainment   \n",
       "4   Afternoon                     1.37        3     1.624067          Sport   \n",
       "\n",
       "   hour enriched_genre_hour  \n",
       "0    14             Factual  \n",
       "1    22               Drama  \n",
       "2    19             Factual  \n",
       "3    21               Drama  \n",
       "4    14             Factual  "
      ]
     },
     "execution_count": 11,
     "metadata": {},
     "output_type": "execute_result"
    }
   ],
   "source": [
    "# Let's merge in the genre back into the data\n",
    "data=pd.merge(data,genre_by_hour,how='left',on='hour')\n",
    "data.head()"
   ]
  },
  {
   "cell_type": "code",
   "execution_count": 12,
   "metadata": {
    "collapsed": true
   },
   "outputs": [],
   "source": [
    "# Function that imputes a genre based on the series id or the time of day if data is missing\n",
    "def impute_genre(row):\n",
    "    if isinstance(row['genre'],str):\n",
    "        return row['genre']\n",
    "    elif isinstance(row['enriched_genre'],str):\n",
    "        return row['enriched_genre']\n",
    "    else:\n",
    "        return row['enriched_genre_hour']"
   ]
  },
  {
   "cell_type": "code",
   "execution_count": 13,
   "metadata": {
    "collapsed": true
   },
   "outputs": [],
   "source": [
    "# Apply the function to the dataframe\n",
    "data['enriched_genre']=data.apply(impute_genre, axis=1)"
   ]
  },
  {
   "cell_type": "code",
   "execution_count": 14,
   "metadata": {},
   "outputs": [
    {
     "name": "stdout",
     "output_type": "stream",
     "text": [
      "genre - Missing: 67719 - Unique: 12\n",
      "enriched_genre - Missing: 0 - Unique: 11\n"
     ]
    }
   ],
   "source": [
    "# Check how many missing and unique values for this column\n",
    "features=['genre','enriched_genre']\n",
    "for feature in features:\n",
    "    print(feature,'- Missing:',sum(data[feature].isnull()),\n",
    "          '- Unique:', len(data[feature].unique()))"
   ]
  },
  {
   "cell_type": "markdown",
   "metadata": {},
   "source": [
    "#### Programme duration\n",
    "\n",
    "Now we can impute the length of a programme as well. The assumption we are making here is that the length of programmes of the same genre should be similar. \n",
    "\n",
    "Since our data is unlikely to be normally distributed we will use the median instead of the mean as our \"average\" programme duration."
   ]
  },
  {
   "cell_type": "code",
   "execution_count": 15,
   "metadata": {},
   "outputs": [
    {
     "data": {
      "text/html": [
       "<div>\n",
       "<style>\n",
       "    .dataframe thead tr:only-child th {\n",
       "        text-align: right;\n",
       "    }\n",
       "\n",
       "    .dataframe thead th {\n",
       "        text-align: left;\n",
       "    }\n",
       "\n",
       "    .dataframe tbody tr th {\n",
       "        vertical-align: top;\n",
       "    }\n",
       "</style>\n",
       "<table border=\"1\" class=\"dataframe\">\n",
       "  <thead>\n",
       "    <tr style=\"text-align: right;\">\n",
       "      <th></th>\n",
       "      <th>user_id</th>\n",
       "      <th>program_id</th>\n",
       "      <th>series_id</th>\n",
       "      <th>genre</th>\n",
       "      <th>programme_duration</th>\n",
       "      <th>streaming_id</th>\n",
       "      <th>start_date_time</th>\n",
       "      <th>time_viewed</th>\n",
       "      <th>weekday</th>\n",
       "      <th>time_of_day</th>\n",
       "      <th>programme_duration_mins</th>\n",
       "      <th>twoweek</th>\n",
       "      <th>min_watched</th>\n",
       "      <th>enriched_genre</th>\n",
       "      <th>hour</th>\n",
       "      <th>enriched_genre_hour</th>\n",
       "    </tr>\n",
       "  </thead>\n",
       "  <tbody>\n",
       "    <tr>\n",
       "      <th>134</th>\n",
       "      <td>3387a6</td>\n",
       "      <td>47f8c1</td>\n",
       "      <td>c9cc1a</td>\n",
       "      <td>NaN</td>\n",
       "      <td>00:00:00</td>\n",
       "      <td>1485900618555_1</td>\n",
       "      <td>2017-01-31 22:10:20.049</td>\n",
       "      <td>3584.0</td>\n",
       "      <td>weekday_1</td>\n",
       "      <td>Evening</td>\n",
       "      <td>0.0</td>\n",
       "      <td>2</td>\n",
       "      <td>0.059733</td>\n",
       "      <td>Factual</td>\n",
       "      <td>22</td>\n",
       "      <td>Drama</td>\n",
       "    </tr>\n",
       "    <tr>\n",
       "      <th>140</th>\n",
       "      <td>3387a6</td>\n",
       "      <td>NaN</td>\n",
       "      <td>NaN</td>\n",
       "      <td>NaN</td>\n",
       "      <td>NaN</td>\n",
       "      <td>1489439401348_1</td>\n",
       "      <td>2017-03-13 21:10:02.421</td>\n",
       "      <td>3730.0</td>\n",
       "      <td>weekday_0</td>\n",
       "      <td>Evening</td>\n",
       "      <td>NaN</td>\n",
       "      <td>5</td>\n",
       "      <td>0.062167</td>\n",
       "      <td>Drama</td>\n",
       "      <td>21</td>\n",
       "      <td>Drama</td>\n",
       "    </tr>\n",
       "    <tr>\n",
       "      <th>141</th>\n",
       "      <td>3387a6</td>\n",
       "      <td>NaN</td>\n",
       "      <td>NaN</td>\n",
       "      <td>NaN</td>\n",
       "      <td>NaN</td>\n",
       "      <td>1485100892026_1</td>\n",
       "      <td>2017-01-22 16:01:34.292</td>\n",
       "      <td>3634.0</td>\n",
       "      <td>weekday_6</td>\n",
       "      <td>Afternoon</td>\n",
       "      <td>NaN</td>\n",
       "      <td>1</td>\n",
       "      <td>0.060567</td>\n",
       "      <td>Factual</td>\n",
       "      <td>16</td>\n",
       "      <td>Factual</td>\n",
       "    </tr>\n",
       "    <tr>\n",
       "      <th>142</th>\n",
       "      <td>3387a6</td>\n",
       "      <td>NaN</td>\n",
       "      <td>NaN</td>\n",
       "      <td>NaN</td>\n",
       "      <td>NaN</td>\n",
       "      <td>1489441109070_3</td>\n",
       "      <td>2017-03-13 21:38:30.203</td>\n",
       "      <td>3651.0</td>\n",
       "      <td>weekday_0</td>\n",
       "      <td>Evening</td>\n",
       "      <td>NaN</td>\n",
       "      <td>5</td>\n",
       "      <td>0.060850</td>\n",
       "      <td>Drama</td>\n",
       "      <td>21</td>\n",
       "      <td>Drama</td>\n",
       "    </tr>\n",
       "    <tr>\n",
       "      <th>143</th>\n",
       "      <td>3387a6</td>\n",
       "      <td>NaN</td>\n",
       "      <td>NaN</td>\n",
       "      <td>NaN</td>\n",
       "      <td>NaN</td>\n",
       "      <td>1493538827057_2</td>\n",
       "      <td>2017-04-30 07:53:47.559</td>\n",
       "      <td>3665.0</td>\n",
       "      <td>weekday_6</td>\n",
       "      <td>Morning</td>\n",
       "      <td>NaN</td>\n",
       "      <td>8</td>\n",
       "      <td>0.061083</td>\n",
       "      <td>Factual</td>\n",
       "      <td>7</td>\n",
       "      <td>Factual</td>\n",
       "    </tr>\n",
       "  </tbody>\n",
       "</table>\n",
       "</div>"
      ],
      "text/plain": [
       "    user_id program_id series_id genre programme_duration     streaming_id  \\\n",
       "134  3387a6     47f8c1    c9cc1a   NaN           00:00:00  1485900618555_1   \n",
       "140  3387a6        NaN       NaN   NaN                NaN  1489439401348_1   \n",
       "141  3387a6        NaN       NaN   NaN                NaN  1485100892026_1   \n",
       "142  3387a6        NaN       NaN   NaN                NaN  1489441109070_3   \n",
       "143  3387a6        NaN       NaN   NaN                NaN  1493538827057_2   \n",
       "\n",
       "            start_date_time  time_viewed    weekday time_of_day  \\\n",
       "134 2017-01-31 22:10:20.049       3584.0  weekday_1     Evening   \n",
       "140 2017-03-13 21:10:02.421       3730.0  weekday_0     Evening   \n",
       "141 2017-01-22 16:01:34.292       3634.0  weekday_6   Afternoon   \n",
       "142 2017-03-13 21:38:30.203       3651.0  weekday_0     Evening   \n",
       "143 2017-04-30 07:53:47.559       3665.0  weekday_6     Morning   \n",
       "\n",
       "     programme_duration_mins  twoweek  min_watched enriched_genre  hour  \\\n",
       "134                      0.0        2     0.059733        Factual    22   \n",
       "140                      NaN        5     0.062167          Drama    21   \n",
       "141                      NaN        1     0.060567        Factual    16   \n",
       "142                      NaN        5     0.060850          Drama    21   \n",
       "143                      NaN        8     0.061083        Factual     7   \n",
       "\n",
       "    enriched_genre_hour  \n",
       "134               Drama  \n",
       "140               Drama  \n",
       "141             Factual  \n",
       "142               Drama  \n",
       "143             Factual  "
      ]
     },
     "execution_count": 15,
     "metadata": {},
     "output_type": "execute_result"
    }
   ],
   "source": [
    "# Check whether this has worked\n",
    "data[data['genre'].isnull()].head()"
   ]
  },
  {
   "cell_type": "code",
   "execution_count": 16,
   "metadata": {},
   "outputs": [
    {
     "data": {
      "text/html": [
       "<div>\n",
       "<style>\n",
       "    .dataframe thead tr:only-child th {\n",
       "        text-align: right;\n",
       "    }\n",
       "\n",
       "    .dataframe thead th {\n",
       "        text-align: left;\n",
       "    }\n",
       "\n",
       "    .dataframe tbody tr th {\n",
       "        vertical-align: top;\n",
       "    }\n",
       "</style>\n",
       "<table border=\"1\" class=\"dataframe\">\n",
       "  <thead>\n",
       "    <tr style=\"text-align: right;\">\n",
       "      <th></th>\n",
       "      <th>enriched_genre</th>\n",
       "      <th>enriched_duration_mins</th>\n",
       "    </tr>\n",
       "  </thead>\n",
       "  <tbody>\n",
       "    <tr>\n",
       "      <th>0</th>\n",
       "      <td>Children's</td>\n",
       "      <td>15.0</td>\n",
       "    </tr>\n",
       "    <tr>\n",
       "      <th>1</th>\n",
       "      <td>Comedy</td>\n",
       "      <td>28.0</td>\n",
       "    </tr>\n",
       "    <tr>\n",
       "      <th>2</th>\n",
       "      <td>Drama</td>\n",
       "      <td>45.0</td>\n",
       "    </tr>\n",
       "    <tr>\n",
       "      <th>3</th>\n",
       "      <td>Entertainment</td>\n",
       "      <td>30.0</td>\n",
       "    </tr>\n",
       "    <tr>\n",
       "      <th>4</th>\n",
       "      <td>Factual</td>\n",
       "      <td>45.0</td>\n",
       "    </tr>\n",
       "    <tr>\n",
       "      <th>5</th>\n",
       "      <td>Learning</td>\n",
       "      <td>10.0</td>\n",
       "    </tr>\n",
       "    <tr>\n",
       "      <th>6</th>\n",
       "      <td>Music</td>\n",
       "      <td>60.0</td>\n",
       "    </tr>\n",
       "    <tr>\n",
       "      <th>7</th>\n",
       "      <td>News</td>\n",
       "      <td>30.0</td>\n",
       "    </tr>\n",
       "    <tr>\n",
       "      <th>8</th>\n",
       "      <td>Religion &amp; Ethics</td>\n",
       "      <td>60.0</td>\n",
       "    </tr>\n",
       "    <tr>\n",
       "      <th>9</th>\n",
       "      <td>Sport</td>\n",
       "      <td>80.0</td>\n",
       "    </tr>\n",
       "    <tr>\n",
       "      <th>10</th>\n",
       "      <td>Weather</td>\n",
       "      <td>30.0</td>\n",
       "    </tr>\n",
       "  </tbody>\n",
       "</table>\n",
       "</div>"
      ],
      "text/plain": [
       "       enriched_genre  enriched_duration_mins\n",
       "0          Children's                    15.0\n",
       "1              Comedy                    28.0\n",
       "2               Drama                    45.0\n",
       "3       Entertainment                    30.0\n",
       "4             Factual                    45.0\n",
       "5            Learning                    10.0\n",
       "6               Music                    60.0\n",
       "7                News                    30.0\n",
       "8   Religion & Ethics                    60.0\n",
       "9               Sport                    80.0\n",
       "10            Weather                    30.0"
      ]
     },
     "execution_count": 16,
     "metadata": {},
     "output_type": "execute_result"
    }
   ],
   "source": [
    "# Check the average length of a programme based on genre \n",
    "# Rmk: we rename the columns for merging afterwards\n",
    "length_by_genre=data.groupby('genre')['programme_duration_mins'].median()\n",
    "length_by_genre=pd.DataFrame(length_by_genre).reset_index().rename(columns={'programme_duration_mins':\n",
    "                                                            'enriched_duration_mins',\n",
    "                                                            'genre':'enriched_genre'})\n",
    "length_by_genre"
   ]
  },
  {
   "cell_type": "code",
   "execution_count": 17,
   "metadata": {},
   "outputs": [
    {
     "data": {
      "text/html": [
       "<div>\n",
       "<style>\n",
       "    .dataframe thead tr:only-child th {\n",
       "        text-align: right;\n",
       "    }\n",
       "\n",
       "    .dataframe thead th {\n",
       "        text-align: left;\n",
       "    }\n",
       "\n",
       "    .dataframe tbody tr th {\n",
       "        vertical-align: top;\n",
       "    }\n",
       "</style>\n",
       "<table border=\"1\" class=\"dataframe\">\n",
       "  <thead>\n",
       "    <tr style=\"text-align: right;\">\n",
       "      <th></th>\n",
       "      <th>user_id</th>\n",
       "      <th>program_id</th>\n",
       "      <th>series_id</th>\n",
       "      <th>genre</th>\n",
       "      <th>programme_duration</th>\n",
       "      <th>streaming_id</th>\n",
       "      <th>start_date_time</th>\n",
       "      <th>time_viewed</th>\n",
       "      <th>weekday</th>\n",
       "      <th>time_of_day</th>\n",
       "      <th>programme_duration_mins</th>\n",
       "      <th>twoweek</th>\n",
       "      <th>min_watched</th>\n",
       "      <th>enriched_genre</th>\n",
       "      <th>hour</th>\n",
       "      <th>enriched_genre_hour</th>\n",
       "      <th>enriched_duration_mins</th>\n",
       "    </tr>\n",
       "  </thead>\n",
       "  <tbody>\n",
       "    <tr>\n",
       "      <th>0</th>\n",
       "      <td>cd2006</td>\n",
       "      <td>f6d3d8</td>\n",
       "      <td>a282ca</td>\n",
       "      <td>Factual</td>\n",
       "      <td>00:00:21</td>\n",
       "      <td>1486911129420_1</td>\n",
       "      <td>2017-02-12 14:51:24.544</td>\n",
       "      <td>20920.0</td>\n",
       "      <td>weekday_6</td>\n",
       "      <td>Afternoon</td>\n",
       "      <td>0.21</td>\n",
       "      <td>3</td>\n",
       "      <td>0.348667</td>\n",
       "      <td>Factual</td>\n",
       "      <td>14</td>\n",
       "      <td>Factual</td>\n",
       "      <td>45.0</td>\n",
       "    </tr>\n",
       "    <tr>\n",
       "      <th>1</th>\n",
       "      <td>cd2006</td>\n",
       "      <td>b8fbf2</td>\n",
       "      <td>e0480e</td>\n",
       "      <td>Comedy</td>\n",
       "      <td>00:01:51</td>\n",
       "      <td>1484864257965_1</td>\n",
       "      <td>2017-01-19 22:17:04.648</td>\n",
       "      <td>111285.0</td>\n",
       "      <td>weekday_3</td>\n",
       "      <td>Evening</td>\n",
       "      <td>1.51</td>\n",
       "      <td>1</td>\n",
       "      <td>1.854750</td>\n",
       "      <td>Comedy</td>\n",
       "      <td>22</td>\n",
       "      <td>Drama</td>\n",
       "      <td>28.0</td>\n",
       "    </tr>\n",
       "    <tr>\n",
       "      <th>2</th>\n",
       "      <td>cd2006</td>\n",
       "      <td>e2f113</td>\n",
       "      <td>933a1b</td>\n",
       "      <td>Factual</td>\n",
       "      <td>00:00:30</td>\n",
       "      <td>1487099603980_1</td>\n",
       "      <td>2017-02-14 19:12:36.667</td>\n",
       "      <td>29945.0</td>\n",
       "      <td>weekday_1</td>\n",
       "      <td>Evening</td>\n",
       "      <td>0.30</td>\n",
       "      <td>3</td>\n",
       "      <td>0.499083</td>\n",
       "      <td>Factual</td>\n",
       "      <td>19</td>\n",
       "      <td>Factual</td>\n",
       "      <td>45.0</td>\n",
       "    </tr>\n",
       "    <tr>\n",
       "      <th>3</th>\n",
       "      <td>cd2006</td>\n",
       "      <td>0e0916</td>\n",
       "      <td>b68e79</td>\n",
       "      <td>Entertainment</td>\n",
       "      <td>00:01:22</td>\n",
       "      <td>1484773546557_1</td>\n",
       "      <td>2017-01-18 21:05:11.466</td>\n",
       "      <td>82620.0</td>\n",
       "      <td>weekday_2</td>\n",
       "      <td>Evening</td>\n",
       "      <td>1.22</td>\n",
       "      <td>1</td>\n",
       "      <td>1.377000</td>\n",
       "      <td>Entertainment</td>\n",
       "      <td>21</td>\n",
       "      <td>Drama</td>\n",
       "      <td>30.0</td>\n",
       "    </tr>\n",
       "    <tr>\n",
       "      <th>4</th>\n",
       "      <td>cd2006</td>\n",
       "      <td>ca03b9</td>\n",
       "      <td>5d0813</td>\n",
       "      <td>Sport</td>\n",
       "      <td>00:01:37</td>\n",
       "      <td>1486911176609_1</td>\n",
       "      <td>2017-02-12 14:52:08.965</td>\n",
       "      <td>97444.0</td>\n",
       "      <td>weekday_6</td>\n",
       "      <td>Afternoon</td>\n",
       "      <td>1.37</td>\n",
       "      <td>3</td>\n",
       "      <td>1.624067</td>\n",
       "      <td>Sport</td>\n",
       "      <td>14</td>\n",
       "      <td>Factual</td>\n",
       "      <td>80.0</td>\n",
       "    </tr>\n",
       "  </tbody>\n",
       "</table>\n",
       "</div>"
      ],
      "text/plain": [
       "  user_id program_id series_id          genre programme_duration  \\\n",
       "0  cd2006     f6d3d8    a282ca        Factual           00:00:21   \n",
       "1  cd2006     b8fbf2    e0480e         Comedy           00:01:51   \n",
       "2  cd2006     e2f113    933a1b        Factual           00:00:30   \n",
       "3  cd2006     0e0916    b68e79  Entertainment           00:01:22   \n",
       "4  cd2006     ca03b9    5d0813          Sport           00:01:37   \n",
       "\n",
       "      streaming_id         start_date_time  time_viewed    weekday  \\\n",
       "0  1486911129420_1 2017-02-12 14:51:24.544      20920.0  weekday_6   \n",
       "1  1484864257965_1 2017-01-19 22:17:04.648     111285.0  weekday_3   \n",
       "2  1487099603980_1 2017-02-14 19:12:36.667      29945.0  weekday_1   \n",
       "3  1484773546557_1 2017-01-18 21:05:11.466      82620.0  weekday_2   \n",
       "4  1486911176609_1 2017-02-12 14:52:08.965      97444.0  weekday_6   \n",
       "\n",
       "  time_of_day  programme_duration_mins  twoweek  min_watched enriched_genre  \\\n",
       "0   Afternoon                     0.21        3     0.348667        Factual   \n",
       "1     Evening                     1.51        1     1.854750         Comedy   \n",
       "2     Evening                     0.30        3     0.499083        Factual   \n",
       "3     Evening                     1.22        1     1.377000  Entertainment   \n",
       "4   Afternoon                     1.37        3     1.624067          Sport   \n",
       "\n",
       "   hour enriched_genre_hour  enriched_duration_mins  \n",
       "0    14             Factual                    45.0  \n",
       "1    22               Drama                    28.0  \n",
       "2    19             Factual                    45.0  \n",
       "3    21               Drama                    30.0  \n",
       "4    14             Factual                    80.0  "
      ]
     },
     "execution_count": 17,
     "metadata": {},
     "output_type": "execute_result"
    }
   ],
   "source": [
    "# Let's merge in the duration back into the data\n",
    "data=pd.merge(data,length_by_genre,how='left',on='enriched_genre')\n",
    "data.head()"
   ]
  },
  {
   "cell_type": "code",
   "execution_count": 18,
   "metadata": {
    "collapsed": true
   },
   "outputs": [],
   "source": [
    "# Function that imputes a duration based on the (enriched) genre\n",
    "def impute_duration(row):\n",
    "    if row['programme_duration_mins']>0:\n",
    "        return row['programme_duration_mins']\n",
    "    else:\n",
    "        return row['enriched_duration_mins']"
   ]
  },
  {
   "cell_type": "code",
   "execution_count": 19,
   "metadata": {
    "collapsed": true
   },
   "outputs": [],
   "source": [
    "# Apply the function to the dataframe\n",
    "data['enriched_duration_mins'] = data.apply(impute_duration, axis=1)"
   ]
  },
  {
   "cell_type": "code",
   "execution_count": 20,
   "metadata": {},
   "outputs": [
    {
     "data": {
      "text/html": [
       "<div>\n",
       "<style>\n",
       "    .dataframe thead tr:only-child th {\n",
       "        text-align: right;\n",
       "    }\n",
       "\n",
       "    .dataframe thead th {\n",
       "        text-align: left;\n",
       "    }\n",
       "\n",
       "    .dataframe tbody tr th {\n",
       "        vertical-align: top;\n",
       "    }\n",
       "</style>\n",
       "<table border=\"1\" class=\"dataframe\">\n",
       "  <thead>\n",
       "    <tr style=\"text-align: right;\">\n",
       "      <th></th>\n",
       "      <th>user_id</th>\n",
       "      <th>program_id</th>\n",
       "      <th>series_id</th>\n",
       "      <th>genre</th>\n",
       "      <th>programme_duration</th>\n",
       "      <th>streaming_id</th>\n",
       "      <th>start_date_time</th>\n",
       "      <th>time_viewed</th>\n",
       "      <th>weekday</th>\n",
       "      <th>time_of_day</th>\n",
       "      <th>programme_duration_mins</th>\n",
       "      <th>twoweek</th>\n",
       "      <th>min_watched</th>\n",
       "      <th>enriched_genre</th>\n",
       "      <th>hour</th>\n",
       "      <th>enriched_genre_hour</th>\n",
       "      <th>enriched_duration_mins</th>\n",
       "    </tr>\n",
       "  </thead>\n",
       "  <tbody>\n",
       "    <tr>\n",
       "      <th>140</th>\n",
       "      <td>3387a6</td>\n",
       "      <td>NaN</td>\n",
       "      <td>NaN</td>\n",
       "      <td>NaN</td>\n",
       "      <td>NaN</td>\n",
       "      <td>1489439401348_1</td>\n",
       "      <td>2017-03-13 21:10:02.421</td>\n",
       "      <td>3730.0</td>\n",
       "      <td>weekday_0</td>\n",
       "      <td>Evening</td>\n",
       "      <td>NaN</td>\n",
       "      <td>5</td>\n",
       "      <td>0.062167</td>\n",
       "      <td>Drama</td>\n",
       "      <td>21</td>\n",
       "      <td>Drama</td>\n",
       "      <td>45.0</td>\n",
       "    </tr>\n",
       "    <tr>\n",
       "      <th>141</th>\n",
       "      <td>3387a6</td>\n",
       "      <td>NaN</td>\n",
       "      <td>NaN</td>\n",
       "      <td>NaN</td>\n",
       "      <td>NaN</td>\n",
       "      <td>1485100892026_1</td>\n",
       "      <td>2017-01-22 16:01:34.292</td>\n",
       "      <td>3634.0</td>\n",
       "      <td>weekday_6</td>\n",
       "      <td>Afternoon</td>\n",
       "      <td>NaN</td>\n",
       "      <td>1</td>\n",
       "      <td>0.060567</td>\n",
       "      <td>Factual</td>\n",
       "      <td>16</td>\n",
       "      <td>Factual</td>\n",
       "      <td>45.0</td>\n",
       "    </tr>\n",
       "    <tr>\n",
       "      <th>142</th>\n",
       "      <td>3387a6</td>\n",
       "      <td>NaN</td>\n",
       "      <td>NaN</td>\n",
       "      <td>NaN</td>\n",
       "      <td>NaN</td>\n",
       "      <td>1489441109070_3</td>\n",
       "      <td>2017-03-13 21:38:30.203</td>\n",
       "      <td>3651.0</td>\n",
       "      <td>weekday_0</td>\n",
       "      <td>Evening</td>\n",
       "      <td>NaN</td>\n",
       "      <td>5</td>\n",
       "      <td>0.060850</td>\n",
       "      <td>Drama</td>\n",
       "      <td>21</td>\n",
       "      <td>Drama</td>\n",
       "      <td>45.0</td>\n",
       "    </tr>\n",
       "    <tr>\n",
       "      <th>143</th>\n",
       "      <td>3387a6</td>\n",
       "      <td>NaN</td>\n",
       "      <td>NaN</td>\n",
       "      <td>NaN</td>\n",
       "      <td>NaN</td>\n",
       "      <td>1493538827057_2</td>\n",
       "      <td>2017-04-30 07:53:47.559</td>\n",
       "      <td>3665.0</td>\n",
       "      <td>weekday_6</td>\n",
       "      <td>Morning</td>\n",
       "      <td>NaN</td>\n",
       "      <td>8</td>\n",
       "      <td>0.061083</td>\n",
       "      <td>Factual</td>\n",
       "      <td>7</td>\n",
       "      <td>Factual</td>\n",
       "      <td>45.0</td>\n",
       "    </tr>\n",
       "    <tr>\n",
       "      <th>144</th>\n",
       "      <td>3387a6</td>\n",
       "      <td>NaN</td>\n",
       "      <td>NaN</td>\n",
       "      <td>NaN</td>\n",
       "      <td>NaN</td>\n",
       "      <td>1489258896796_3</td>\n",
       "      <td>2017-03-11 19:01:39.890</td>\n",
       "      <td>3545.0</td>\n",
       "      <td>weekday_5</td>\n",
       "      <td>Evening</td>\n",
       "      <td>NaN</td>\n",
       "      <td>5</td>\n",
       "      <td>0.059083</td>\n",
       "      <td>Factual</td>\n",
       "      <td>19</td>\n",
       "      <td>Factual</td>\n",
       "      <td>45.0</td>\n",
       "    </tr>\n",
       "  </tbody>\n",
       "</table>\n",
       "</div>"
      ],
      "text/plain": [
       "    user_id program_id series_id genre programme_duration     streaming_id  \\\n",
       "140  3387a6        NaN       NaN   NaN                NaN  1489439401348_1   \n",
       "141  3387a6        NaN       NaN   NaN                NaN  1485100892026_1   \n",
       "142  3387a6        NaN       NaN   NaN                NaN  1489441109070_3   \n",
       "143  3387a6        NaN       NaN   NaN                NaN  1493538827057_2   \n",
       "144  3387a6        NaN       NaN   NaN                NaN  1489258896796_3   \n",
       "\n",
       "            start_date_time  time_viewed    weekday time_of_day  \\\n",
       "140 2017-03-13 21:10:02.421       3730.0  weekday_0     Evening   \n",
       "141 2017-01-22 16:01:34.292       3634.0  weekday_6   Afternoon   \n",
       "142 2017-03-13 21:38:30.203       3651.0  weekday_0     Evening   \n",
       "143 2017-04-30 07:53:47.559       3665.0  weekday_6     Morning   \n",
       "144 2017-03-11 19:01:39.890       3545.0  weekday_5     Evening   \n",
       "\n",
       "     programme_duration_mins  twoweek  min_watched enriched_genre  hour  \\\n",
       "140                      NaN        5     0.062167          Drama    21   \n",
       "141                      NaN        1     0.060567        Factual    16   \n",
       "142                      NaN        5     0.060850          Drama    21   \n",
       "143                      NaN        8     0.061083        Factual     7   \n",
       "144                      NaN        5     0.059083        Factual    19   \n",
       "\n",
       "    enriched_genre_hour  enriched_duration_mins  \n",
       "140               Drama                    45.0  \n",
       "141             Factual                    45.0  \n",
       "142               Drama                    45.0  \n",
       "143             Factual                    45.0  \n",
       "144             Factual                    45.0  "
      ]
     },
     "execution_count": 20,
     "metadata": {},
     "output_type": "execute_result"
    }
   ],
   "source": [
    "# Check whether this has worked\n",
    "data[data['programme_duration_mins'].isnull()].head()"
   ]
  },
  {
   "cell_type": "code",
   "execution_count": 21,
   "metadata": {},
   "outputs": [
    {
     "name": "stdout",
     "output_type": "stream",
     "text": [
      "programme_duration_mins - Missing: 33698 - Unique: 891\n",
      "enriched_duration_mins - Missing: 0 - Unique: 889\n"
     ]
    }
   ],
   "source": [
    "# Check how many missing and unique values for this column\n",
    "features=['programme_duration_mins','enriched_duration_mins']\n",
    "for feature in features:\n",
    "    print(feature,'- Missing:',sum(data[feature].isnull()),\n",
    "          '- Unique:', len(data[feature].unique()))"
   ]
  },
  {
   "cell_type": "markdown",
   "metadata": {},
   "source": [
    "### Outliers\n",
    "Let's now have a look at the unusual values.\n",
    "\n",
    "#### Watched time"
   ]
  },
  {
   "cell_type": "code",
   "execution_count": 22,
   "metadata": {},
   "outputs": [
    {
     "data": {
      "text/plain": [
       "count    4.889520e+05\n",
       "mean     8.565867e+05\n",
       "std      3.491022e+06\n",
       "min     -3.563513e+06\n",
       "25%      3.935000e+03\n",
       "50%      8.194150e+04\n",
       "75%      9.219698e+05\n",
       "max      8.515021e+08\n",
       "Name: time_viewed, dtype: float64"
      ]
     },
     "execution_count": 22,
     "metadata": {},
     "output_type": "execute_result"
    }
   ],
   "source": [
    "data.time_viewed.describe()"
   ]
  },
  {
   "cell_type": "markdown",
   "metadata": {},
   "source": [
    "There are some outliers here: negative values for the watched time. We will consider that these values are errors and take the absolute value to make them positive."
   ]
  },
  {
   "cell_type": "code",
   "execution_count": 23,
   "metadata": {
    "collapsed": true
   },
   "outputs": [],
   "source": [
    "# Assume that is error and make positive\n",
    "data['time_viewed']=abs(data['time_viewed'])"
   ]
  },
  {
   "cell_type": "markdown",
   "metadata": {},
   "source": [
    "#### Number of minutes watched\n",
    "\n",
    "We built `min_watched` based on `time_viewed`. We need thus to recreate this variable as we underlined outliers for this field."
   ]
  },
  {
   "cell_type": "code",
   "execution_count": 24,
   "metadata": {},
   "outputs": [
    {
     "data": {
      "text/plain": [
       "count    488952.000000\n",
       "mean         14.276694\n",
       "std          58.183645\n",
       "min           0.000000\n",
       "25%           0.065583\n",
       "50%           1.365700\n",
       "75%          15.366200\n",
       "max       14191.701283\n",
       "Name: min_watched, dtype: float64"
      ]
     },
     "execution_count": 24,
     "metadata": {},
     "output_type": "execute_result"
    }
   ],
   "source": [
    "data['min_watched']=data['time_viewed']/(60000.0)\n",
    "data.min_watched.describe()"
   ]
  },
  {
   "cell_type": "markdown",
   "metadata": {},
   "source": [
    "#### Percentage completion of a programme\n",
    "\n",
    "Now that we have an enriched duration (no more missing values) and a watched time field corrected from its outliers, we can calculate how much (in %) of the programme the viewer watched."
   ]
  },
  {
   "cell_type": "code",
   "execution_count": 25,
   "metadata": {},
   "outputs": [
    {
     "data": {
      "text/plain": [
       "count    488952.000000\n",
       "mean          1.543447\n",
       "std          29.559429\n",
       "min           0.000000\n",
       "25%           0.004139\n",
       "50%           0.161716\n",
       "75%           0.849529\n",
       "max        8285.782083\n",
       "Name: percentage_watched, dtype: float64"
      ]
     },
     "execution_count": 25,
     "metadata": {},
     "output_type": "execute_result"
    }
   ],
   "source": [
    "# Percentage of content watched by the user\n",
    "data['percentage_watched']=(data['min_watched']/data['enriched_duration_mins'])\n",
    "data.percentage_watched.describe()"
   ]
  },
  {
   "cell_type": "markdown",
   "metadata": {},
   "source": [
    "Here again there are wrong values (percentage >1) that we need to correct. We will set the maximum for this field to 1. "
   ]
  },
  {
   "cell_type": "code",
   "execution_count": 26,
   "metadata": {
    "collapsed": true
   },
   "outputs": [],
   "source": [
    "# Clean up the percentage field from when the number is more than 100%\n",
    "def clean_perc(number):\n",
    "    return min(number,1)"
   ]
  },
  {
   "cell_type": "code",
   "execution_count": 27,
   "metadata": {
    "collapsed": true
   },
   "outputs": [],
   "source": [
    "# Clean up percentaged watched from anything bigger than 100%\n",
    "data['percentage_watched']=data['percentage_watched'].apply(clean_perc)"
   ]
  },
  {
   "cell_type": "markdown",
   "metadata": {},
   "source": [
    "Let's have a look at our data after this imputation step."
   ]
  },
  {
   "cell_type": "code",
   "execution_count": 28,
   "metadata": {},
   "outputs": [
    {
     "name": "stdout",
     "output_type": "stream",
     "text": [
      "user_id - Missing: 0 - Unique: 9937\n",
      "program_id - Missing: 33698 - Unique: 23857\n",
      "series_id - Missing: 33698 - Unique: 5921\n",
      "genre - Missing: 67719 - Unique: 12\n",
      "programme_duration - Missing: 33698 - Unique: 891\n",
      "streaming_id - Missing: 0 - Unique: 434430\n",
      "start_date_time - Missing: 0 - Unique: 490626\n",
      "time_viewed - Missing: 1900 - Unique: 259529\n",
      "weekday - Missing: 0 - Unique: 7\n",
      "time_of_day - Missing: 0 - Unique: 4\n",
      "programme_duration_mins - Missing: 33698 - Unique: 891\n",
      "twoweek - Missing: 0 - Unique: 10\n",
      "min_watched - Missing: 1900 - Unique: 259529\n",
      "enriched_genre - Missing: 0 - Unique: 11\n",
      "hour - Missing: 0 - Unique: 24\n",
      "enriched_genre_hour - Missing: 0 - Unique: 3\n",
      "enriched_duration_mins - Missing: 0 - Unique: 889\n",
      "percentage_watched - Missing: 1900 - Unique: 293836\n"
     ]
    }
   ],
   "source": [
    "# Check how many missing and unique values there are per column\n",
    "features=data.columns.values\n",
    "for feature in features:\n",
    "    print(feature,'- Missing:', \n",
    "          sum(data[feature].isnull()),\n",
    "          '- Unique:', len(data[feature].unique()))"
   ]
  },
  {
   "cell_type": "code",
   "execution_count": 29,
   "metadata": {},
   "outputs": [
    {
     "data": {
      "text/html": [
       "<div>\n",
       "<style>\n",
       "    .dataframe thead tr:only-child th {\n",
       "        text-align: right;\n",
       "    }\n",
       "\n",
       "    .dataframe thead th {\n",
       "        text-align: left;\n",
       "    }\n",
       "\n",
       "    .dataframe tbody tr th {\n",
       "        vertical-align: top;\n",
       "    }\n",
       "</style>\n",
       "<table border=\"1\" class=\"dataframe\">\n",
       "  <thead>\n",
       "    <tr style=\"text-align: right;\">\n",
       "      <th></th>\n",
       "      <th>user_id</th>\n",
       "      <th>program_id</th>\n",
       "      <th>series_id</th>\n",
       "      <th>genre</th>\n",
       "      <th>programme_duration</th>\n",
       "      <th>streaming_id</th>\n",
       "      <th>start_date_time</th>\n",
       "      <th>time_viewed</th>\n",
       "      <th>weekday</th>\n",
       "      <th>time_of_day</th>\n",
       "      <th>programme_duration_mins</th>\n",
       "      <th>twoweek</th>\n",
       "      <th>min_watched</th>\n",
       "      <th>enriched_genre</th>\n",
       "      <th>hour</th>\n",
       "      <th>enriched_genre_hour</th>\n",
       "      <th>enriched_duration_mins</th>\n",
       "      <th>percentage_watched</th>\n",
       "    </tr>\n",
       "  </thead>\n",
       "  <tbody>\n",
       "    <tr>\n",
       "      <th>0</th>\n",
       "      <td>cd2006</td>\n",
       "      <td>f6d3d8</td>\n",
       "      <td>a282ca</td>\n",
       "      <td>Factual</td>\n",
       "      <td>00:00:21</td>\n",
       "      <td>1486911129420_1</td>\n",
       "      <td>2017-02-12 14:51:24.544</td>\n",
       "      <td>20920.0</td>\n",
       "      <td>weekday_6</td>\n",
       "      <td>Afternoon</td>\n",
       "      <td>0.21</td>\n",
       "      <td>3</td>\n",
       "      <td>0.348667</td>\n",
       "      <td>Factual</td>\n",
       "      <td>14</td>\n",
       "      <td>Factual</td>\n",
       "      <td>0.21</td>\n",
       "      <td>1.0</td>\n",
       "    </tr>\n",
       "    <tr>\n",
       "      <th>1</th>\n",
       "      <td>cd2006</td>\n",
       "      <td>b8fbf2</td>\n",
       "      <td>e0480e</td>\n",
       "      <td>Comedy</td>\n",
       "      <td>00:01:51</td>\n",
       "      <td>1484864257965_1</td>\n",
       "      <td>2017-01-19 22:17:04.648</td>\n",
       "      <td>111285.0</td>\n",
       "      <td>weekday_3</td>\n",
       "      <td>Evening</td>\n",
       "      <td>1.51</td>\n",
       "      <td>1</td>\n",
       "      <td>1.854750</td>\n",
       "      <td>Comedy</td>\n",
       "      <td>22</td>\n",
       "      <td>Drama</td>\n",
       "      <td>1.51</td>\n",
       "      <td>1.0</td>\n",
       "    </tr>\n",
       "    <tr>\n",
       "      <th>2</th>\n",
       "      <td>cd2006</td>\n",
       "      <td>e2f113</td>\n",
       "      <td>933a1b</td>\n",
       "      <td>Factual</td>\n",
       "      <td>00:00:30</td>\n",
       "      <td>1487099603980_1</td>\n",
       "      <td>2017-02-14 19:12:36.667</td>\n",
       "      <td>29945.0</td>\n",
       "      <td>weekday_1</td>\n",
       "      <td>Evening</td>\n",
       "      <td>0.30</td>\n",
       "      <td>3</td>\n",
       "      <td>0.499083</td>\n",
       "      <td>Factual</td>\n",
       "      <td>19</td>\n",
       "      <td>Factual</td>\n",
       "      <td>0.30</td>\n",
       "      <td>1.0</td>\n",
       "    </tr>\n",
       "    <tr>\n",
       "      <th>3</th>\n",
       "      <td>cd2006</td>\n",
       "      <td>0e0916</td>\n",
       "      <td>b68e79</td>\n",
       "      <td>Entertainment</td>\n",
       "      <td>00:01:22</td>\n",
       "      <td>1484773546557_1</td>\n",
       "      <td>2017-01-18 21:05:11.466</td>\n",
       "      <td>82620.0</td>\n",
       "      <td>weekday_2</td>\n",
       "      <td>Evening</td>\n",
       "      <td>1.22</td>\n",
       "      <td>1</td>\n",
       "      <td>1.377000</td>\n",
       "      <td>Entertainment</td>\n",
       "      <td>21</td>\n",
       "      <td>Drama</td>\n",
       "      <td>1.22</td>\n",
       "      <td>1.0</td>\n",
       "    </tr>\n",
       "    <tr>\n",
       "      <th>4</th>\n",
       "      <td>cd2006</td>\n",
       "      <td>ca03b9</td>\n",
       "      <td>5d0813</td>\n",
       "      <td>Sport</td>\n",
       "      <td>00:01:37</td>\n",
       "      <td>1486911176609_1</td>\n",
       "      <td>2017-02-12 14:52:08.965</td>\n",
       "      <td>97444.0</td>\n",
       "      <td>weekday_6</td>\n",
       "      <td>Afternoon</td>\n",
       "      <td>1.37</td>\n",
       "      <td>3</td>\n",
       "      <td>1.624067</td>\n",
       "      <td>Sport</td>\n",
       "      <td>14</td>\n",
       "      <td>Factual</td>\n",
       "      <td>1.37</td>\n",
       "      <td>1.0</td>\n",
       "    </tr>\n",
       "  </tbody>\n",
       "</table>\n",
       "</div>"
      ],
      "text/plain": [
       "  user_id program_id series_id          genre programme_duration  \\\n",
       "0  cd2006     f6d3d8    a282ca        Factual           00:00:21   \n",
       "1  cd2006     b8fbf2    e0480e         Comedy           00:01:51   \n",
       "2  cd2006     e2f113    933a1b        Factual           00:00:30   \n",
       "3  cd2006     0e0916    b68e79  Entertainment           00:01:22   \n",
       "4  cd2006     ca03b9    5d0813          Sport           00:01:37   \n",
       "\n",
       "      streaming_id         start_date_time  time_viewed    weekday  \\\n",
       "0  1486911129420_1 2017-02-12 14:51:24.544      20920.0  weekday_6   \n",
       "1  1484864257965_1 2017-01-19 22:17:04.648     111285.0  weekday_3   \n",
       "2  1487099603980_1 2017-02-14 19:12:36.667      29945.0  weekday_1   \n",
       "3  1484773546557_1 2017-01-18 21:05:11.466      82620.0  weekday_2   \n",
       "4  1486911176609_1 2017-02-12 14:52:08.965      97444.0  weekday_6   \n",
       "\n",
       "  time_of_day  programme_duration_mins  twoweek  min_watched enriched_genre  \\\n",
       "0   Afternoon                     0.21        3     0.348667        Factual   \n",
       "1     Evening                     1.51        1     1.854750         Comedy   \n",
       "2     Evening                     0.30        3     0.499083        Factual   \n",
       "3     Evening                     1.22        1     1.377000  Entertainment   \n",
       "4   Afternoon                     1.37        3     1.624067          Sport   \n",
       "\n",
       "   hour enriched_genre_hour  enriched_duration_mins  percentage_watched  \n",
       "0    14             Factual                    0.21                 1.0  \n",
       "1    22               Drama                    1.51                 1.0  \n",
       "2    19             Factual                    0.30                 1.0  \n",
       "3    21               Drama                    1.22                 1.0  \n",
       "4    14             Factual                    1.37                 1.0  "
      ]
     },
     "execution_count": 29,
     "metadata": {},
     "output_type": "execute_result"
    }
   ],
   "source": [
    "data.head()"
   ]
  },
  {
   "cell_type": "markdown",
   "metadata": {},
   "source": [
    "<a id='scope'></a>\n",
    "## Scope\n",
    "\n",
    "We will work on a week time basis for the modeling. Python weeks start on Monday and since the 1st of January was a Sunday we will ignore this day for the rest of the analysis."
   ]
  },
  {
   "cell_type": "code",
   "execution_count": 30,
   "metadata": {
    "collapsed": true
   },
   "outputs": [],
   "source": [
    "# Drop the 1st of January - incomplete week\n",
    "data=data[data['start_date_time']>'2017-01-02']"
   ]
  },
  {
   "cell_type": "markdown",
   "metadata": {},
   "source": [
    "<a id='basic_statistics'></a>\n",
    "## Descriptive Statistics\n",
    "\n",
    "### Distributions\n",
    "Now that our data looks quite reasonable, let's plot what we have to get a better visual understanding of our feature distributions. This helps us to perform some quick \"sanity\" checks and make sure the data makes sense.\n",
    "\n",
    "#### Programme duration\n",
    "\n",
    "For this __histogram__, on the x-axis we have the programme length in minutes and on the y-axis we have the number of shows for that duration that we _observe_ in our data. Note that here a given show can be counted more than once as we are considering the raw dataset of all the observations and not a content id granularity.\n",
    "\n",
    "The plot shows what's called a \"long-tailed\" distribution. It indicates that the vast majority of watched shows last less than a minute. These are likely to be short clips. We also see spikes around 30 and 60 minutes, which make sense as when considering the length of most shows broadcast on BBC. Interestingly, in this dataset, there are more watched shows that last an hour than last half an hour."
   ]
  },
  {
   "cell_type": "code",
   "execution_count": 31,
   "metadata": {},
   "outputs": [
    {
     "data": {
      "text/plain": [
       "<matplotlib.axes._subplots.AxesSubplot at 0x10e975b70>"
      ]
     },
     "execution_count": 31,
     "metadata": {},
     "output_type": "execute_result"
    },
    {
     "data": {
      "image/png": "[encoded data removed]",
      "text/plain": [
       "<matplotlib.figure.Figure at 0x10f6fc0b8>"
      ]
     },
     "metadata": {},
     "output_type": "display_data"
    }
   ],
   "source": [
    "# Check the distribution of our numerical values\n",
    "data['programme_duration_mins'].hist(bins=50)"
   ]
  },
  {
   "cell_type": "markdown",
   "metadata": {},
   "source": [
    "#### Number of minutes watched\n",
    "\n",
    "We should expect that the distribution of the number of minutes watched should loosely reflect the one of the programme duration. Indeed, from the plot below we can see a large spike at 1 minute and then two smaller spikes around the 30 and 60 minute marks. However, there are also differences between the two distributions. Compared to the 30 and 60 minutes spikes, the 1-minute spike is much larger for the number of minutes watched than than for the programme duration.\n",
    "\n",
    "One hypothesis for why this might be is that, more often than not, people do not finish watching what they started. The 1-minute column below is not only made up of viewings of 1-minute shows, but in addition, it represents all the times that people started watching something and quickly switched off or over to something else."
   ]
  },
  {
   "cell_type": "code",
   "execution_count": 32,
   "metadata": {
    "scrolled": true
   },
   "outputs": [
    {
     "data": {
      "text/plain": [
       "<matplotlib.axes._subplots.AxesSubplot at 0x10fc84dd8>"
      ]
     },
     "execution_count": 32,
     "metadata": {},
     "output_type": "execute_result"
    },
    {
     "data": {
      "image/png": "[encoded data removed]",
      "text/plain": [
       "<matplotlib.figure.Figure at 0x10e1574e0>"
      ]
     },
     "metadata": {},
     "output_type": "display_data"
    }
   ],
   "source": [
    "# Check the distribution for length watches (under 200 mins to be able to see more)\n",
    "data[data['min_watched']<200]['min_watched'].hist(bins=50)"
   ]
  },
  {
   "cell_type": "markdown",
   "metadata": {},
   "source": [
    "#### Percentage completion of a programme\n",
    "\n",
    "We can test our hypothesis by having a look at the distribution that shows how much the user watched during their viewing. We can see from the plot displayed below that, indeed, about 32% (~16k/total ~50k) of the total views are represented in the very first bar (there are 50 bars so each bar represents 2% of the show). This represents evidence that it is consistent with out hypothesis from the previous section. \n",
    "\n",
    "The plot also indicates that only about 16% of the views reached the very end of the show. However, at this point we have to remember that all of the outliers (i.e. all of those values over 1 - or 100%) were rounded down to 1. This means that the final column will be artificially inflated, although the overall pattern is not likely to be too different.\n",
    "\n",
    "The remaining 52% stopped watching somewhere in between. We can see that the likelihood of a viewer stopping drops significantly after the first 2% of the show (first bar). Then, the likelihood of a viewer stopping at any given time continues to drop until around the 80% completion mark, at which point it it begins to sharply rise again."
   ]
  },
  {
   "cell_type": "code",
   "execution_count": 33,
   "metadata": {},
   "outputs": [
    {
     "data": {
      "text/plain": [
       "<matplotlib.axes._subplots.AxesSubplot at 0x10dbdc438>"
      ]
     },
     "execution_count": 33,
     "metadata": {},
     "output_type": "execute_result"
    },
    {
     "data": {
      "image/png": "[encoded data removed]",
      "text/plain": [
       "<matplotlib.figure.Figure at 0x10ab0a438>"
      ]
     },
     "metadata": {},
     "output_type": "display_data"
    }
   ],
   "source": [
    "# Check the distribution of the completion rate\n",
    "data['percentage_watched'].hist(bins=50)"
   ]
  },
  {
   "cell_type": "markdown",
   "metadata": {},
   "source": [
    "#### Two week groups\n",
    "\n",
    "Next, let's have a look at the amount of data in our dataset over time.  The __bar plot__ of the value counts below show that all 2-week periods contain between 5.5k and 6.5k of views, apart from group 0, which contains just over 3k of views.\n",
    "\n",
    "Generally, if we assume equivalence between groups, we hope to have similar counts of data within those groups. If one group unexpectedly has a significantly different amount of data, this might be an indication of something strange happening during the sampling process. This is not necessarily the case here but it is worth considering why it does so."
   ]
  },
  {
   "cell_type": "code",
   "execution_count": 34,
   "metadata": {},
   "outputs": [
    {
     "data": {
      "text/plain": [
       "<matplotlib.axes._subplots.AxesSubplot at 0x10c0c7da0>"
      ]
     },
     "execution_count": 34,
     "metadata": {},
     "output_type": "execute_result"
    },
    {
     "data": {
      "image/png": "[encoded data removed]",
      "text/plain": [
       "<matplotlib.figure.Figure at 0x10c0e5898>"
      ]
     },
     "metadata": {},
     "output_type": "display_data"
    }
   ],
   "source": [
    "# Check whether we have more or less the same amount of data for each two week period\n",
    "data['twoweek'].value_counts().plot(kind='bar')"
   ]
  },
  {
   "cell_type": "markdown",
   "metadata": {},
   "source": [
    "#### Genre and enriched genre\n",
    "\n",
    "To see what type of shows are the most popular with our viewers, we can plot the distribution of genres in our dataset. This gives us an idea of what kind of content people are consuming the most.\n",
    "\n",
    "Here, it looks like \"Factual\" and \"Drama\" shows are consumed at a much higher rate than any of the other genres. It is worth noting, however, that does not necessarily mean that \"Factual\" and \"Drama\" shows are the more popular than \"Entertainment\" shows. An alternative and equally valid interpretation of the data here is that there are more \"Factual\" and \"Drama\" shows on iPlayer than any other genre. If this were the case, there would always likely be more views in these categories, regardless of popularity. Can you think of a way to assess the popularity of a genre, independently of the volume of content? "
   ]
  },
  {
   "cell_type": "code",
   "execution_count": 35,
   "metadata": {
    "scrolled": true
   },
   "outputs": [
    {
     "data": {
      "text/plain": [
       "<matplotlib.axes._subplots.AxesSubplot at 0x11ee1f5f8>"
      ]
     },
     "execution_count": 35,
     "metadata": {},
     "output_type": "execute_result"
    },
    {
     "data": {
      "image/png": "[encoded data removed]",
      "text/plain": [
       "<matplotlib.figure.Figure at 0x11023d748>"
      ]
     },
     "metadata": {},
     "output_type": "display_data"
    }
   ],
   "source": [
    "# Check distribution of categorical values\n",
    "data['genre'].value_counts().plot(kind='bar')"
   ]
  },
  {
   "cell_type": "markdown",
   "metadata": {},
   "source": [
    "We can learn more about our imputation process by comparing the distribution of genres before and after imputation. Below we plot the genres after imputation.\n",
    "\n",
    "Ideally, the shape of the distribution of genres, before and after imputation, will not change. If it does not change, this is an indication that imputation process has not significantly changed the original dataset and therefore, you have not introduced any bias (although the original dataset may still contain biases). If the distribution has changed after imputation (here it looks like \"Factual\" has become more viewed after imputation), further consideration is needed.\n",
    "\n",
    "A change in the distribution is an indication that the missing data you have imputed was not uniformly distributed throughout the dataset (e.g. perhaps the \"Factual\" producers rarely tag their content with a genre) or you imputation process is dodgy and has introduced some systematic bias. As the idea that a certain type of content might be less well tagged than another is a plausible one, we needn't worry too much here for now."
   ]
  },
  {
   "cell_type": "code",
   "execution_count": 36,
   "metadata": {},
   "outputs": [
    {
     "data": {
      "text/plain": [
       "<matplotlib.axes._subplots.AxesSubplot at 0x11ee30630>"
      ]
     },
     "execution_count": 36,
     "metadata": {},
     "output_type": "execute_result"
    },
    {
     "data": {
      "image/png": "[encoded data removed]",
      "text/plain": [
       "<matplotlib.figure.Figure at 0x11da2c358>"
      ]
     },
     "metadata": {},
     "output_type": "display_data"
    }
   ],
   "source": [
    "# How does this differ from the distribution of the enriched genre?\n",
    "data['enriched_genre'].value_counts().plot(kind='bar')"
   ]
  },
  {
   "cell_type": "code",
   "execution_count": 37,
   "metadata": {},
   "outputs": [
    {
     "data": {
      "text/plain": [
       "<matplotlib.axes._subplots.AxesSubplot at 0x107c6c940>"
      ]
     },
     "execution_count": 37,
     "metadata": {},
     "output_type": "execute_result"
    },
    {
     "data": {
      "image/png": "[encoded data removed]",
      "text/plain": [
       "<matplotlib.figure.Figure at 0x107c51cf8>"
      ]
     },
     "metadata": {},
     "output_type": "display_data"
    }
   ],
   "source": [
    "# Plot the difference between the genre and enriched genre.\n",
    "diff = data['enriched_genre'].value_counts() - data['genre'].value_counts() \n",
    "diff.plot(kind='bar')"
   ]
  },
  {
   "cell_type": "markdown",
   "metadata": {},
   "source": [
    "#### Time of the day\n",
    "\n",
    "As a further sanity check we will look at what times of the day people are consuming the content. And as one might expect, the most views are registered in the evening, then the afternoon, while the least views are recorded during the morning and night. "
   ]
  },
  {
   "cell_type": "code",
   "execution_count": 38,
   "metadata": {},
   "outputs": [
    {
     "data": {
      "text/plain": [
       "<matplotlib.axes._subplots.AxesSubplot at 0x11edf8908>"
      ]
     },
     "execution_count": 38,
     "metadata": {},
     "output_type": "execute_result"
    },
    {
     "data": {
      "image/png": "[encoded data removed]",
      "text/plain": [
       "<matplotlib.figure.Figure at 0x10a3942e8>"
      ]
     },
     "metadata": {},
     "output_type": "display_data"
    }
   ],
   "source": [
    "# When do people mostly watch (distribution over time of day)?\n",
    "data['time_of_day'].value_counts().sort_index().plot(kind='bar')"
   ]
  },
  {
   "cell_type": "markdown",
   "metadata": {},
   "source": [
    "By comparing the distribution of the programme views across the day with a distribution of the number of minutes watched consumed across the day (below), we can get some insight into the typical length of a shows at different times in the day.\n",
    "\n",
    "The observation that in the number of minutes viewed distribution, \"Afternoon\" and \"Morning\" are more equal than in the previous plot may indicate that the average show in the morning is longer than the average show in the afternoon. As extended breakfast TV shows often dominate the early morning schedule and \"daytime TV\" shows are more discretised, this interpretation is plausible. "
   ]
  },
  {
   "cell_type": "code",
   "execution_count": 39,
   "metadata": {},
   "outputs": [
    {
     "data": {
      "text/plain": [
       "<matplotlib.axes._subplots.AxesSubplot at 0x10ad5af98>"
      ]
     },
     "execution_count": 39,
     "metadata": {},
     "output_type": "execute_result"
    },
    {
     "data": {
      "image/png": "[encoded data removed]",
      "text/plain": [
       "<matplotlib.figure.Figure at 0x10a3ad550>"
      ]
     },
     "metadata": {},
     "output_type": "display_data"
    }
   ],
   "source": [
    "data.groupby(['time_of_day'])['min_watched'].sum().plot(kind='bar')"
   ]
  },
  {
   "cell_type": "markdown",
   "metadata": {},
   "source": [
    "#### Time of the week\n",
    "\n",
    "Next we shall observe how viewing trends vary on a less granular timescale: the days of the week. What we find is that viewing figures decline steadily from Monday until Friday, improve on Saturday, then reach their peak every Sunday."
   ]
  },
  {
   "cell_type": "code",
   "execution_count": 40,
   "metadata": {},
   "outputs": [
    {
     "data": {
      "text/plain": [
       "<matplotlib.axes._subplots.AxesSubplot at 0x10ad95da0>"
      ]
     },
     "execution_count": 40,
     "metadata": {},
     "output_type": "execute_result"
    },
    {
     "data": {
      "image/png": "[encoded data removed]",
      "text/plain": [
       "<matplotlib.figure.Figure at 0x10ad8fe10>"
      ]
     },
     "metadata": {},
     "output_type": "display_data"
    }
   ],
   "source": [
    "# Distribution over the weekday (weekday_0 is Monday)\n",
    "data['weekday'].value_counts().sort_index().plot(kind='bar')"
   ]
  },
  {
   "cell_type": "code",
   "execution_count": 41,
   "metadata": {},
   "outputs": [
    {
     "data": {
      "text/plain": [
       "<matplotlib.axes._subplots.AxesSubplot at 0x10adba6d8>"
      ]
     },
     "execution_count": 41,
     "metadata": {},
     "output_type": "execute_result"
    },
    {
     "data": {
      "image/png": "[encoded data removed]",
      "text/plain": [
       "<matplotlib.figure.Figure at 0x10ae1deb8>"
      ]
     },
     "metadata": {},
     "output_type": "display_data"
    }
   ],
   "source": [
    "data.groupby(['weekday'])['min_watched'].sum().plot(kind='bar')"
   ]
  },
  {
   "cell_type": "markdown",
   "metadata": {},
   "source": [
    "By looking at the equivalent plot for the number of minutes consumed (above) we see a very similar pattern to total views, providing little evidence that the average length of a show varies from day to day.\n",
    "\n",
    "One caveat to this statement is the bump of minutes consumed we see on Wednesday. This is an indication that on Wednesdays people are watching more minutes than would be expected from the number of views. This could be a consequence of longer shows being broadcast on a Wednesday or an alternative hypothesis is that people choose to watch longer shows on a Wednesday, perhaps due to fatigue. Of course, these two hypotheses are not mutually exclusive. "
   ]
  },
  {
   "cell_type": "markdown",
   "metadata": {},
   "source": [
    "#### Time of the week and time of the day\n",
    "\n",
    "Finally, let's have a look to see if the daytime distributions change of the course of the week.\n",
    "\n",
    "From looking at the blue plots below it appears that there are very few differences to observe. However, by looking at the difference between the average views per day and views from a specific day (the grey plots), we can get further insight upon why variation in views exist across days.\n",
    "\n",
    "For example, if we look at this plot for weekday 0 (Monday), we can see that Monday's are distinct from the average day in that there are more views in the evening and afternoon, less views in the morning and about the same at night. If we look at the weekend, we can see that Saturday has slightly more views in the morning, afternoon and night views but quite a lot less evening views than the average day of the week (probably due to people going out on a Saturday night). On Sunday, we see many more views overall than the average day, but this is  especially the case in the morning. As these observations seem to make sense, we have a much greater confidence in our dataset than we did before."
   ]
  },
  {
   "cell_type": "code",
   "execution_count": 42,
   "metadata": {},
   "outputs": [
    {
     "name": "stdout",
     "output_type": "stream",
     "text": [
      "\n",
      "*********** \n",
      "\n",
      "weekday_0\n",
      "\n"
     ]
    },
    {
     "data": {
      "image/png": "[encoded data removed]",
      "text/plain": [
       "<matplotlib.figure.Figure at 0x10b92f240>"
      ]
     },
     "metadata": {},
     "output_type": "display_data"
    },
    {
     "data": {
      "image/png": "[encoded data removed]",
      "text/plain": [
       "<matplotlib.figure.Figure at 0x10ba72978>"
      ]
     },
     "metadata": {},
     "output_type": "display_data"
    },
    {
     "name": "stdout",
     "output_type": "stream",
     "text": [
      "\n",
      "*********** \n",
      "\n",
      "weekday_1\n",
      "\n"
     ]
    },
    {
     "data": {
      "image/png": "[encoded data removed]",
      "text/plain": [
       "<matplotlib.figure.Figure at 0x103ed2860>"
      ]
     },
     "metadata": {},
     "output_type": "display_data"
    },
    {
     "data": {
      "image/png": "[encoded data removed]",
      "text/plain": [
       "<matplotlib.figure.Figure at 0x105257550>"
      ]
     },
     "metadata": {},
     "output_type": "display_data"
    },
    {
     "name": "stdout",
     "output_type": "stream",
     "text": [
      "\n",
      "*********** \n",
      "\n",
      "weekday_2\n",
      "\n"
     ]
    },
    {
     "data": {
      "image/png": "[encoded data removed]",
      "text/plain": [
       "<matplotlib.figure.Figure at 0x108c99080>"
      ]
     },
     "metadata": {},
     "output_type": "display_data"
    },
    {
     "data": {
      "image/png": "[encoded data removed]",
      "text/plain": [
       "<matplotlib.figure.Figure at 0x10ae9ac88>"
      ]
     },
     "metadata": {},
     "output_type": "display_data"
    },
    {
     "name": "stdout",
     "output_type": "stream",
     "text": [
      "\n",
      "*********** \n",
      "\n",
      "weekday_3\n",
      "\n"
     ]
    },
    {
     "data": {
      "image/png": "[encoded data removed]",
      "text/plain": [
       "<matplotlib.figure.Figure at 0x10bae5da0>"
      ]
     },
     "metadata": {},
     "output_type": "display_data"
    },
    {
     "data": {
      "image/png": "[encoded data removed]",
      "text/plain": [
       "<matplotlib.figure.Figure at 0x10bc03940>"
      ]
     },
     "metadata": {},
     "output_type": "display_data"
    },
    {
     "name": "stdout",
     "output_type": "stream",
     "text": [
      "\n",
      "*********** \n",
      "\n",
      "weekday_4\n",
      "\n"
     ]
    },
    {
     "data": {
      "image/png": "[encoded data removed]",
      "text/plain": [
       "<matplotlib.figure.Figure at 0x10d46bc18>"
      ]
     },
     "metadata": {},
     "output_type": "display_data"
    },
    {
     "data": {
      "image/png": "[encoded data removed]",
      "text/plain": [
       "<matplotlib.figure.Figure at 0x10cc56668>"
      ]
     },
     "metadata": {},
     "output_type": "display_data"
    },
    {
     "name": "stdout",
     "output_type": "stream",
     "text": [
      "\n",
      "*********** \n",
      "\n",
      "weekday_5\n",
      "\n"
     ]
    },
    {
     "data": {
      "image/png": "[encoded data removed]",
      "text/plain": [
       "<matplotlib.figure.Figure at 0x10ed46588>"
      ]
     },
     "metadata": {},
     "output_type": "display_data"
    },
    {
     "data": {
      "image/png": "[encoded data removed]",
      "text/plain": [
       "<matplotlib.figure.Figure at 0x10e1c86a0>"
      ]
     },
     "metadata": {},
     "output_type": "display_data"
    },
    {
     "name": "stdout",
     "output_type": "stream",
     "text": [
      "\n",
      "*********** \n",
      "\n",
      "weekday_6\n",
      "\n"
     ]
    },
    {
     "data": {
      "image/png": "[encoded data removed]",
      "text/plain": [
       "<matplotlib.figure.Figure at 0x10d372d68>"
      ]
     },
     "metadata": {},
     "output_type": "display_data"
    },
    {
     "data": {
      "image/png": "[encoded data removed]",
      "text/plain": [
       "<matplotlib.figure.Figure at 0x1041765f8>"
      ]
     },
     "metadata": {},
     "output_type": "display_data"
    }
   ],
   "source": [
    "# Let's look at whether people watch at different times across different days\n",
    "averageCounts=data['time_of_day'].value_counts()/7\n",
    "for day in sorted(set(data['weekday'])):   \n",
    "    print('\\n*********** \\n')\n",
    "    print(day+'\\n')\n",
    "    \n",
    "    data[data['weekday']==day]['time_of_day'].value_counts().plot(kind='bar')\n",
    "    plt.title(day)\n",
    "    plt.show()\n",
    "    \n",
    "    diff=data[data['weekday']==day]['time_of_day'].value_counts() - averageCounts\n",
    "    diff.plot(kind='bar',color='grey')\n",
    "    plt.title(day+\" (difference from average)\")\n",
    "    plt.show()"
   ]
  },
  {
   "cell_type": "markdown",
   "metadata": {
    "collapsed": true
   },
   "source": [
    "Comparing distributions and frequency counts in this way is helpful for checking whether our data is sensible but it is important to remember that these are not formal analyses. If we wanted more certain information about the difference between viewing behaviour on different days, we should use __statistical tests__ (e.g _chi-squared_) which calculate not only the difference between a measure but also the significance of that difference.\n",
    "\n",
    "### Engagement\n",
    "\n",
    "Bearing in mind that we want to forecast engagement, and at a user level, we should do some descriptive statistics and get orders of magnitude of engagement in our data. \n",
    "\n",
    "Despite being usefull business insights, it can also be used in the forecasting part to make sure our results make sense. If we forecast an average number of minutes watched in the following two weeks much higher or lower than the one observed in past data, we can raise doubts on our modeling techniques. \n",
    "\n",
    "#### Number of users"
   ]
  },
  {
   "cell_type": "code",
   "execution_count": 43,
   "metadata": {},
   "outputs": [
    {
     "name": "stdout",
     "output_type": "stream",
     "text": [
      "Number of users: 9792\n"
     ]
    }
   ],
   "source": [
    "# Get the number of unique users in the dataset\n",
    "print('Number of users: '+\n",
    "      str(len(data.user_id.unique())))"
   ]
  },
  {
   "cell_type": "markdown",
   "metadata": {},
   "source": [
    "#### Number of observations per user per two-week group\n",
    "\n",
    "The `groupby` _pandas_ function is really convenient to aggregate data according to a given field and given metrics. For more details: https://pandas.pydata.org/pandas-docs/stable/generated/pandas.DataFrame.groupby.html "
   ]
  },
  {
   "cell_type": "code",
   "execution_count": 44,
   "metadata": {},
   "outputs": [
    {
     "data": {
      "text/plain": [
       "count    39823.000000\n",
       "mean        12.169450\n",
       "std         20.696486\n",
       "min          1.000000\n",
       "25%          2.000000\n",
       "50%          5.000000\n",
       "75%         14.000000\n",
       "max        496.000000\n",
       "dtype: float64"
      ]
     },
     "execution_count": 44,
     "metadata": {},
     "output_type": "execute_result"
    }
   ],
   "source": [
    "# We first need to aggregate the number of observations per user per twoweek\n",
    "# Describe gives us some basic statistics on this new field\n",
    "data.groupby(['user_id','twoweek']).size().describe()"
   ]
  },
  {
   "cell_type": "markdown",
   "metadata": {},
   "source": [
    "On average we have 12 observations per user per two-week group. Let's plot the historgram to get a better idea of the distribution."
   ]
  },
  {
   "cell_type": "code",
   "execution_count": 45,
   "metadata": {},
   "outputs": [
    {
     "data": {
      "image/png": "[encoded data removed]",
      "text/plain": [
       "<matplotlib.figure.Figure at 0x10c657780>"
      ]
     },
     "metadata": {},
     "output_type": "display_data"
    }
   ],
   "source": [
    "data.groupby(['user_id','twoweek']).size().hist(bins=50)\n",
    "plt.title('Number of observations per user per two-week group')\n",
    "plt.show()"
   ]
  },
  {
   "cell_type": "markdown",
   "metadata": {},
   "source": [
    "We can thus see __various levels of engagement__ within the users on a two-weeks basis. Let's have a look at the minutes watched as well.\n",
    "\n",
    "#### Number of minutes watched per user per two-week group"
   ]
  },
  {
   "cell_type": "code",
   "execution_count": 46,
   "metadata": {},
   "outputs": [
    {
     "data": {
      "text/plain": [
       "count    39701.000000\n",
       "mean       172.925041\n",
       "std        410.119518\n",
       "min          0.000283\n",
       "25%          8.230650\n",
       "50%         55.950167\n",
       "75%        170.692000\n",
       "max      14205.462117\n",
       "Name: min_watched, dtype: float64"
      ]
     },
     "execution_count": 46,
     "metadata": {},
     "output_type": "execute_result"
    }
   ],
   "source": [
    "# We first need to aggregate the number of observations per user per twoweek\n",
    "# Describe gives us some basic statistics on this new field\n",
    "data.groupby(['user_id','twoweek'])['min_watched'].sum().describe()"
   ]
  },
  {
   "cell_type": "code",
   "execution_count": 47,
   "metadata": {},
   "outputs": [
    {
     "data": {
      "image/png": "[encoded data removed]",
      "text/plain": [
       "<matplotlib.figure.Figure at 0x1041aecc0>"
      ]
     },
     "metadata": {},
     "output_type": "display_data"
    }
   ],
   "source": [
    "# Let's plot the histogram to have a better idea of the distribution\n",
    "data.groupby(['user_id','twoweek'])['min_watched'].sum().hist(bins=50)\n",
    "plt.title('Number of minutes watched per user per two-week group')\n",
    "plt.show()"
   ]
  },
  {
   "cell_type": "markdown",
   "metadata": {},
   "source": [
    "It's even more inequally distributed. \n",
    "\n",
    "A user can also be really engaged within a particular period of time, or on the long term. Let's try to assess the average two-weeks __retention__.  \n",
    "\n",
    "#### Number of two-week groups a user consumes content"
   ]
  },
  {
   "cell_type": "code",
   "execution_count": 48,
   "metadata": {},
   "outputs": [
    {
     "data": {
      "text/plain": [
       "<matplotlib.axes._subplots.AxesSubplot at 0x112873240>"
      ]
     },
     "execution_count": 48,
     "metadata": {},
     "output_type": "execute_result"
    },
    {
     "data": {
      "image/png": "[encoded data removed]",
      "text/plain": [
       "<matplotlib.figure.Figure at 0x11287edd8>"
      ]
     },
     "metadata": {},
     "output_type": "display_data"
    }
   ],
   "source": [
    "# We first need to get all the possible pairs user_id x twoweek\n",
    "# And then aggregate at the user id level\n",
    "nb_twoweeks_user=data[['user_id','twoweek']].drop_duplicates()\n",
    "nb_twoweeks_user=pd.DataFrame(nb_twoweeks_user.groupby(['user_id']).size())\n",
    "nb_twoweeks_user=nb_twoweeks_user.rename(columns={0:'nb_twoweek'})\n",
    "nb_twoweeks_user.nb_twoweek.value_counts().sort_index().plot(kind='bar')"
   ]
  },
  {
   "cell_type": "markdown",
   "metadata": {},
   "source": [
    "For most of the users we only observe content consumption for one two-week group. It can be due to churn (users don't come back) or because they just signed in as new iPlayer users (we don't observe the first weeks then).\n",
    "\n",
    "#### User retention on a two-weeks basis"
   ]
  },
  {
   "cell_type": "code",
   "execution_count": 49,
   "metadata": {},
   "outputs": [
    {
     "data": {
      "text/html": [
       "<div>\n",
       "<style>\n",
       "    .dataframe thead tr:only-child th {\n",
       "        text-align: right;\n",
       "    }\n",
       "\n",
       "    .dataframe thead th {\n",
       "        text-align: left;\n",
       "    }\n",
       "\n",
       "    .dataframe tbody tr th {\n",
       "        vertical-align: top;\n",
       "    }\n",
       "</style>\n",
       "<table border=\"1\" class=\"dataframe\">\n",
       "  <thead>\n",
       "    <tr style=\"text-align: right;\">\n",
       "      <th></th>\n",
       "      <th>twoweek_0</th>\n",
       "      <th>twoweek_1</th>\n",
       "      <th>twoweek_2</th>\n",
       "      <th>twoweek_3</th>\n",
       "      <th>twoweek_4</th>\n",
       "      <th>twoweek_5</th>\n",
       "      <th>twoweek_6</th>\n",
       "      <th>twoweek_7</th>\n",
       "      <th>twoweek_8</th>\n",
       "    </tr>\n",
       "    <tr>\n",
       "      <th>user_id</th>\n",
       "      <th></th>\n",
       "      <th></th>\n",
       "      <th></th>\n",
       "      <th></th>\n",
       "      <th></th>\n",
       "      <th></th>\n",
       "      <th></th>\n",
       "      <th></th>\n",
       "      <th></th>\n",
       "    </tr>\n",
       "  </thead>\n",
       "  <tbody>\n",
       "    <tr>\n",
       "      <th>0001c6</th>\n",
       "      <td>0</td>\n",
       "      <td>1</td>\n",
       "      <td>0</td>\n",
       "      <td>0</td>\n",
       "      <td>0</td>\n",
       "      <td>0</td>\n",
       "      <td>1</td>\n",
       "      <td>0</td>\n",
       "      <td>1</td>\n",
       "    </tr>\n",
       "    <tr>\n",
       "      <th>000c1a</th>\n",
       "      <td>0</td>\n",
       "      <td>1</td>\n",
       "      <td>1</td>\n",
       "      <td>1</td>\n",
       "      <td>1</td>\n",
       "      <td>1</td>\n",
       "      <td>1</td>\n",
       "      <td>1</td>\n",
       "      <td>1</td>\n",
       "    </tr>\n",
       "    <tr>\n",
       "      <th>001c53</th>\n",
       "      <td>0</td>\n",
       "      <td>1</td>\n",
       "      <td>0</td>\n",
       "      <td>0</td>\n",
       "      <td>0</td>\n",
       "      <td>1</td>\n",
       "      <td>0</td>\n",
       "      <td>0</td>\n",
       "      <td>1</td>\n",
       "    </tr>\n",
       "    <tr>\n",
       "      <th>001d44</th>\n",
       "      <td>1</td>\n",
       "      <td>0</td>\n",
       "      <td>0</td>\n",
       "      <td>0</td>\n",
       "      <td>1</td>\n",
       "      <td>0</td>\n",
       "      <td>0</td>\n",
       "      <td>1</td>\n",
       "      <td>1</td>\n",
       "    </tr>\n",
       "    <tr>\n",
       "      <th>002b2e</th>\n",
       "      <td>1</td>\n",
       "      <td>1</td>\n",
       "      <td>0</td>\n",
       "      <td>0</td>\n",
       "      <td>0</td>\n",
       "      <td>0</td>\n",
       "      <td>0</td>\n",
       "      <td>0</td>\n",
       "      <td>0</td>\n",
       "    </tr>\n",
       "  </tbody>\n",
       "</table>\n",
       "</div>"
      ],
      "text/plain": [
       "         twoweek_0  twoweek_1  twoweek_2  twoweek_3  twoweek_4  twoweek_5  \\\n",
       "user_id                                                                     \n",
       "0001c6           0          1          0          0          0          0   \n",
       "000c1a           0          1          1          1          1          1   \n",
       "001c53           0          1          0          0          0          1   \n",
       "001d44           1          0          0          0          1          0   \n",
       "002b2e           1          1          0          0          0          0   \n",
       "\n",
       "         twoweek_6  twoweek_7  twoweek_8  \n",
       "user_id                                   \n",
       "0001c6           1          0          1  \n",
       "000c1a           1          1          1  \n",
       "001c53           0          0          1  \n",
       "001d44           0          1          1  \n",
       "002b2e           0          0          0  "
      ]
     },
     "execution_count": 49,
     "metadata": {},
     "output_type": "execute_result"
    }
   ],
   "source": [
    "# We want to get the number of users that come back from one two-week group to another\n",
    "# We first create a table of 0 and 1s \n",
    "# if a given user (row) consume content on a given two-week (column)\n",
    "twoweeks_user=data[['user_id','twoweek']].drop_duplicates().set_index('user_id')\n",
    "twoweeks_user.twoweek=twoweeks_user.twoweek.apply(lambda x:str(x))\n",
    "twoweeks_user=pd.get_dummies(twoweeks_user).reset_index().groupby(['user_id']).sum()\n",
    "twoweeks_user.head()"
   ]
  },
  {
   "cell_type": "code",
   "execution_count": 50,
   "metadata": {},
   "outputs": [
    {
     "data": {
      "text/html": [
       "<div>\n",
       "<style>\n",
       "    .dataframe thead tr:only-child th {\n",
       "        text-align: right;\n",
       "    }\n",
       "\n",
       "    .dataframe thead th {\n",
       "        text-align: left;\n",
       "    }\n",
       "\n",
       "    .dataframe tbody tr th {\n",
       "        vertical-align: top;\n",
       "    }\n",
       "</style>\n",
       "<table border=\"1\" class=\"dataframe\">\n",
       "  <thead>\n",
       "    <tr style=\"text-align: right;\">\n",
       "      <th></th>\n",
       "      <th>0</th>\n",
       "      <th>1</th>\n",
       "      <th>2</th>\n",
       "      <th>3</th>\n",
       "      <th>4</th>\n",
       "      <th>5</th>\n",
       "      <th>6</th>\n",
       "      <th>7</th>\n",
       "      <th>8</th>\n",
       "    </tr>\n",
       "  </thead>\n",
       "  <tbody>\n",
       "    <tr>\n",
       "      <th>0</th>\n",
       "      <td>4377</td>\n",
       "      <td>2874</td>\n",
       "      <td>2159</td>\n",
       "      <td>1826</td>\n",
       "      <td>1559</td>\n",
       "      <td>1408</td>\n",
       "      <td>1264</td>\n",
       "      <td>1137</td>\n",
       "      <td>1049</td>\n",
       "    </tr>\n",
       "    <tr>\n",
       "      <th>1</th>\n",
       "      <td>NaN</td>\n",
       "      <td>6706</td>\n",
       "      <td>3633</td>\n",
       "      <td>2768</td>\n",
       "      <td>2231</td>\n",
       "      <td>1928</td>\n",
       "      <td>1672</td>\n",
       "      <td>1474</td>\n",
       "      <td>1353</td>\n",
       "    </tr>\n",
       "    <tr>\n",
       "      <th>2</th>\n",
       "      <td>NaN</td>\n",
       "      <td>NaN</td>\n",
       "      <td>5485</td>\n",
       "      <td>3467</td>\n",
       "      <td>2631</td>\n",
       "      <td>2199</td>\n",
       "      <td>1865</td>\n",
       "      <td>1614</td>\n",
       "      <td>1467</td>\n",
       "    </tr>\n",
       "    <tr>\n",
       "      <th>3</th>\n",
       "      <td>NaN</td>\n",
       "      <td>NaN</td>\n",
       "      <td>NaN</td>\n",
       "      <td>4375</td>\n",
       "      <td>3060</td>\n",
       "      <td>2478</td>\n",
       "      <td>2051</td>\n",
       "      <td>1740</td>\n",
       "      <td>1562</td>\n",
       "    </tr>\n",
       "    <tr>\n",
       "      <th>4</th>\n",
       "      <td>NaN</td>\n",
       "      <td>NaN</td>\n",
       "      <td>NaN</td>\n",
       "      <td>NaN</td>\n",
       "      <td>4001</td>\n",
       "      <td>2924</td>\n",
       "      <td>2306</td>\n",
       "      <td>1893</td>\n",
       "      <td>1681</td>\n",
       "    </tr>\n",
       "    <tr>\n",
       "      <th>5</th>\n",
       "      <td>NaN</td>\n",
       "      <td>NaN</td>\n",
       "      <td>NaN</td>\n",
       "      <td>NaN</td>\n",
       "      <td>NaN</td>\n",
       "      <td>4007</td>\n",
       "      <td>2796</td>\n",
       "      <td>2164</td>\n",
       "      <td>1874</td>\n",
       "    </tr>\n",
       "    <tr>\n",
       "      <th>6</th>\n",
       "      <td>NaN</td>\n",
       "      <td>NaN</td>\n",
       "      <td>NaN</td>\n",
       "      <td>NaN</td>\n",
       "      <td>NaN</td>\n",
       "      <td>NaN</td>\n",
       "      <td>3701</td>\n",
       "      <td>2524</td>\n",
       "      <td>2103</td>\n",
       "    </tr>\n",
       "    <tr>\n",
       "      <th>7</th>\n",
       "      <td>NaN</td>\n",
       "      <td>NaN</td>\n",
       "      <td>NaN</td>\n",
       "      <td>NaN</td>\n",
       "      <td>NaN</td>\n",
       "      <td>NaN</td>\n",
       "      <td>NaN</td>\n",
       "      <td>3416</td>\n",
       "      <td>2547</td>\n",
       "    </tr>\n",
       "    <tr>\n",
       "      <th>8</th>\n",
       "      <td>NaN</td>\n",
       "      <td>NaN</td>\n",
       "      <td>NaN</td>\n",
       "      <td>NaN</td>\n",
       "      <td>NaN</td>\n",
       "      <td>NaN</td>\n",
       "      <td>NaN</td>\n",
       "      <td>NaN</td>\n",
       "      <td>3755</td>\n",
       "    </tr>\n",
       "  </tbody>\n",
       "</table>\n",
       "</div>"
      ],
      "text/plain": [
       "      0     1     2     3     4     5     6     7     8\n",
       "0  4377  2874  2159  1826  1559  1408  1264  1137  1049\n",
       "1   NaN  6706  3633  2768  2231  1928  1672  1474  1353\n",
       "2   NaN   NaN  5485  3467  2631  2199  1865  1614  1467\n",
       "3   NaN   NaN   NaN  4375  3060  2478  2051  1740  1562\n",
       "4   NaN   NaN   NaN   NaN  4001  2924  2306  1893  1681\n",
       "5   NaN   NaN   NaN   NaN   NaN  4007  2796  2164  1874\n",
       "6   NaN   NaN   NaN   NaN   NaN   NaN  3701  2524  2103\n",
       "7   NaN   NaN   NaN   NaN   NaN   NaN   NaN  3416  2547\n",
       "8   NaN   NaN   NaN   NaN   NaN   NaN   NaN   NaN  3755"
      ]
     },
     "execution_count": 50,
     "metadata": {},
     "output_type": "execute_result"
    }
   ],
   "source": [
    "# Let's build a retention matrix\n",
    "ret_matrix=pd.DataFrame(columns=np.arange(0,9), index=np.arange(0,9))\n",
    "\n",
    "for i in np.arange(0,8):\n",
    "    # We fill [i,i] with the number of users consuming content in twoweek i\n",
    "    ret_matrix.loc[i,i]=sum(twoweeks_user['twoweek_'+str(i)])\n",
    "    twoweeks_user.cumul_tmp=twoweeks_user['twoweek_'+str(i)]\n",
    "    \n",
    "    for j in np.arange(i+1,9):\n",
    "        # Then we fill for the other columns of row i [i,j] the number of users consuming\n",
    "        # content in every twoweek from twoweek i to twoweek j\n",
    "        twoweeks_user.cumul_tmp+=twoweeks_user['twoweek_'+str(j)]\n",
    "        ret_matrix.loc[i,j]=len(twoweeks_user[twoweeks_user.cumul_tmp==j+1-i])\n",
    "        \n",
    "ret_matrix.loc[8,8]=sum(twoweeks_user['twoweek_'+str(8)])\n",
    "ret_matrix"
   ]
  },
  {
   "cell_type": "code",
   "execution_count": 51,
   "metadata": {},
   "outputs": [
    {
     "data": {
      "text/html": [
       "<div>\n",
       "<style>\n",
       "    .dataframe thead tr:only-child th {\n",
       "        text-align: right;\n",
       "    }\n",
       "\n",
       "    .dataframe thead th {\n",
       "        text-align: left;\n",
       "    }\n",
       "\n",
       "    .dataframe tbody tr th {\n",
       "        vertical-align: top;\n",
       "    }\n",
       "</style>\n",
       "<table border=\"1\" class=\"dataframe\">\n",
       "  <thead>\n",
       "    <tr style=\"text-align: right;\">\n",
       "      <th></th>\n",
       "      <th>0</th>\n",
       "      <th>1</th>\n",
       "      <th>2</th>\n",
       "      <th>3</th>\n",
       "      <th>4</th>\n",
       "      <th>5</th>\n",
       "      <th>6</th>\n",
       "      <th>7</th>\n",
       "      <th>8</th>\n",
       "    </tr>\n",
       "  </thead>\n",
       "  <tbody>\n",
       "    <tr>\n",
       "      <th>0</th>\n",
       "      <td>1</td>\n",
       "      <td>0.656614</td>\n",
       "      <td>0.49326</td>\n",
       "      <td>0.417181</td>\n",
       "      <td>0.35618</td>\n",
       "      <td>0.321682</td>\n",
       "      <td>0.288782</td>\n",
       "      <td>0.259767</td>\n",
       "      <td>0.239662</td>\n",
       "    </tr>\n",
       "    <tr>\n",
       "      <th>1</th>\n",
       "      <td>NaN</td>\n",
       "      <td>1</td>\n",
       "      <td>0.541754</td>\n",
       "      <td>0.412765</td>\n",
       "      <td>0.332687</td>\n",
       "      <td>0.287504</td>\n",
       "      <td>0.249329</td>\n",
       "      <td>0.219803</td>\n",
       "      <td>0.20176</td>\n",
       "    </tr>\n",
       "    <tr>\n",
       "      <th>2</th>\n",
       "      <td>NaN</td>\n",
       "      <td>NaN</td>\n",
       "      <td>1</td>\n",
       "      <td>0.632088</td>\n",
       "      <td>0.479672</td>\n",
       "      <td>0.400912</td>\n",
       "      <td>0.340018</td>\n",
       "      <td>0.294257</td>\n",
       "      <td>0.267457</td>\n",
       "    </tr>\n",
       "    <tr>\n",
       "      <th>3</th>\n",
       "      <td>NaN</td>\n",
       "      <td>NaN</td>\n",
       "      <td>NaN</td>\n",
       "      <td>1</td>\n",
       "      <td>0.699429</td>\n",
       "      <td>0.5664</td>\n",
       "      <td>0.4688</td>\n",
       "      <td>0.397714</td>\n",
       "      <td>0.357029</td>\n",
       "    </tr>\n",
       "    <tr>\n",
       "      <th>4</th>\n",
       "      <td>NaN</td>\n",
       "      <td>NaN</td>\n",
       "      <td>NaN</td>\n",
       "      <td>NaN</td>\n",
       "      <td>1</td>\n",
       "      <td>0.730817</td>\n",
       "      <td>0.576356</td>\n",
       "      <td>0.473132</td>\n",
       "      <td>0.420145</td>\n",
       "    </tr>\n",
       "    <tr>\n",
       "      <th>5</th>\n",
       "      <td>NaN</td>\n",
       "      <td>NaN</td>\n",
       "      <td>NaN</td>\n",
       "      <td>NaN</td>\n",
       "      <td>NaN</td>\n",
       "      <td>1</td>\n",
       "      <td>0.697779</td>\n",
       "      <td>0.540055</td>\n",
       "      <td>0.467682</td>\n",
       "    </tr>\n",
       "    <tr>\n",
       "      <th>6</th>\n",
       "      <td>NaN</td>\n",
       "      <td>NaN</td>\n",
       "      <td>NaN</td>\n",
       "      <td>NaN</td>\n",
       "      <td>NaN</td>\n",
       "      <td>NaN</td>\n",
       "      <td>1</td>\n",
       "      <td>0.681978</td>\n",
       "      <td>0.568225</td>\n",
       "    </tr>\n",
       "    <tr>\n",
       "      <th>7</th>\n",
       "      <td>NaN</td>\n",
       "      <td>NaN</td>\n",
       "      <td>NaN</td>\n",
       "      <td>NaN</td>\n",
       "      <td>NaN</td>\n",
       "      <td>NaN</td>\n",
       "      <td>NaN</td>\n",
       "      <td>1</td>\n",
       "      <td>0.745609</td>\n",
       "    </tr>\n",
       "    <tr>\n",
       "      <th>8</th>\n",
       "      <td>NaN</td>\n",
       "      <td>NaN</td>\n",
       "      <td>NaN</td>\n",
       "      <td>NaN</td>\n",
       "      <td>NaN</td>\n",
       "      <td>NaN</td>\n",
       "      <td>NaN</td>\n",
       "      <td>NaN</td>\n",
       "      <td>1</td>\n",
       "    </tr>\n",
       "  </tbody>\n",
       "</table>\n",
       "</div>"
      ],
      "text/plain": [
       "     0         1         2         3         4         5         6         7  \\\n",
       "0    1  0.656614   0.49326  0.417181   0.35618  0.321682  0.288782  0.259767   \n",
       "1  NaN         1  0.541754  0.412765  0.332687  0.287504  0.249329  0.219803   \n",
       "2  NaN       NaN         1  0.632088  0.479672  0.400912  0.340018  0.294257   \n",
       "3  NaN       NaN       NaN         1  0.699429    0.5664    0.4688  0.397714   \n",
       "4  NaN       NaN       NaN       NaN         1  0.730817  0.576356  0.473132   \n",
       "5  NaN       NaN       NaN       NaN       NaN         1  0.697779  0.540055   \n",
       "6  NaN       NaN       NaN       NaN       NaN       NaN         1  0.681978   \n",
       "7  NaN       NaN       NaN       NaN       NaN       NaN       NaN         1   \n",
       "8  NaN       NaN       NaN       NaN       NaN       NaN       NaN       NaN   \n",
       "\n",
       "          8  \n",
       "0  0.239662  \n",
       "1   0.20176  \n",
       "2  0.267457  \n",
       "3  0.357029  \n",
       "4  0.420145  \n",
       "5  0.467682  \n",
       "6  0.568225  \n",
       "7  0.745609  \n",
       "8         1  "
      ]
     },
     "execution_count": 51,
     "metadata": {},
     "output_type": "execute_result"
    }
   ],
   "source": [
    "# Let's put these results in ratios of the size of the cohorts\n",
    "ret_matrix_ratio=pd.DataFrame(columns=np.arange(0,9), index=np.arange(0,9))\n",
    "for i in np.arange(0,9):\n",
    "    for j in np.arange(0,9):\n",
    "        ret_matrix_ratio.loc[i,j]=ret_matrix.loc[i,j]/ret_matrix.loc[i,i]\n",
    "ret_matrix_ratio"
   ]
  },
  {
   "cell_type": "markdown",
   "metadata": {},
   "source": [
    "How to read this matrix?\n",
    "\n",
    "From all the users who consumed content in `twoweek` 0, more than 65% came back in `twoweek` 1 and around 50% are still consuming content on `twoweek` 2.\n",
    "\n",
    "Among the users who consumed content on `twoweek` 4, 73% came back the `twoweek` after. Note that for this cohort, users might have consumed content before `twoweek` 4.\n",
    "\n",
    "Only 24% of the users are consuming content during all the scope, with this time basis.\n",
    "\n",
    "If we want to get an average retention from one `twoweek` to another and not get into that much details, we can average the retention ratio observed for one two-week group to the following."
   ]
  },
  {
   "cell_type": "code",
   "execution_count": 52,
   "metadata": {},
   "outputs": [
    {
     "name": "stdout",
     "output_type": "stream",
     "text": [
      "Average retention from one twoweek to another: 0.673258347659\n"
     ]
    }
   ],
   "source": [
    "# Let's compute an average retention ratio\n",
    "ret_tw=[]\n",
    "for i in np.arange(0,8):\n",
    "    ret_tw+=[ret_matrix_ratio.loc[i,i+1]]\n",
    "print('Average retention from one twoweek to another: '+str(np.mean(ret_tw)))"
   ]
  },
  {
   "cell_type": "markdown",
   "metadata": {},
   "source": [
    "The retention is quite high in this user database from one two-week group to another.\n",
    "\n",
    "Now that we have a better understanding of our data, assess its quality and build some extra features, we can save this new dataset in order to read it back in for the next lesson."
   ]
  },
  {
   "cell_type": "code",
   "execution_count": 53,
   "metadata": {
    "collapsed": true
   },
   "outputs": [],
   "source": [
    "data.to_csv('iplayer_data_c1.csv', index=False)"
   ]
  },
  {
   "cell_type": "markdown",
   "metadata": {},
   "source": [
    "# Summary\n",
    "\n",
    "In this tutorial we have walked through some of the early steps involved in many data science problems: \n",
    "1. Formulating our problem;\n",
    "2. Selecting the data we need to solve it;\n",
    "3. Preparing and cleaning our data to make it easier to analyse\n",
    "4. Exploring and making sense of our data,\n",
    "\n",
    "In the next tutorial we will prepare the dataset that will feed in the the modelling part."
   ]
  }
 ],
 "metadata": {
  "kernelspec": {
   "display_name": "Python 3",
   "language": "python",
   "name": "python3"
  },
  "language_info": {
   "codemirror_mode": {
    "name": "ipython",
    "version": 3
   },
   "file_extension": ".py",
   "mimetype": "text/x-python",
   "name": "python",
   "nbconvert_exporter": "python",
   "pygments_lexer": "ipython3",
   "version": "3.6.2"
  }
 },
 "nbformat": 4,
 "nbformat_minor": 2
}
