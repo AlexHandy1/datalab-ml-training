{
 "cells": [
  {
   "cell_type": "markdown",
   "metadata": {},
   "source": [
    "# Context\n",
    "\n",
    "## Background\n",
    "\n",
    "Cultivating brand loyalty is key for the BBC to remain relevant in a data-driven world dominated by the likes of Youtube, Netflix and Facebook. We know that tens of thousands of viewers consume our content on iPlayer everyday but we still have very little understanding of what makes them come back for more. In order to keep our audience engaged, it is vital that we develop audience statistics that reflect how likely they are to continue consuming our content. These metrics will then enable us to gain greater insights into whether we are surfacing the right content to the right audience members. These activities will be vital for retaining and growing our audiences both domestically and around the world. \n",
    "\n",
    "## Problem Formulation\n",
    "One way of measuring the engagement of a user is to count how much content they have consumed over a given period.  Engagement, measured in this way, may be affected by many different factors ranging from the kind of content they enjoy to the time of day they consume it.\n",
    " \n",
    "In our current exercise, what we want to understand is how an audience member consumes content, based upon their past behaviour. More specifically, what we will do in this case is to investigate if there is a relationship between an audience member’s viewing behaviour (what and when they have watched on iPlayer) over a 16-week period and the amount of content they consumed in the subsequent two-week period.\n",
    "\n",
    "## Goal of this course\n",
    "During this first course we will have a first look at the data. XXX DETAILS\n",
    "\n",
    "\n",
    "# Data exploration\n",
    "\n",
    "## Data Sampling\n",
    "\n",
    "The data you use to solve your problem is called your dataset. To ensure that any inferences you make from your dataset can be generalised to “the real world” it is important to ensure that the data you choose for your dataset is indeed a good representation of the wider population it is sampled from and, in particular, free from systematic biases. Regardless of what machine-learning techniques you eventually use, if your dataset is not a good approximation of the population it is supposed to represent, you will struggle to find a satisfactory solution to your problem.\n",
    " \n",
    "For our particular problem, we have a dataset containing __the viewing history of 10,000 iPlayer viewers__. To ensure that this is a representative sample those viewers were sampled from all over the UK and are accurate representations over all age groups, socio-economic class, race and gender. \n",
    " \n",
    "For more information on data sampling please see the Wikipedia page here:\n",
    "https://en.wikipedia.org/wiki/Sampling_(statistics)  \n",
    "\n",
    "## Import the data and have a first overview\n",
    "\n",
    "The first thing to do is to load the data and get a first idea what it looks like."
   ]
  },
  {
   "cell_type": "code",
   "execution_count": 1,
   "metadata": {
    "collapsed": true
   },
   "outputs": [],
   "source": [
    "# Import all relevent libraries to analyse the data\n",
    "import pandas as pd\n",
    "import numpy as np\n",
    "import datetime\n",
    "import math\n",
    "import matplotlib.pyplot as plt\n",
    "\n",
    "# This line makes sure that our graphs are rendered within the notebook\n",
    "%matplotlib inline\n",
    "\n",
    "#Set options to display all columns\n",
    "pd.set_option(\"display.max_columns\",None)"
   ]
  },
  {
   "cell_type": "markdown",
   "metadata": {},
   "source": [
    "*Pandas* is a really easy-to-use library to deal with datasets and perform data analysis. Among others it has a great datetime parsing function which will make manipulating datetimes later much easier!\n",
    "\n",
    "Make sure to have your dataset in the same folder than your notebook. Or specify its path `'path/to/data/iplayer_data_sample_janapr2017.csv'`."
   ]
  },
  {
   "cell_type": "code",
   "execution_count": 2,
   "metadata": {},
   "outputs": [
    {
     "name": "stdout",
     "output_type": "stream",
     "text": [
      "(490852, 8)\n",
      "  user_id program_id series_id          genre programme_duration  \\\n",
      "0  cd2006     f6d3d8    a282ca        Factual           00:00:21   \n",
      "1  cd2006     b8fbf2    e0480e         Comedy           00:01:51   \n",
      "2  cd2006     e2f113    933a1b        Factual           00:00:30   \n",
      "3  cd2006     0e0916    b68e79  Entertainment           00:01:22   \n",
      "4  cd2006     ca03b9    5d0813          Sport           00:01:37   \n",
      "\n",
      "      streaming_id         start_date_time  time_viewed  \n",
      "0  1486911129420_1 2017-02-12 14:51:24.544      20920.0  \n",
      "1  1484864257965_1 2017-01-19 22:17:04.648     111285.0  \n",
      "2  1487099603980_1 2017-02-14 19:12:36.667      29945.0  \n",
      "3  1484773546557_1 2017-01-18 21:05:11.466      82620.0  \n",
      "4  1486911176609_1 2017-02-12 14:52:08.965      97444.0  \n"
     ]
    }
   ],
   "source": [
    "# Load the data into a pandas dataframe\n",
    "# Display the size of the dataset and first couple of rows to see what it looks like\n",
    "data=pd.read_csv('iplayer_data_sample_janapr2017.csv', parse_dates=['start_date_time'])\n",
    "print(data.shape)\n",
    "print(data.head())"
   ]
  },
  {
   "cell_type": "markdown",
   "metadata": {},
   "source": [
    "This output gives us a broad sense of what our data look likes. We can start creating additional derived columns that we think could explain why and how much people will watch on iPlayer. This step is called __feature engineering__. \n",
    "\n",
    "Feature engineering is the process of identifying the input variables (_time of the day, content genre_ etc.) that will be used by your model to predict the output variable (_number of minutes watched_). The performance of your model is directly dependent upon the features you choose as input. Statistical models are essentially just pattern detectors. Different types of models have strengths and weaknesses in specific situations but they can only find structure in your data if the information exists in your features in the first place.\n",
    "\n",
    "In most situations the process of feature engineering is an iterative one. Finding the best subset of explanatory variables is not straightforward and we will come back later on this. In the meantime we can enhance the data with additional features that we think can explain the watching time of iPlayer users. \n",
    "\n",
    "Our hypothesis is that the more you interact with iPlayer the more likely you are to return. So the addiotional data columns are aimed at understanding __the breadth of the user's interactions with us__."
   ]
  },
  {
   "cell_type": "code",
   "execution_count": 3,
   "metadata": {
    "collapsed": true
   },
   "outputs": [],
   "source": [
    "# Enhance the data with a few additional columns\n",
    "# Here we create some functions that we will apply to our dataset columns afterwards\n",
    "\n",
    "# Get the weekday\n",
    "def get_weekday(formated_time):\n",
    "    return 'weekday_' + str(formated_time.weekday())\n",
    "\n",
    "# Get the two-week number. We will forecast the minutes watched in the last two weeks\n",
    "# Python3 rounds 0.5 up and down depending on the integer so we can't use round function\n",
    "def get_twoweeknumber(formated_time):\n",
    "    return math.floor(formated_time.isocalendar()[1]/2.0)\n",
    "\n",
    "# Get the time of day\n",
    "def get_timeofday(formated_time):\n",
    "    hour=formated_time.hour\n",
    "    if hour in range(5,13):\n",
    "        return 'Morning'\n",
    "    elif hour in range(13,18):\n",
    "        return 'Afternoon'\n",
    "    elif hour in range(18,23):\n",
    "        return 'Evening'\n",
    "    else:\n",
    "        return 'Night'\n",
    "\n",
    "# Parse the programme duration \n",
    "# and turn it into minutes so that we can compute the percentage of time watched\n",
    "def parse_programme_duration(unformated_time):\n",
    "    try:\n",
    "        timeparts=unformated_time.split(':')\n",
    "        return int(timeparts[0])*60.0+int(timeparts[1])+int(timeparts[2])/60.0\n",
    "    except:\n",
    "        return"
   ]
  },
  {
   "cell_type": "code",
   "execution_count": 4,
   "metadata": {},
   "outputs": [
    {
     "data": {
      "text/html": [
       "<div>\n",
       "<style>\n",
       "    .dataframe thead tr:only-child th {\n",
       "        text-align: right;\n",
       "    }\n",
       "\n",
       "    .dataframe thead th {\n",
       "        text-align: left;\n",
       "    }\n",
       "\n",
       "    .dataframe tbody tr th {\n",
       "        vertical-align: top;\n",
       "    }\n",
       "</style>\n",
       "<table border=\"1\" class=\"dataframe\">\n",
       "  <thead>\n",
       "    <tr style=\"text-align: right;\">\n",
       "      <th></th>\n",
       "      <th>user_id</th>\n",
       "      <th>program_id</th>\n",
       "      <th>series_id</th>\n",
       "      <th>genre</th>\n",
       "      <th>programme_duration</th>\n",
       "      <th>streaming_id</th>\n",
       "      <th>start_date_time</th>\n",
       "      <th>time_viewed</th>\n",
       "      <th>weekday</th>\n",
       "      <th>time_of_day</th>\n",
       "      <th>programme_duration_mins</th>\n",
       "      <th>twoweek</th>\n",
       "      <th>min_watched</th>\n",
       "    </tr>\n",
       "  </thead>\n",
       "  <tbody>\n",
       "    <tr>\n",
       "      <th>0</th>\n",
       "      <td>cd2006</td>\n",
       "      <td>f6d3d8</td>\n",
       "      <td>a282ca</td>\n",
       "      <td>Factual</td>\n",
       "      <td>00:00:21</td>\n",
       "      <td>1486911129420_1</td>\n",
       "      <td>2017-02-12 14:51:24.544</td>\n",
       "      <td>20920.0</td>\n",
       "      <td>weekday_6</td>\n",
       "      <td>Afternoon</td>\n",
       "      <td>0.350000</td>\n",
       "      <td>3</td>\n",
       "      <td>0.348667</td>\n",
       "    </tr>\n",
       "    <tr>\n",
       "      <th>1</th>\n",
       "      <td>cd2006</td>\n",
       "      <td>b8fbf2</td>\n",
       "      <td>e0480e</td>\n",
       "      <td>Comedy</td>\n",
       "      <td>00:01:51</td>\n",
       "      <td>1484864257965_1</td>\n",
       "      <td>2017-01-19 22:17:04.648</td>\n",
       "      <td>111285.0</td>\n",
       "      <td>weekday_3</td>\n",
       "      <td>Evening</td>\n",
       "      <td>1.850000</td>\n",
       "      <td>1</td>\n",
       "      <td>1.854750</td>\n",
       "    </tr>\n",
       "    <tr>\n",
       "      <th>2</th>\n",
       "      <td>cd2006</td>\n",
       "      <td>e2f113</td>\n",
       "      <td>933a1b</td>\n",
       "      <td>Factual</td>\n",
       "      <td>00:00:30</td>\n",
       "      <td>1487099603980_1</td>\n",
       "      <td>2017-02-14 19:12:36.667</td>\n",
       "      <td>29945.0</td>\n",
       "      <td>weekday_1</td>\n",
       "      <td>Evening</td>\n",
       "      <td>0.500000</td>\n",
       "      <td>3</td>\n",
       "      <td>0.499083</td>\n",
       "    </tr>\n",
       "    <tr>\n",
       "      <th>3</th>\n",
       "      <td>cd2006</td>\n",
       "      <td>0e0916</td>\n",
       "      <td>b68e79</td>\n",
       "      <td>Entertainment</td>\n",
       "      <td>00:01:22</td>\n",
       "      <td>1484773546557_1</td>\n",
       "      <td>2017-01-18 21:05:11.466</td>\n",
       "      <td>82620.0</td>\n",
       "      <td>weekday_2</td>\n",
       "      <td>Evening</td>\n",
       "      <td>1.366667</td>\n",
       "      <td>1</td>\n",
       "      <td>1.377000</td>\n",
       "    </tr>\n",
       "    <tr>\n",
       "      <th>4</th>\n",
       "      <td>cd2006</td>\n",
       "      <td>ca03b9</td>\n",
       "      <td>5d0813</td>\n",
       "      <td>Sport</td>\n",
       "      <td>00:01:37</td>\n",
       "      <td>1486911176609_1</td>\n",
       "      <td>2017-02-12 14:52:08.965</td>\n",
       "      <td>97444.0</td>\n",
       "      <td>weekday_6</td>\n",
       "      <td>Afternoon</td>\n",
       "      <td>1.616667</td>\n",
       "      <td>3</td>\n",
       "      <td>1.624067</td>\n",
       "    </tr>\n",
       "  </tbody>\n",
       "</table>\n",
       "</div>"
      ],
      "text/plain": [
       "  user_id program_id series_id          genre programme_duration  \\\n",
       "0  cd2006     f6d3d8    a282ca        Factual           00:00:21   \n",
       "1  cd2006     b8fbf2    e0480e         Comedy           00:01:51   \n",
       "2  cd2006     e2f113    933a1b        Factual           00:00:30   \n",
       "3  cd2006     0e0916    b68e79  Entertainment           00:01:22   \n",
       "4  cd2006     ca03b9    5d0813          Sport           00:01:37   \n",
       "\n",
       "      streaming_id         start_date_time  time_viewed    weekday  \\\n",
       "0  1486911129420_1 2017-02-12 14:51:24.544      20920.0  weekday_6   \n",
       "1  1484864257965_1 2017-01-19 22:17:04.648     111285.0  weekday_3   \n",
       "2  1487099603980_1 2017-02-14 19:12:36.667      29945.0  weekday_1   \n",
       "3  1484773546557_1 2017-01-18 21:05:11.466      82620.0  weekday_2   \n",
       "4  1486911176609_1 2017-02-12 14:52:08.965      97444.0  weekday_6   \n",
       "\n",
       "  time_of_day  programme_duration_mins  twoweek  min_watched  \n",
       "0   Afternoon                 0.350000        3     0.348667  \n",
       "1     Evening                 1.850000        1     1.854750  \n",
       "2     Evening                 0.500000        3     0.499083  \n",
       "3     Evening                 1.366667        1     1.377000  \n",
       "4   Afternoon                 1.616667        3     1.624067  "
      ]
     },
     "execution_count": 4,
     "metadata": {},
     "output_type": "execute_result"
    }
   ],
   "source": [
    "# Apply the functions to the dataframe\n",
    "data['weekday']=data['start_date_time'].apply(get_weekday)\n",
    "data['time_of_day']=data['start_date_time'].apply(get_timeofday)\n",
    "data['programme_duration_mins']=data['programme_duration'].apply(parse_programme_duration)\n",
    "data['twoweek']=data['start_date_time'].apply(get_twoweeknumber)\n",
    "\n",
    "# Convert time viewed and length of programme into minutes\n",
    "data['min_watched']=data['time_viewed']/(60000.0)\n",
    "\n",
    "data.head()"
   ]
  },
  {
   "cell_type": "markdown",
   "metadata": {},
   "source": [
    "## Exploratory data analysis\n",
    "\n",
    "Once we have our dataset, enhanced with some additional features we can start its exploration. First of all, we need to check the quality of the data we are working with. Most data sources are very \"noisy\": often data is missing for some observations or data can also be wrong. It is therefore crucial to spend some time cleaning the data to avoid a \"garbage in, garbage out\" problem. Cleaning involves both to __infer missing values__ and to identify __outliers__ (statistically improbable values). When dealing with missing or unusual values, keep always in mind the “business\" and context of your analysis. \n",
    "\n",
    "Generally the investigation and enrichment of data is quite a cyclical process. As you investigate the data you have new ideas on how to fix and enrich it and you will then again check whether you have any missing or clearly wrong values in your dataset. \n",
    "\n",
    "Exploratory data analysis allows us as well to get a “feel” for our dataset and provides useful insights regarding the best techniques or models to use later on in the modelling stage. Data exploration can involve many different techniques and approaches but will invariably include generating __descriptive statistics__ and __visualising distributions__. Summarising our data in this way is not only useful for checking the assumptions that many models hold about our data but can also be useful to perform “sanity checks” when evaluating the output of the more complex models we use later on.\n",
    "\n",
    "### Data quality check - missing values and outliers"
   ]
  },
  {
   "cell_type": "code",
   "execution_count": 5,
   "metadata": {},
   "outputs": [
    {
     "name": "stdout",
     "output_type": "stream",
     "text": [
      "user_id - Missing: 0 - Unique: 9937\n",
      "program_id - Missing: 33698 - Unique: 23857\n",
      "series_id - Missing: 33698 - Unique: 5921\n",
      "genre - Missing: 67719 - Unique: 12\n",
      "programme_duration - Missing: 33698 - Unique: 891\n",
      "streaming_id - Missing: 0 - Unique: 434430\n",
      "start_date_time - Missing: 0 - Unique: 490626\n",
      "time_viewed - Missing: 1900 - Unique: 259532\n",
      "weekday - Missing: 0 - Unique: 7\n",
      "time_of_day - Missing: 0 - Unique: 4\n",
      "programme_duration_mins - Missing: 33698 - Unique: 891\n",
      "twoweek - Missing: 0 - Unique: 10\n",
      "min_watched - Missing: 1900 - Unique: 259532\n"
     ]
    }
   ],
   "source": [
    "# Check how many missing and unique values there are per column\n",
    "features=data.columns.values\n",
    "for feature in features:\n",
    "    print(feature,'- Missing:', \n",
    "          sum(data[feature].isnull()),\n",
    "          '- Unique:', len(data[feature].unique()))"
   ]
  },
  {
   "cell_type": "markdown",
   "metadata": {},
   "source": [
    "Sometimes we can improve our model by not dropping rows with missing data, but instead trying to impute what the missing values should be. Scikit has a whole set of functions for this (such as imputing the median or a fixed number), but we will create our own functions in this case because it makes it more clear what we are doing. \n",
    "\n",
    "Since `genre` has only a small number of possible values but quite a large number of missing values, we will start by imputing the genre to reduce the amount of missing data. After that the most useful column to impute is probably `programme_duration`, again because it is quite easy to impute and will remove a fair amount of missing data. \n",
    "\n",
    "We could also think about imputing `series_id` as well if we wanted to get really clever at a later stage (maybe the same programme sometimes has a `series_id` and sometimes it doesn't). \n",
    "\n",
    "For the other missing variables imputation probably makes little sense at this stage. \n",
    "\n",
    "Agaian, usually we would cycle through the whole process of imputing data > building features > building/training models > evaluating models multiple times. By having a clear success metric, it makes it much easier for us to see whether any of the additional complexity delivers value.\n",
    "\n",
    "#### genre\n",
    "\n",
    "Let's see first whether we can guess the genre based on the id of the piece of content."
   ]
  },
  {
   "cell_type": "code",
   "execution_count": 6,
   "metadata": {},
   "outputs": [
    {
     "data": {
      "text/html": [
       "<div>\n",
       "<style>\n",
       "    .dataframe thead tr:only-child th {\n",
       "        text-align: right;\n",
       "    }\n",
       "\n",
       "    .dataframe thead th {\n",
       "        text-align: left;\n",
       "    }\n",
       "\n",
       "    .dataframe tbody tr th {\n",
       "        vertical-align: top;\n",
       "    }\n",
       "</style>\n",
       "<table border=\"1\" class=\"dataframe\">\n",
       "  <thead>\n",
       "    <tr style=\"text-align: right;\">\n",
       "      <th></th>\n",
       "      <th>series_id</th>\n",
       "      <th>enriched_genre</th>\n",
       "    </tr>\n",
       "  </thead>\n",
       "  <tbody>\n",
       "    <tr>\n",
       "      <th>0</th>\n",
       "      <td>001b96</td>\n",
       "      <td>Factual</td>\n",
       "    </tr>\n",
       "    <tr>\n",
       "      <th>1</th>\n",
       "      <td>00389f</td>\n",
       "      <td>Factual</td>\n",
       "    </tr>\n",
       "    <tr>\n",
       "      <th>2</th>\n",
       "      <td>00400b</td>\n",
       "      <td>Children's</td>\n",
       "    </tr>\n",
       "    <tr>\n",
       "      <th>3</th>\n",
       "      <td>00434d</td>\n",
       "      <td>Factual</td>\n",
       "    </tr>\n",
       "    <tr>\n",
       "      <th>4</th>\n",
       "      <td>0079b7</td>\n",
       "      <td>Factual</td>\n",
       "    </tr>\n",
       "  </tbody>\n",
       "</table>\n",
       "</div>"
      ],
      "text/plain": [
       "  series_id enriched_genre\n",
       "0    001b96        Factual\n",
       "1    00389f        Factual\n",
       "2    00400b     Children's\n",
       "3    00434d        Factual\n",
       "4    0079b7        Factual"
      ]
     },
     "execution_count": 6,
     "metadata": {},
     "output_type": "execute_result"
    }
   ],
   "source": [
    "# First create a data frame that maps each piece of content with its genre\n",
    "series_mapping=pd.pivot_table(data,values='streaming_id',\n",
    "                              index=['series_id'],\n",
    "                              columns=['genre'],\n",
    "                              aggfunc=len).idxmax(axis=1)\n",
    "series_mapping=pd.DataFrame(series_mapping).reset_index().rename(columns={0:'enriched_genre'})\n",
    "series_mapping.head()"
   ]
  },
  {
   "cell_type": "code",
   "execution_count": 7,
   "metadata": {},
   "outputs": [
    {
     "data": {
      "text/html": [
       "<div>\n",
       "<style>\n",
       "    .dataframe thead tr:only-child th {\n",
       "        text-align: right;\n",
       "    }\n",
       "\n",
       "    .dataframe thead th {\n",
       "        text-align: left;\n",
       "    }\n",
       "\n",
       "    .dataframe tbody tr th {\n",
       "        vertical-align: top;\n",
       "    }\n",
       "</style>\n",
       "<table border=\"1\" class=\"dataframe\">\n",
       "  <thead>\n",
       "    <tr style=\"text-align: right;\">\n",
       "      <th></th>\n",
       "      <th>user_id</th>\n",
       "      <th>program_id</th>\n",
       "      <th>series_id</th>\n",
       "      <th>genre</th>\n",
       "      <th>programme_duration</th>\n",
       "      <th>streaming_id</th>\n",
       "      <th>start_date_time</th>\n",
       "      <th>time_viewed</th>\n",
       "      <th>weekday</th>\n",
       "      <th>time_of_day</th>\n",
       "      <th>programme_duration_mins</th>\n",
       "      <th>twoweek</th>\n",
       "      <th>min_watched</th>\n",
       "      <th>enriched_genre</th>\n",
       "    </tr>\n",
       "  </thead>\n",
       "  <tbody>\n",
       "    <tr>\n",
       "      <th>134</th>\n",
       "      <td>3387a6</td>\n",
       "      <td>47f8c1</td>\n",
       "      <td>c9cc1a</td>\n",
       "      <td>NaN</td>\n",
       "      <td>00:00:00</td>\n",
       "      <td>1485900618555_1</td>\n",
       "      <td>2017-01-31 22:10:20.049</td>\n",
       "      <td>3584.0</td>\n",
       "      <td>weekday_1</td>\n",
       "      <td>Evening</td>\n",
       "      <td>0.0</td>\n",
       "      <td>2</td>\n",
       "      <td>0.059733</td>\n",
       "      <td>Factual</td>\n",
       "    </tr>\n",
       "    <tr>\n",
       "      <th>140</th>\n",
       "      <td>3387a6</td>\n",
       "      <td>NaN</td>\n",
       "      <td>NaN</td>\n",
       "      <td>NaN</td>\n",
       "      <td>NaN</td>\n",
       "      <td>1489439401348_1</td>\n",
       "      <td>2017-03-13 21:10:02.421</td>\n",
       "      <td>3730.0</td>\n",
       "      <td>weekday_0</td>\n",
       "      <td>Evening</td>\n",
       "      <td>NaN</td>\n",
       "      <td>5</td>\n",
       "      <td>0.062167</td>\n",
       "      <td>NaN</td>\n",
       "    </tr>\n",
       "    <tr>\n",
       "      <th>141</th>\n",
       "      <td>3387a6</td>\n",
       "      <td>NaN</td>\n",
       "      <td>NaN</td>\n",
       "      <td>NaN</td>\n",
       "      <td>NaN</td>\n",
       "      <td>1485100892026_1</td>\n",
       "      <td>2017-01-22 16:01:34.292</td>\n",
       "      <td>3634.0</td>\n",
       "      <td>weekday_6</td>\n",
       "      <td>Afternoon</td>\n",
       "      <td>NaN</td>\n",
       "      <td>1</td>\n",
       "      <td>0.060567</td>\n",
       "      <td>NaN</td>\n",
       "    </tr>\n",
       "    <tr>\n",
       "      <th>142</th>\n",
       "      <td>3387a6</td>\n",
       "      <td>NaN</td>\n",
       "      <td>NaN</td>\n",
       "      <td>NaN</td>\n",
       "      <td>NaN</td>\n",
       "      <td>1489441109070_3</td>\n",
       "      <td>2017-03-13 21:38:30.203</td>\n",
       "      <td>3651.0</td>\n",
       "      <td>weekday_0</td>\n",
       "      <td>Evening</td>\n",
       "      <td>NaN</td>\n",
       "      <td>5</td>\n",
       "      <td>0.060850</td>\n",
       "      <td>NaN</td>\n",
       "    </tr>\n",
       "    <tr>\n",
       "      <th>143</th>\n",
       "      <td>3387a6</td>\n",
       "      <td>NaN</td>\n",
       "      <td>NaN</td>\n",
       "      <td>NaN</td>\n",
       "      <td>NaN</td>\n",
       "      <td>1493538827057_2</td>\n",
       "      <td>2017-04-30 07:53:47.559</td>\n",
       "      <td>3665.0</td>\n",
       "      <td>weekday_6</td>\n",
       "      <td>Morning</td>\n",
       "      <td>NaN</td>\n",
       "      <td>8</td>\n",
       "      <td>0.061083</td>\n",
       "      <td>NaN</td>\n",
       "    </tr>\n",
       "  </tbody>\n",
       "</table>\n",
       "</div>"
      ],
      "text/plain": [
       "    user_id program_id series_id genre programme_duration     streaming_id  \\\n",
       "134  3387a6     47f8c1    c9cc1a   NaN           00:00:00  1485900618555_1   \n",
       "140  3387a6        NaN       NaN   NaN                NaN  1489439401348_1   \n",
       "141  3387a6        NaN       NaN   NaN                NaN  1485100892026_1   \n",
       "142  3387a6        NaN       NaN   NaN                NaN  1489441109070_3   \n",
       "143  3387a6        NaN       NaN   NaN                NaN  1493538827057_2   \n",
       "\n",
       "            start_date_time  time_viewed    weekday time_of_day  \\\n",
       "134 2017-01-31 22:10:20.049       3584.0  weekday_1     Evening   \n",
       "140 2017-03-13 21:10:02.421       3730.0  weekday_0     Evening   \n",
       "141 2017-01-22 16:01:34.292       3634.0  weekday_6   Afternoon   \n",
       "142 2017-03-13 21:38:30.203       3651.0  weekday_0     Evening   \n",
       "143 2017-04-30 07:53:47.559       3665.0  weekday_6     Morning   \n",
       "\n",
       "     programme_duration_mins  twoweek  min_watched enriched_genre  \n",
       "134                      0.0        2     0.059733        Factual  \n",
       "140                      NaN        5     0.062167            NaN  \n",
       "141                      NaN        1     0.060567            NaN  \n",
       "142                      NaN        5     0.060850            NaN  \n",
       "143                      NaN        8     0.061083            NaN  "
      ]
     },
     "execution_count": 7,
     "metadata": {},
     "output_type": "execute_result"
    }
   ],
   "source": [
    "# let's merge in the genre back into the data\n",
    "data=pd.merge(data,series_mapping,how='left',on='series_id')\n",
    "data[data['genre'].isnull()].head()"
   ]
  },
  {
   "cell_type": "code",
   "execution_count": 8,
   "metadata": {},
   "outputs": [
    {
     "name": "stdout",
     "output_type": "stream",
     "text": [
      "genre - Missing: 67719 - Unique: 12\n",
      "enriched_genre - Missing: 43829 - Unique: 12\n"
     ]
    }
   ],
   "source": [
    "# Check how many missing and unique values for this column\n",
    "features=['genre','enriched_genre']\n",
    "for feature in features:\n",
    "    print(feature,'- Missing:',sum(data[feature].isnull()),\n",
    "          '- Unique:', len(data[feature].unique()))"
   ]
  },
  {
   "cell_type": "markdown",
   "metadata": {},
   "source": [
    "So while this has made things better (compare `genre` to `enriched_genre`), we are still missing the genre for a lot of different rows of data.\n",
    "\n",
    "Let's try to infer the genre based on seasonality patterns."
   ]
  },
  {
   "cell_type": "code",
   "execution_count": 9,
   "metadata": {},
   "outputs": [
    {
     "data": {
      "text/html": [
       "<div>\n",
       "<style>\n",
       "    .dataframe thead tr:only-child th {\n",
       "        text-align: right;\n",
       "    }\n",
       "\n",
       "    .dataframe thead th {\n",
       "        text-align: left;\n",
       "    }\n",
       "\n",
       "    .dataframe tbody tr th {\n",
       "        vertical-align: top;\n",
       "    }\n",
       "</style>\n",
       "<table border=\"1\" class=\"dataframe\">\n",
       "  <thead>\n",
       "    <tr style=\"text-align: right;\">\n",
       "      <th></th>\n",
       "      <th>time_of_day</th>\n",
       "      <th>enriched_genre</th>\n",
       "    </tr>\n",
       "  </thead>\n",
       "  <tbody>\n",
       "    <tr>\n",
       "      <th>0</th>\n",
       "      <td>Afternoon</td>\n",
       "      <td>Factual</td>\n",
       "    </tr>\n",
       "    <tr>\n",
       "      <th>1</th>\n",
       "      <td>Evening</td>\n",
       "      <td>Factual</td>\n",
       "    </tr>\n",
       "    <tr>\n",
       "      <th>2</th>\n",
       "      <td>Morning</td>\n",
       "      <td>Factual</td>\n",
       "    </tr>\n",
       "    <tr>\n",
       "      <th>3</th>\n",
       "      <td>Night</td>\n",
       "      <td>Factual</td>\n",
       "    </tr>\n",
       "  </tbody>\n",
       "</table>\n",
       "</div>"
      ],
      "text/plain": [
       "  time_of_day enriched_genre\n",
       "0   Afternoon        Factual\n",
       "1     Evening        Factual\n",
       "2     Morning        Factual\n",
       "3       Night        Factual"
      ]
     },
     "execution_count": 9,
     "metadata": {},
     "output_type": "execute_result"
    }
   ],
   "source": [
    "# What genre is the most popular at which time of day\n",
    "genre_by_time=pd.pivot_table(data,values='streaming_id',\n",
    "                             index=['time_of_day'],\n",
    "                             columns=['enriched_genre'],\n",
    "                             aggfunc=len).idxmax(axis=1)\n",
    "genre_by_time=pd.DataFrame(genre_by_time).reset_index().rename(columns={0:'enriched_genre'})\n",
    "genre_by_time"
   ]
  },
  {
   "cell_type": "markdown",
   "metadata": {},
   "source": [
    "Maybe the time of the day isn't granular enough. Let's consider the hour the content is displayed."
   ]
  },
  {
   "cell_type": "code",
   "execution_count": 10,
   "metadata": {},
   "outputs": [
    {
     "data": {
      "text/html": [
       "<div>\n",
       "<style>\n",
       "    .dataframe thead tr:only-child th {\n",
       "        text-align: right;\n",
       "    }\n",
       "\n",
       "    .dataframe thead th {\n",
       "        text-align: left;\n",
       "    }\n",
       "\n",
       "    .dataframe tbody tr th {\n",
       "        vertical-align: top;\n",
       "    }\n",
       "</style>\n",
       "<table border=\"1\" class=\"dataframe\">\n",
       "  <thead>\n",
       "    <tr style=\"text-align: right;\">\n",
       "      <th></th>\n",
       "      <th>hour</th>\n",
       "      <th>enriched_genre_hour</th>\n",
       "    </tr>\n",
       "  </thead>\n",
       "  <tbody>\n",
       "    <tr>\n",
       "      <th>0</th>\n",
       "      <td>0</td>\n",
       "      <td>Factual</td>\n",
       "    </tr>\n",
       "    <tr>\n",
       "      <th>1</th>\n",
       "      <td>1</td>\n",
       "      <td>Factual</td>\n",
       "    </tr>\n",
       "    <tr>\n",
       "      <th>2</th>\n",
       "      <td>2</td>\n",
       "      <td>Factual</td>\n",
       "    </tr>\n",
       "    <tr>\n",
       "      <th>3</th>\n",
       "      <td>3</td>\n",
       "      <td>Factual</td>\n",
       "    </tr>\n",
       "    <tr>\n",
       "      <th>4</th>\n",
       "      <td>4</td>\n",
       "      <td>Factual</td>\n",
       "    </tr>\n",
       "    <tr>\n",
       "      <th>5</th>\n",
       "      <td>5</td>\n",
       "      <td>News</td>\n",
       "    </tr>\n",
       "    <tr>\n",
       "      <th>6</th>\n",
       "      <td>6</td>\n",
       "      <td>News</td>\n",
       "    </tr>\n",
       "    <tr>\n",
       "      <th>7</th>\n",
       "      <td>7</td>\n",
       "      <td>Factual</td>\n",
       "    </tr>\n",
       "    <tr>\n",
       "      <th>8</th>\n",
       "      <td>8</td>\n",
       "      <td>Factual</td>\n",
       "    </tr>\n",
       "    <tr>\n",
       "      <th>9</th>\n",
       "      <td>9</td>\n",
       "      <td>Factual</td>\n",
       "    </tr>\n",
       "    <tr>\n",
       "      <th>10</th>\n",
       "      <td>10</td>\n",
       "      <td>Factual</td>\n",
       "    </tr>\n",
       "    <tr>\n",
       "      <th>11</th>\n",
       "      <td>11</td>\n",
       "      <td>Factual</td>\n",
       "    </tr>\n",
       "    <tr>\n",
       "      <th>12</th>\n",
       "      <td>12</td>\n",
       "      <td>Factual</td>\n",
       "    </tr>\n",
       "    <tr>\n",
       "      <th>13</th>\n",
       "      <td>13</td>\n",
       "      <td>Factual</td>\n",
       "    </tr>\n",
       "    <tr>\n",
       "      <th>14</th>\n",
       "      <td>14</td>\n",
       "      <td>Factual</td>\n",
       "    </tr>\n",
       "    <tr>\n",
       "      <th>15</th>\n",
       "      <td>15</td>\n",
       "      <td>Factual</td>\n",
       "    </tr>\n",
       "    <tr>\n",
       "      <th>16</th>\n",
       "      <td>16</td>\n",
       "      <td>Factual</td>\n",
       "    </tr>\n",
       "    <tr>\n",
       "      <th>17</th>\n",
       "      <td>17</td>\n",
       "      <td>Factual</td>\n",
       "    </tr>\n",
       "    <tr>\n",
       "      <th>18</th>\n",
       "      <td>18</td>\n",
       "      <td>Factual</td>\n",
       "    </tr>\n",
       "    <tr>\n",
       "      <th>19</th>\n",
       "      <td>19</td>\n",
       "      <td>Factual</td>\n",
       "    </tr>\n",
       "    <tr>\n",
       "      <th>20</th>\n",
       "      <td>20</td>\n",
       "      <td>Factual</td>\n",
       "    </tr>\n",
       "    <tr>\n",
       "      <th>21</th>\n",
       "      <td>21</td>\n",
       "      <td>Drama</td>\n",
       "    </tr>\n",
       "    <tr>\n",
       "      <th>22</th>\n",
       "      <td>22</td>\n",
       "      <td>Drama</td>\n",
       "    </tr>\n",
       "    <tr>\n",
       "      <th>23</th>\n",
       "      <td>23</td>\n",
       "      <td>Factual</td>\n",
       "    </tr>\n",
       "  </tbody>\n",
       "</table>\n",
       "</div>"
      ],
      "text/plain": [
       "    hour enriched_genre_hour\n",
       "0      0             Factual\n",
       "1      1             Factual\n",
       "2      2             Factual\n",
       "3      3             Factual\n",
       "4      4             Factual\n",
       "5      5                News\n",
       "6      6                News\n",
       "7      7             Factual\n",
       "8      8             Factual\n",
       "9      9             Factual\n",
       "10    10             Factual\n",
       "11    11             Factual\n",
       "12    12             Factual\n",
       "13    13             Factual\n",
       "14    14             Factual\n",
       "15    15             Factual\n",
       "16    16             Factual\n",
       "17    17             Factual\n",
       "18    18             Factual\n",
       "19    19             Factual\n",
       "20    20             Factual\n",
       "21    21               Drama\n",
       "22    22               Drama\n",
       "23    23             Factual"
      ]
     },
     "execution_count": 10,
     "metadata": {},
     "output_type": "execute_result"
    }
   ],
   "source": [
    "# What genre is the most popular at which hour of day\n",
    "# Rmk: we first need to build this new feature\n",
    "data['hour']=data.start_date_time.apply(lambda x:x.hour)\n",
    "genre_by_hour=pd.pivot_table(data,values='streaming_id',\n",
    "                             index=['hour'],\n",
    "                             columns=['enriched_genre'],\n",
    "                             aggfunc=len).idxmax(axis=1)\n",
    "genre_by_hour=pd.DataFrame(genre_by_hour).reset_index().rename(columns={0:'enriched_genre_hour'})\n",
    "genre_by_hour"
   ]
  },
  {
   "cell_type": "markdown",
   "metadata": {},
   "source": [
    "With this granularity we can get the news pattern in the morning and the movies at night."
   ]
  },
  {
   "cell_type": "code",
   "execution_count": 11,
   "metadata": {},
   "outputs": [
    {
     "data": {
      "text/html": [
       "<div>\n",
       "<style>\n",
       "    .dataframe thead tr:only-child th {\n",
       "        text-align: right;\n",
       "    }\n",
       "\n",
       "    .dataframe thead th {\n",
       "        text-align: left;\n",
       "    }\n",
       "\n",
       "    .dataframe tbody tr th {\n",
       "        vertical-align: top;\n",
       "    }\n",
       "</style>\n",
       "<table border=\"1\" class=\"dataframe\">\n",
       "  <thead>\n",
       "    <tr style=\"text-align: right;\">\n",
       "      <th></th>\n",
       "      <th>user_id</th>\n",
       "      <th>program_id</th>\n",
       "      <th>series_id</th>\n",
       "      <th>genre</th>\n",
       "      <th>programme_duration</th>\n",
       "      <th>streaming_id</th>\n",
       "      <th>start_date_time</th>\n",
       "      <th>time_viewed</th>\n",
       "      <th>weekday</th>\n",
       "      <th>time_of_day</th>\n",
       "      <th>programme_duration_mins</th>\n",
       "      <th>twoweek</th>\n",
       "      <th>min_watched</th>\n",
       "      <th>enriched_genre</th>\n",
       "      <th>hour</th>\n",
       "      <th>enriched_genre_hour</th>\n",
       "    </tr>\n",
       "  </thead>\n",
       "  <tbody>\n",
       "    <tr>\n",
       "      <th>0</th>\n",
       "      <td>cd2006</td>\n",
       "      <td>f6d3d8</td>\n",
       "      <td>a282ca</td>\n",
       "      <td>Factual</td>\n",
       "      <td>00:00:21</td>\n",
       "      <td>1486911129420_1</td>\n",
       "      <td>2017-02-12 14:51:24.544</td>\n",
       "      <td>20920.0</td>\n",
       "      <td>weekday_6</td>\n",
       "      <td>Afternoon</td>\n",
       "      <td>0.350000</td>\n",
       "      <td>3</td>\n",
       "      <td>0.348667</td>\n",
       "      <td>Factual</td>\n",
       "      <td>14</td>\n",
       "      <td>Factual</td>\n",
       "    </tr>\n",
       "    <tr>\n",
       "      <th>1</th>\n",
       "      <td>cd2006</td>\n",
       "      <td>b8fbf2</td>\n",
       "      <td>e0480e</td>\n",
       "      <td>Comedy</td>\n",
       "      <td>00:01:51</td>\n",
       "      <td>1484864257965_1</td>\n",
       "      <td>2017-01-19 22:17:04.648</td>\n",
       "      <td>111285.0</td>\n",
       "      <td>weekday_3</td>\n",
       "      <td>Evening</td>\n",
       "      <td>1.850000</td>\n",
       "      <td>1</td>\n",
       "      <td>1.854750</td>\n",
       "      <td>Comedy</td>\n",
       "      <td>22</td>\n",
       "      <td>Drama</td>\n",
       "    </tr>\n",
       "    <tr>\n",
       "      <th>2</th>\n",
       "      <td>cd2006</td>\n",
       "      <td>e2f113</td>\n",
       "      <td>933a1b</td>\n",
       "      <td>Factual</td>\n",
       "      <td>00:00:30</td>\n",
       "      <td>1487099603980_1</td>\n",
       "      <td>2017-02-14 19:12:36.667</td>\n",
       "      <td>29945.0</td>\n",
       "      <td>weekday_1</td>\n",
       "      <td>Evening</td>\n",
       "      <td>0.500000</td>\n",
       "      <td>3</td>\n",
       "      <td>0.499083</td>\n",
       "      <td>Factual</td>\n",
       "      <td>19</td>\n",
       "      <td>Factual</td>\n",
       "    </tr>\n",
       "    <tr>\n",
       "      <th>3</th>\n",
       "      <td>cd2006</td>\n",
       "      <td>0e0916</td>\n",
       "      <td>b68e79</td>\n",
       "      <td>Entertainment</td>\n",
       "      <td>00:01:22</td>\n",
       "      <td>1484773546557_1</td>\n",
       "      <td>2017-01-18 21:05:11.466</td>\n",
       "      <td>82620.0</td>\n",
       "      <td>weekday_2</td>\n",
       "      <td>Evening</td>\n",
       "      <td>1.366667</td>\n",
       "      <td>1</td>\n",
       "      <td>1.377000</td>\n",
       "      <td>Entertainment</td>\n",
       "      <td>21</td>\n",
       "      <td>Drama</td>\n",
       "    </tr>\n",
       "    <tr>\n",
       "      <th>4</th>\n",
       "      <td>cd2006</td>\n",
       "      <td>ca03b9</td>\n",
       "      <td>5d0813</td>\n",
       "      <td>Sport</td>\n",
       "      <td>00:01:37</td>\n",
       "      <td>1486911176609_1</td>\n",
       "      <td>2017-02-12 14:52:08.965</td>\n",
       "      <td>97444.0</td>\n",
       "      <td>weekday_6</td>\n",
       "      <td>Afternoon</td>\n",
       "      <td>1.616667</td>\n",
       "      <td>3</td>\n",
       "      <td>1.624067</td>\n",
       "      <td>Sport</td>\n",
       "      <td>14</td>\n",
       "      <td>Factual</td>\n",
       "    </tr>\n",
       "  </tbody>\n",
       "</table>\n",
       "</div>"
      ],
      "text/plain": [
       "  user_id program_id series_id          genre programme_duration  \\\n",
       "0  cd2006     f6d3d8    a282ca        Factual           00:00:21   \n",
       "1  cd2006     b8fbf2    e0480e         Comedy           00:01:51   \n",
       "2  cd2006     e2f113    933a1b        Factual           00:00:30   \n",
       "3  cd2006     0e0916    b68e79  Entertainment           00:01:22   \n",
       "4  cd2006     ca03b9    5d0813          Sport           00:01:37   \n",
       "\n",
       "      streaming_id         start_date_time  time_viewed    weekday  \\\n",
       "0  1486911129420_1 2017-02-12 14:51:24.544      20920.0  weekday_6   \n",
       "1  1484864257965_1 2017-01-19 22:17:04.648     111285.0  weekday_3   \n",
       "2  1487099603980_1 2017-02-14 19:12:36.667      29945.0  weekday_1   \n",
       "3  1484773546557_1 2017-01-18 21:05:11.466      82620.0  weekday_2   \n",
       "4  1486911176609_1 2017-02-12 14:52:08.965      97444.0  weekday_6   \n",
       "\n",
       "  time_of_day  programme_duration_mins  twoweek  min_watched enriched_genre  \\\n",
       "0   Afternoon                 0.350000        3     0.348667        Factual   \n",
       "1     Evening                 1.850000        1     1.854750         Comedy   \n",
       "2     Evening                 0.500000        3     0.499083        Factual   \n",
       "3     Evening                 1.366667        1     1.377000  Entertainment   \n",
       "4   Afternoon                 1.616667        3     1.624067          Sport   \n",
       "\n",
       "   hour enriched_genre_hour  \n",
       "0    14             Factual  \n",
       "1    22               Drama  \n",
       "2    19             Factual  \n",
       "3    21               Drama  \n",
       "4    14             Factual  "
      ]
     },
     "execution_count": 11,
     "metadata": {},
     "output_type": "execute_result"
    }
   ],
   "source": [
    "# let's merge in the genre back into the data\n",
    "data=pd.merge(data,genre_by_hour,how='left',on='hour')\n",
    "data.head()"
   ]
  },
  {
   "cell_type": "code",
   "execution_count": 12,
   "metadata": {
    "collapsed": true
   },
   "outputs": [],
   "source": [
    "# Function that imputes a genre based on the series id or the time of day if data is missing\n",
    "def impute_genre(row):\n",
    "    if isinstance(row['genre'],str):\n",
    "        return row['genre']\n",
    "    elif isinstance(row['enriched_genre'],str):\n",
    "        return row['enriched_genre']\n",
    "    else:\n",
    "        return row['enriched_genre_hour']"
   ]
  },
  {
   "cell_type": "code",
   "execution_count": 13,
   "metadata": {
    "collapsed": true
   },
   "outputs": [],
   "source": [
    "# Apply the function to the dataframe\n",
    "data['enriched_genre']=data.apply(impute_genre, axis=1)"
   ]
  },
  {
   "cell_type": "code",
   "execution_count": 14,
   "metadata": {},
   "outputs": [
    {
     "data": {
      "text/html": [
       "<div>\n",
       "<style>\n",
       "    .dataframe thead tr:only-child th {\n",
       "        text-align: right;\n",
       "    }\n",
       "\n",
       "    .dataframe thead th {\n",
       "        text-align: left;\n",
       "    }\n",
       "\n",
       "    .dataframe tbody tr th {\n",
       "        vertical-align: top;\n",
       "    }\n",
       "</style>\n",
       "<table border=\"1\" class=\"dataframe\">\n",
       "  <thead>\n",
       "    <tr style=\"text-align: right;\">\n",
       "      <th></th>\n",
       "      <th>user_id</th>\n",
       "      <th>program_id</th>\n",
       "      <th>series_id</th>\n",
       "      <th>genre</th>\n",
       "      <th>programme_duration</th>\n",
       "      <th>streaming_id</th>\n",
       "      <th>start_date_time</th>\n",
       "      <th>time_viewed</th>\n",
       "      <th>weekday</th>\n",
       "      <th>time_of_day</th>\n",
       "      <th>programme_duration_mins</th>\n",
       "      <th>twoweek</th>\n",
       "      <th>min_watched</th>\n",
       "      <th>enriched_genre</th>\n",
       "      <th>hour</th>\n",
       "      <th>enriched_genre_hour</th>\n",
       "    </tr>\n",
       "  </thead>\n",
       "  <tbody>\n",
       "    <tr>\n",
       "      <th>134</th>\n",
       "      <td>3387a6</td>\n",
       "      <td>47f8c1</td>\n",
       "      <td>c9cc1a</td>\n",
       "      <td>NaN</td>\n",
       "      <td>00:00:00</td>\n",
       "      <td>1485900618555_1</td>\n",
       "      <td>2017-01-31 22:10:20.049</td>\n",
       "      <td>3584.0</td>\n",
       "      <td>weekday_1</td>\n",
       "      <td>Evening</td>\n",
       "      <td>0.0</td>\n",
       "      <td>2</td>\n",
       "      <td>0.059733</td>\n",
       "      <td>Factual</td>\n",
       "      <td>22</td>\n",
       "      <td>Drama</td>\n",
       "    </tr>\n",
       "    <tr>\n",
       "      <th>140</th>\n",
       "      <td>3387a6</td>\n",
       "      <td>NaN</td>\n",
       "      <td>NaN</td>\n",
       "      <td>NaN</td>\n",
       "      <td>NaN</td>\n",
       "      <td>1489439401348_1</td>\n",
       "      <td>2017-03-13 21:10:02.421</td>\n",
       "      <td>3730.0</td>\n",
       "      <td>weekday_0</td>\n",
       "      <td>Evening</td>\n",
       "      <td>NaN</td>\n",
       "      <td>5</td>\n",
       "      <td>0.062167</td>\n",
       "      <td>Drama</td>\n",
       "      <td>21</td>\n",
       "      <td>Drama</td>\n",
       "    </tr>\n",
       "    <tr>\n",
       "      <th>141</th>\n",
       "      <td>3387a6</td>\n",
       "      <td>NaN</td>\n",
       "      <td>NaN</td>\n",
       "      <td>NaN</td>\n",
       "      <td>NaN</td>\n",
       "      <td>1485100892026_1</td>\n",
       "      <td>2017-01-22 16:01:34.292</td>\n",
       "      <td>3634.0</td>\n",
       "      <td>weekday_6</td>\n",
       "      <td>Afternoon</td>\n",
       "      <td>NaN</td>\n",
       "      <td>1</td>\n",
       "      <td>0.060567</td>\n",
       "      <td>Factual</td>\n",
       "      <td>16</td>\n",
       "      <td>Factual</td>\n",
       "    </tr>\n",
       "    <tr>\n",
       "      <th>142</th>\n",
       "      <td>3387a6</td>\n",
       "      <td>NaN</td>\n",
       "      <td>NaN</td>\n",
       "      <td>NaN</td>\n",
       "      <td>NaN</td>\n",
       "      <td>1489441109070_3</td>\n",
       "      <td>2017-03-13 21:38:30.203</td>\n",
       "      <td>3651.0</td>\n",
       "      <td>weekday_0</td>\n",
       "      <td>Evening</td>\n",
       "      <td>NaN</td>\n",
       "      <td>5</td>\n",
       "      <td>0.060850</td>\n",
       "      <td>Drama</td>\n",
       "      <td>21</td>\n",
       "      <td>Drama</td>\n",
       "    </tr>\n",
       "    <tr>\n",
       "      <th>143</th>\n",
       "      <td>3387a6</td>\n",
       "      <td>NaN</td>\n",
       "      <td>NaN</td>\n",
       "      <td>NaN</td>\n",
       "      <td>NaN</td>\n",
       "      <td>1493538827057_2</td>\n",
       "      <td>2017-04-30 07:53:47.559</td>\n",
       "      <td>3665.0</td>\n",
       "      <td>weekday_6</td>\n",
       "      <td>Morning</td>\n",
       "      <td>NaN</td>\n",
       "      <td>8</td>\n",
       "      <td>0.061083</td>\n",
       "      <td>Factual</td>\n",
       "      <td>7</td>\n",
       "      <td>Factual</td>\n",
       "    </tr>\n",
       "  </tbody>\n",
       "</table>\n",
       "</div>"
      ],
      "text/plain": [
       "    user_id program_id series_id genre programme_duration     streaming_id  \\\n",
       "134  3387a6     47f8c1    c9cc1a   NaN           00:00:00  1485900618555_1   \n",
       "140  3387a6        NaN       NaN   NaN                NaN  1489439401348_1   \n",
       "141  3387a6        NaN       NaN   NaN                NaN  1485100892026_1   \n",
       "142  3387a6        NaN       NaN   NaN                NaN  1489441109070_3   \n",
       "143  3387a6        NaN       NaN   NaN                NaN  1493538827057_2   \n",
       "\n",
       "            start_date_time  time_viewed    weekday time_of_day  \\\n",
       "134 2017-01-31 22:10:20.049       3584.0  weekday_1     Evening   \n",
       "140 2017-03-13 21:10:02.421       3730.0  weekday_0     Evening   \n",
       "141 2017-01-22 16:01:34.292       3634.0  weekday_6   Afternoon   \n",
       "142 2017-03-13 21:38:30.203       3651.0  weekday_0     Evening   \n",
       "143 2017-04-30 07:53:47.559       3665.0  weekday_6     Morning   \n",
       "\n",
       "     programme_duration_mins  twoweek  min_watched enriched_genre  hour  \\\n",
       "134                      0.0        2     0.059733        Factual    22   \n",
       "140                      NaN        5     0.062167          Drama    21   \n",
       "141                      NaN        1     0.060567        Factual    16   \n",
       "142                      NaN        5     0.060850          Drama    21   \n",
       "143                      NaN        8     0.061083        Factual     7   \n",
       "\n",
       "    enriched_genre_hour  \n",
       "134               Drama  \n",
       "140               Drama  \n",
       "141             Factual  \n",
       "142               Drama  \n",
       "143             Factual  "
      ]
     },
     "execution_count": 14,
     "metadata": {},
     "output_type": "execute_result"
    }
   ],
   "source": [
    "# Check whether this has worked\n",
    "data[data['genre'].isnull()].head()"
   ]
  },
  {
   "cell_type": "code",
   "execution_count": 15,
   "metadata": {},
   "outputs": [
    {
     "name": "stdout",
     "output_type": "stream",
     "text": [
      "genre - Missing: 67719 - Unique: 12\n",
      "enriched_genre - Missing: 0 - Unique: 11\n"
     ]
    }
   ],
   "source": [
    "# Check how many missing and unique values for this column\n",
    "features=['genre','enriched_genre']\n",
    "for feature in features:\n",
    "    print(feature,'- Missing:',sum(data[feature].isnull()),\n",
    "          '- Unique:', len(data[feature].unique()))"
   ]
  },
  {
   "cell_type": "markdown",
   "metadata": {},
   "source": [
    "#### programme_duration_mins\n",
    "\n",
    "Now we can impute the length of a programme as well. We will assume that the length of programmes of the same genre should be similar. \n",
    "\n",
    "Since our data is unlikely to be normally distributed we will use the median instead of the mean as our \"average\" programme duration."
   ]
  },
  {
   "cell_type": "code",
   "execution_count": 16,
   "metadata": {},
   "outputs": [
    {
     "data": {
      "text/html": [
       "<div>\n",
       "<style>\n",
       "    .dataframe thead tr:only-child th {\n",
       "        text-align: right;\n",
       "    }\n",
       "\n",
       "    .dataframe thead th {\n",
       "        text-align: left;\n",
       "    }\n",
       "\n",
       "    .dataframe tbody tr th {\n",
       "        vertical-align: top;\n",
       "    }\n",
       "</style>\n",
       "<table border=\"1\" class=\"dataframe\">\n",
       "  <thead>\n",
       "    <tr style=\"text-align: right;\">\n",
       "      <th></th>\n",
       "      <th>enriched_genre</th>\n",
       "      <th>enriched_duration_mins</th>\n",
       "    </tr>\n",
       "  </thead>\n",
       "  <tbody>\n",
       "    <tr>\n",
       "      <th>0</th>\n",
       "      <td>Children's</td>\n",
       "      <td>15.0</td>\n",
       "    </tr>\n",
       "    <tr>\n",
       "      <th>1</th>\n",
       "      <td>Comedy</td>\n",
       "      <td>28.0</td>\n",
       "    </tr>\n",
       "    <tr>\n",
       "      <th>2</th>\n",
       "      <td>Drama</td>\n",
       "      <td>45.0</td>\n",
       "    </tr>\n",
       "    <tr>\n",
       "      <th>3</th>\n",
       "      <td>Entertainment</td>\n",
       "      <td>30.0</td>\n",
       "    </tr>\n",
       "    <tr>\n",
       "      <th>4</th>\n",
       "      <td>Factual</td>\n",
       "      <td>45.0</td>\n",
       "    </tr>\n",
       "    <tr>\n",
       "      <th>5</th>\n",
       "      <td>Learning</td>\n",
       "      <td>10.0</td>\n",
       "    </tr>\n",
       "    <tr>\n",
       "      <th>6</th>\n",
       "      <td>Music</td>\n",
       "      <td>60.0</td>\n",
       "    </tr>\n",
       "    <tr>\n",
       "      <th>7</th>\n",
       "      <td>News</td>\n",
       "      <td>30.0</td>\n",
       "    </tr>\n",
       "    <tr>\n",
       "      <th>8</th>\n",
       "      <td>Religion &amp; Ethics</td>\n",
       "      <td>60.0</td>\n",
       "    </tr>\n",
       "    <tr>\n",
       "      <th>9</th>\n",
       "      <td>Sport</td>\n",
       "      <td>80.0</td>\n",
       "    </tr>\n",
       "    <tr>\n",
       "      <th>10</th>\n",
       "      <td>Weather</td>\n",
       "      <td>30.0</td>\n",
       "    </tr>\n",
       "  </tbody>\n",
       "</table>\n",
       "</div>"
      ],
      "text/plain": [
       "       enriched_genre  enriched_duration_mins\n",
       "0          Children's                    15.0\n",
       "1              Comedy                    28.0\n",
       "2               Drama                    45.0\n",
       "3       Entertainment                    30.0\n",
       "4             Factual                    45.0\n",
       "5            Learning                    10.0\n",
       "6               Music                    60.0\n",
       "7                News                    30.0\n",
       "8   Religion & Ethics                    60.0\n",
       "9               Sport                    80.0\n",
       "10            Weather                    30.0"
      ]
     },
     "execution_count": 16,
     "metadata": {},
     "output_type": "execute_result"
    }
   ],
   "source": [
    "# Check the average length of a programme based on genre \n",
    "# Rmk: we rename the columns for merging afterwards\n",
    "length_by_genre=data.groupby('genre')['programme_duration_mins'].median()\n",
    "length_by_genre=\\\n",
    "pd.DataFrame(length_by_genre).reset_index().rename(columns={'programme_duration_mins':\n",
    "                                                            'enriched_duration_mins',\n",
    "                                                            'genre':'enriched_genre'})\n",
    "length_by_genre"
   ]
  },
  {
   "cell_type": "code",
   "execution_count": 17,
   "metadata": {},
   "outputs": [
    {
     "data": {
      "text/html": [
       "<div>\n",
       "<style>\n",
       "    .dataframe thead tr:only-child th {\n",
       "        text-align: right;\n",
       "    }\n",
       "\n",
       "    .dataframe thead th {\n",
       "        text-align: left;\n",
       "    }\n",
       "\n",
       "    .dataframe tbody tr th {\n",
       "        vertical-align: top;\n",
       "    }\n",
       "</style>\n",
       "<table border=\"1\" class=\"dataframe\">\n",
       "  <thead>\n",
       "    <tr style=\"text-align: right;\">\n",
       "      <th></th>\n",
       "      <th>user_id</th>\n",
       "      <th>program_id</th>\n",
       "      <th>series_id</th>\n",
       "      <th>genre</th>\n",
       "      <th>programme_duration</th>\n",
       "      <th>streaming_id</th>\n",
       "      <th>start_date_time</th>\n",
       "      <th>time_viewed</th>\n",
       "      <th>weekday</th>\n",
       "      <th>time_of_day</th>\n",
       "      <th>programme_duration_mins</th>\n",
       "      <th>twoweek</th>\n",
       "      <th>min_watched</th>\n",
       "      <th>enriched_genre</th>\n",
       "      <th>hour</th>\n",
       "      <th>enriched_genre_hour</th>\n",
       "      <th>enriched_duration_mins</th>\n",
       "    </tr>\n",
       "  </thead>\n",
       "  <tbody>\n",
       "    <tr>\n",
       "      <th>0</th>\n",
       "      <td>cd2006</td>\n",
       "      <td>f6d3d8</td>\n",
       "      <td>a282ca</td>\n",
       "      <td>Factual</td>\n",
       "      <td>00:00:21</td>\n",
       "      <td>1486911129420_1</td>\n",
       "      <td>2017-02-12 14:51:24.544</td>\n",
       "      <td>20920.0</td>\n",
       "      <td>weekday_6</td>\n",
       "      <td>Afternoon</td>\n",
       "      <td>0.350000</td>\n",
       "      <td>3</td>\n",
       "      <td>0.348667</td>\n",
       "      <td>Factual</td>\n",
       "      <td>14</td>\n",
       "      <td>Factual</td>\n",
       "      <td>45.0</td>\n",
       "    </tr>\n",
       "    <tr>\n",
       "      <th>1</th>\n",
       "      <td>cd2006</td>\n",
       "      <td>b8fbf2</td>\n",
       "      <td>e0480e</td>\n",
       "      <td>Comedy</td>\n",
       "      <td>00:01:51</td>\n",
       "      <td>1484864257965_1</td>\n",
       "      <td>2017-01-19 22:17:04.648</td>\n",
       "      <td>111285.0</td>\n",
       "      <td>weekday_3</td>\n",
       "      <td>Evening</td>\n",
       "      <td>1.850000</td>\n",
       "      <td>1</td>\n",
       "      <td>1.854750</td>\n",
       "      <td>Comedy</td>\n",
       "      <td>22</td>\n",
       "      <td>Drama</td>\n",
       "      <td>28.0</td>\n",
       "    </tr>\n",
       "    <tr>\n",
       "      <th>2</th>\n",
       "      <td>cd2006</td>\n",
       "      <td>e2f113</td>\n",
       "      <td>933a1b</td>\n",
       "      <td>Factual</td>\n",
       "      <td>00:00:30</td>\n",
       "      <td>1487099603980_1</td>\n",
       "      <td>2017-02-14 19:12:36.667</td>\n",
       "      <td>29945.0</td>\n",
       "      <td>weekday_1</td>\n",
       "      <td>Evening</td>\n",
       "      <td>0.500000</td>\n",
       "      <td>3</td>\n",
       "      <td>0.499083</td>\n",
       "      <td>Factual</td>\n",
       "      <td>19</td>\n",
       "      <td>Factual</td>\n",
       "      <td>45.0</td>\n",
       "    </tr>\n",
       "    <tr>\n",
       "      <th>3</th>\n",
       "      <td>cd2006</td>\n",
       "      <td>0e0916</td>\n",
       "      <td>b68e79</td>\n",
       "      <td>Entertainment</td>\n",
       "      <td>00:01:22</td>\n",
       "      <td>1484773546557_1</td>\n",
       "      <td>2017-01-18 21:05:11.466</td>\n",
       "      <td>82620.0</td>\n",
       "      <td>weekday_2</td>\n",
       "      <td>Evening</td>\n",
       "      <td>1.366667</td>\n",
       "      <td>1</td>\n",
       "      <td>1.377000</td>\n",
       "      <td>Entertainment</td>\n",
       "      <td>21</td>\n",
       "      <td>Drama</td>\n",
       "      <td>30.0</td>\n",
       "    </tr>\n",
       "    <tr>\n",
       "      <th>4</th>\n",
       "      <td>cd2006</td>\n",
       "      <td>ca03b9</td>\n",
       "      <td>5d0813</td>\n",
       "      <td>Sport</td>\n",
       "      <td>00:01:37</td>\n",
       "      <td>1486911176609_1</td>\n",
       "      <td>2017-02-12 14:52:08.965</td>\n",
       "      <td>97444.0</td>\n",
       "      <td>weekday_6</td>\n",
       "      <td>Afternoon</td>\n",
       "      <td>1.616667</td>\n",
       "      <td>3</td>\n",
       "      <td>1.624067</td>\n",
       "      <td>Sport</td>\n",
       "      <td>14</td>\n",
       "      <td>Factual</td>\n",
       "      <td>80.0</td>\n",
       "    </tr>\n",
       "  </tbody>\n",
       "</table>\n",
       "</div>"
      ],
      "text/plain": [
       "  user_id program_id series_id          genre programme_duration  \\\n",
       "0  cd2006     f6d3d8    a282ca        Factual           00:00:21   \n",
       "1  cd2006     b8fbf2    e0480e         Comedy           00:01:51   \n",
       "2  cd2006     e2f113    933a1b        Factual           00:00:30   \n",
       "3  cd2006     0e0916    b68e79  Entertainment           00:01:22   \n",
       "4  cd2006     ca03b9    5d0813          Sport           00:01:37   \n",
       "\n",
       "      streaming_id         start_date_time  time_viewed    weekday  \\\n",
       "0  1486911129420_1 2017-02-12 14:51:24.544      20920.0  weekday_6   \n",
       "1  1484864257965_1 2017-01-19 22:17:04.648     111285.0  weekday_3   \n",
       "2  1487099603980_1 2017-02-14 19:12:36.667      29945.0  weekday_1   \n",
       "3  1484773546557_1 2017-01-18 21:05:11.466      82620.0  weekday_2   \n",
       "4  1486911176609_1 2017-02-12 14:52:08.965      97444.0  weekday_6   \n",
       "\n",
       "  time_of_day  programme_duration_mins  twoweek  min_watched enriched_genre  \\\n",
       "0   Afternoon                 0.350000        3     0.348667        Factual   \n",
       "1     Evening                 1.850000        1     1.854750         Comedy   \n",
       "2     Evening                 0.500000        3     0.499083        Factual   \n",
       "3     Evening                 1.366667        1     1.377000  Entertainment   \n",
       "4   Afternoon                 1.616667        3     1.624067          Sport   \n",
       "\n",
       "   hour enriched_genre_hour  enriched_duration_mins  \n",
       "0    14             Factual                    45.0  \n",
       "1    22               Drama                    28.0  \n",
       "2    19             Factual                    45.0  \n",
       "3    21               Drama                    30.0  \n",
       "4    14             Factual                    80.0  "
      ]
     },
     "execution_count": 17,
     "metadata": {},
     "output_type": "execute_result"
    }
   ],
   "source": [
    "# let's merge in the duration back into the data\n",
    "data=pd.merge(data,length_by_genre,how='left',on='enriched_genre')\n",
    "data.head()"
   ]
  },
  {
   "cell_type": "code",
   "execution_count": 18,
   "metadata": {
    "collapsed": true
   },
   "outputs": [],
   "source": [
    "# Function that imputes a duration based on the (enriched) genre\n",
    "def impute_duration(row):\n",
    "    if row['programme_duration_mins']>0:\n",
    "        return row['programme_duration_mins']\n",
    "    else:\n",
    "        return row['enriched_duration_mins']"
   ]
  },
  {
   "cell_type": "code",
   "execution_count": 19,
   "metadata": {
    "collapsed": true
   },
   "outputs": [],
   "source": [
    "# Apply the function to the dataframe\n",
    "data['enriched_duration_mins']=data.apply(impute_duration, axis=1)"
   ]
  },
  {
   "cell_type": "code",
   "execution_count": 20,
   "metadata": {},
   "outputs": [
    {
     "data": {
      "text/html": [
       "<div>\n",
       "<style>\n",
       "    .dataframe thead tr:only-child th {\n",
       "        text-align: right;\n",
       "    }\n",
       "\n",
       "    .dataframe thead th {\n",
       "        text-align: left;\n",
       "    }\n",
       "\n",
       "    .dataframe tbody tr th {\n",
       "        vertical-align: top;\n",
       "    }\n",
       "</style>\n",
       "<table border=\"1\" class=\"dataframe\">\n",
       "  <thead>\n",
       "    <tr style=\"text-align: right;\">\n",
       "      <th></th>\n",
       "      <th>user_id</th>\n",
       "      <th>program_id</th>\n",
       "      <th>series_id</th>\n",
       "      <th>genre</th>\n",
       "      <th>programme_duration</th>\n",
       "      <th>streaming_id</th>\n",
       "      <th>start_date_time</th>\n",
       "      <th>time_viewed</th>\n",
       "      <th>weekday</th>\n",
       "      <th>time_of_day</th>\n",
       "      <th>programme_duration_mins</th>\n",
       "      <th>twoweek</th>\n",
       "      <th>min_watched</th>\n",
       "      <th>enriched_genre</th>\n",
       "      <th>hour</th>\n",
       "      <th>enriched_genre_hour</th>\n",
       "      <th>enriched_duration_mins</th>\n",
       "    </tr>\n",
       "  </thead>\n",
       "  <tbody>\n",
       "    <tr>\n",
       "      <th>140</th>\n",
       "      <td>3387a6</td>\n",
       "      <td>NaN</td>\n",
       "      <td>NaN</td>\n",
       "      <td>NaN</td>\n",
       "      <td>NaN</td>\n",
       "      <td>1489439401348_1</td>\n",
       "      <td>2017-03-13 21:10:02.421</td>\n",
       "      <td>3730.0</td>\n",
       "      <td>weekday_0</td>\n",
       "      <td>Evening</td>\n",
       "      <td>NaN</td>\n",
       "      <td>5</td>\n",
       "      <td>0.062167</td>\n",
       "      <td>Drama</td>\n",
       "      <td>21</td>\n",
       "      <td>Drama</td>\n",
       "      <td>45.0</td>\n",
       "    </tr>\n",
       "    <tr>\n",
       "      <th>141</th>\n",
       "      <td>3387a6</td>\n",
       "      <td>NaN</td>\n",
       "      <td>NaN</td>\n",
       "      <td>NaN</td>\n",
       "      <td>NaN</td>\n",
       "      <td>1485100892026_1</td>\n",
       "      <td>2017-01-22 16:01:34.292</td>\n",
       "      <td>3634.0</td>\n",
       "      <td>weekday_6</td>\n",
       "      <td>Afternoon</td>\n",
       "      <td>NaN</td>\n",
       "      <td>1</td>\n",
       "      <td>0.060567</td>\n",
       "      <td>Factual</td>\n",
       "      <td>16</td>\n",
       "      <td>Factual</td>\n",
       "      <td>45.0</td>\n",
       "    </tr>\n",
       "    <tr>\n",
       "      <th>142</th>\n",
       "      <td>3387a6</td>\n",
       "      <td>NaN</td>\n",
       "      <td>NaN</td>\n",
       "      <td>NaN</td>\n",
       "      <td>NaN</td>\n",
       "      <td>1489441109070_3</td>\n",
       "      <td>2017-03-13 21:38:30.203</td>\n",
       "      <td>3651.0</td>\n",
       "      <td>weekday_0</td>\n",
       "      <td>Evening</td>\n",
       "      <td>NaN</td>\n",
       "      <td>5</td>\n",
       "      <td>0.060850</td>\n",
       "      <td>Drama</td>\n",
       "      <td>21</td>\n",
       "      <td>Drama</td>\n",
       "      <td>45.0</td>\n",
       "    </tr>\n",
       "    <tr>\n",
       "      <th>143</th>\n",
       "      <td>3387a6</td>\n",
       "      <td>NaN</td>\n",
       "      <td>NaN</td>\n",
       "      <td>NaN</td>\n",
       "      <td>NaN</td>\n",
       "      <td>1493538827057_2</td>\n",
       "      <td>2017-04-30 07:53:47.559</td>\n",
       "      <td>3665.0</td>\n",
       "      <td>weekday_6</td>\n",
       "      <td>Morning</td>\n",
       "      <td>NaN</td>\n",
       "      <td>8</td>\n",
       "      <td>0.061083</td>\n",
       "      <td>Factual</td>\n",
       "      <td>7</td>\n",
       "      <td>Factual</td>\n",
       "      <td>45.0</td>\n",
       "    </tr>\n",
       "    <tr>\n",
       "      <th>144</th>\n",
       "      <td>3387a6</td>\n",
       "      <td>NaN</td>\n",
       "      <td>NaN</td>\n",
       "      <td>NaN</td>\n",
       "      <td>NaN</td>\n",
       "      <td>1489258896796_3</td>\n",
       "      <td>2017-03-11 19:01:39.890</td>\n",
       "      <td>3545.0</td>\n",
       "      <td>weekday_5</td>\n",
       "      <td>Evening</td>\n",
       "      <td>NaN</td>\n",
       "      <td>5</td>\n",
       "      <td>0.059083</td>\n",
       "      <td>Factual</td>\n",
       "      <td>19</td>\n",
       "      <td>Factual</td>\n",
       "      <td>45.0</td>\n",
       "    </tr>\n",
       "  </tbody>\n",
       "</table>\n",
       "</div>"
      ],
      "text/plain": [
       "    user_id program_id series_id genre programme_duration     streaming_id  \\\n",
       "140  3387a6        NaN       NaN   NaN                NaN  1489439401348_1   \n",
       "141  3387a6        NaN       NaN   NaN                NaN  1485100892026_1   \n",
       "142  3387a6        NaN       NaN   NaN                NaN  1489441109070_3   \n",
       "143  3387a6        NaN       NaN   NaN                NaN  1493538827057_2   \n",
       "144  3387a6        NaN       NaN   NaN                NaN  1489258896796_3   \n",
       "\n",
       "            start_date_time  time_viewed    weekday time_of_day  \\\n",
       "140 2017-03-13 21:10:02.421       3730.0  weekday_0     Evening   \n",
       "141 2017-01-22 16:01:34.292       3634.0  weekday_6   Afternoon   \n",
       "142 2017-03-13 21:38:30.203       3651.0  weekday_0     Evening   \n",
       "143 2017-04-30 07:53:47.559       3665.0  weekday_6     Morning   \n",
       "144 2017-03-11 19:01:39.890       3545.0  weekday_5     Evening   \n",
       "\n",
       "     programme_duration_mins  twoweek  min_watched enriched_genre  hour  \\\n",
       "140                      NaN        5     0.062167          Drama    21   \n",
       "141                      NaN        1     0.060567        Factual    16   \n",
       "142                      NaN        5     0.060850          Drama    21   \n",
       "143                      NaN        8     0.061083        Factual     7   \n",
       "144                      NaN        5     0.059083        Factual    19   \n",
       "\n",
       "    enriched_genre_hour  enriched_duration_mins  \n",
       "140               Drama                    45.0  \n",
       "141             Factual                    45.0  \n",
       "142               Drama                    45.0  \n",
       "143             Factual                    45.0  \n",
       "144             Factual                    45.0  "
      ]
     },
     "execution_count": 20,
     "metadata": {},
     "output_type": "execute_result"
    }
   ],
   "source": [
    "# Check whether this has worked\n",
    "data[data['programme_duration_mins'].isnull()].head()"
   ]
  },
  {
   "cell_type": "code",
   "execution_count": 21,
   "metadata": {},
   "outputs": [
    {
     "name": "stdout",
     "output_type": "stream",
     "text": [
      "programme_duration_mins - Missing: 33698 - Unique: 891\n",
      "enriched_duration_mins - Missing: 0 - Unique: 889\n"
     ]
    }
   ],
   "source": [
    "# Check how many missing and unique values for this column\n",
    "features=['programme_duration_mins','enriched_duration_mins']\n",
    "for feature in features:\n",
    "    print(feature,'- Missing:',sum(data[feature].isnull()),\n",
    "          '- Unique:', len(data[feature].unique()))"
   ]
  },
  {
   "cell_type": "markdown",
   "metadata": {},
   "source": [
    "#### time_viewed"
   ]
  },
  {
   "cell_type": "code",
   "execution_count": 22,
   "metadata": {},
   "outputs": [
    {
     "data": {
      "text/plain": [
       "count    4.889520e+05\n",
       "mean     8.565867e+05\n",
       "std      3.491022e+06\n",
       "min     -3.563513e+06\n",
       "25%      3.935000e+03\n",
       "50%      8.194150e+04\n",
       "75%      9.219698e+05\n",
       "max      8.515021e+08\n",
       "Name: time_viewed, dtype: float64"
      ]
     },
     "execution_count": 22,
     "metadata": {},
     "output_type": "execute_result"
    }
   ],
   "source": [
    "data.time_viewed.describe()"
   ]
  },
  {
   "cell_type": "markdown",
   "metadata": {},
   "source": [
    "There are some outliers here: negative values for the time viewed. "
   ]
  },
  {
   "cell_type": "code",
   "execution_count": 23,
   "metadata": {
    "collapsed": true
   },
   "outputs": [],
   "source": [
    "# Assume that is error and make positive\n",
    "data['time_viewed']=abs(data['time_viewed'])"
   ]
  },
  {
   "cell_type": "markdown",
   "metadata": {},
   "source": [
    "#### min_watched\n",
    "\n",
    "We built `min_watched` based on `time_viewed`. We need thus to recreate this variable as we underlined outliers for this field."
   ]
  },
  {
   "cell_type": "code",
   "execution_count": 24,
   "metadata": {},
   "outputs": [
    {
     "data": {
      "text/plain": [
       "count    488952.000000\n",
       "mean         14.276694\n",
       "std          58.183645\n",
       "min           0.000000\n",
       "25%           0.065583\n",
       "50%           1.365700\n",
       "75%          15.366200\n",
       "max       14191.701283\n",
       "Name: min_watched, dtype: float64"
      ]
     },
     "execution_count": 24,
     "metadata": {},
     "output_type": "execute_result"
    }
   ],
   "source": [
    "data['min_watched']=data['time_viewed']/(60000.0)\n",
    "data.min_watched.describe()"
   ]
  },
  {
   "cell_type": "markdown",
   "metadata": {},
   "source": [
    "Now that we have an enriched duration (no more missing values) and a time viewed field corrected from its outliers, we can calculate how much of the programme the viewer watched."
   ]
  },
  {
   "cell_type": "code",
   "execution_count": 25,
   "metadata": {},
   "outputs": [
    {
     "data": {
      "text/plain": [
       "count    488952.000000\n",
       "mean          1.055101\n",
       "std          17.764685\n",
       "min           0.000000\n",
       "25%           0.004066\n",
       "50%           0.139502\n",
       "75%           0.806020\n",
       "max        4971.469250\n",
       "Name: percentage_watched, dtype: float64"
      ]
     },
     "execution_count": 25,
     "metadata": {},
     "output_type": "execute_result"
    }
   ],
   "source": [
    "# Percentage of content watched by the user\n",
    "data['percentage_watched']=(data['min_watched']/data['enriched_duration_mins'])\n",
    "data.percentage_watched.describe()"
   ]
  },
  {
   "cell_type": "markdown",
   "metadata": {},
   "source": [
    "Here again there are wrong values (percentage >1) that we need to correct."
   ]
  },
  {
   "cell_type": "code",
   "execution_count": 26,
   "metadata": {
    "collapsed": true
   },
   "outputs": [],
   "source": [
    "# Clean up the percentage field from when the number is more than 100%\n",
    "def clean_perc(number):\n",
    "    return min(number,1)"
   ]
  },
  {
   "cell_type": "code",
   "execution_count": 27,
   "metadata": {
    "collapsed": true
   },
   "outputs": [],
   "source": [
    "# Clean up percentaged watched from anything bigger than 100%\n",
    "data['percentage_watched']=data['percentage_watched'].apply(clean_perc)"
   ]
  },
  {
   "cell_type": "markdown",
   "metadata": {},
   "source": [
    "Let's have a look at our data after this imputation step."
   ]
  },
  {
   "cell_type": "code",
   "execution_count": 28,
   "metadata": {},
   "outputs": [
    {
     "name": "stdout",
     "output_type": "stream",
     "text": [
      "user_id - Missing: 0 - Unique: 9937\n",
      "program_id - Missing: 33698 - Unique: 23857\n",
      "series_id - Missing: 33698 - Unique: 5921\n",
      "genre - Missing: 67719 - Unique: 12\n",
      "programme_duration - Missing: 33698 - Unique: 891\n",
      "streaming_id - Missing: 0 - Unique: 434430\n",
      "start_date_time - Missing: 0 - Unique: 490626\n",
      "time_viewed - Missing: 1900 - Unique: 259529\n",
      "weekday - Missing: 0 - Unique: 7\n",
      "time_of_day - Missing: 0 - Unique: 4\n",
      "programme_duration_mins - Missing: 33698 - Unique: 891\n",
      "twoweek - Missing: 0 - Unique: 10\n",
      "min_watched - Missing: 1900 - Unique: 259529\n",
      "enriched_genre - Missing: 0 - Unique: 11\n",
      "hour - Missing: 0 - Unique: 24\n",
      "enriched_genre_hour - Missing: 0 - Unique: 3\n",
      "enriched_duration_mins - Missing: 0 - Unique: 889\n",
      "percentage_watched - Missing: 1900 - Unique: 298006\n"
     ]
    }
   ],
   "source": [
    "# Check how many missing and unique values there are per column\n",
    "features=data.columns.values\n",
    "for feature in features:\n",
    "    print(feature,'- Missing:', \n",
    "          sum(data[feature].isnull()),\n",
    "          '- Unique:', len(data[feature].unique()))"
   ]
  },
  {
   "cell_type": "code",
   "execution_count": 29,
   "metadata": {},
   "outputs": [
    {
     "data": {
      "text/html": [
       "<div>\n",
       "<style>\n",
       "    .dataframe thead tr:only-child th {\n",
       "        text-align: right;\n",
       "    }\n",
       "\n",
       "    .dataframe thead th {\n",
       "        text-align: left;\n",
       "    }\n",
       "\n",
       "    .dataframe tbody tr th {\n",
       "        vertical-align: top;\n",
       "    }\n",
       "</style>\n",
       "<table border=\"1\" class=\"dataframe\">\n",
       "  <thead>\n",
       "    <tr style=\"text-align: right;\">\n",
       "      <th></th>\n",
       "      <th>user_id</th>\n",
       "      <th>program_id</th>\n",
       "      <th>series_id</th>\n",
       "      <th>genre</th>\n",
       "      <th>programme_duration</th>\n",
       "      <th>streaming_id</th>\n",
       "      <th>start_date_time</th>\n",
       "      <th>time_viewed</th>\n",
       "      <th>weekday</th>\n",
       "      <th>time_of_day</th>\n",
       "      <th>programme_duration_mins</th>\n",
       "      <th>twoweek</th>\n",
       "      <th>min_watched</th>\n",
       "      <th>enriched_genre</th>\n",
       "      <th>hour</th>\n",
       "      <th>enriched_genre_hour</th>\n",
       "      <th>enriched_duration_mins</th>\n",
       "      <th>percentage_watched</th>\n",
       "    </tr>\n",
       "  </thead>\n",
       "  <tbody>\n",
       "    <tr>\n",
       "      <th>0</th>\n",
       "      <td>cd2006</td>\n",
       "      <td>f6d3d8</td>\n",
       "      <td>a282ca</td>\n",
       "      <td>Factual</td>\n",
       "      <td>00:00:21</td>\n",
       "      <td>1486911129420_1</td>\n",
       "      <td>2017-02-12 14:51:24.544</td>\n",
       "      <td>20920.0</td>\n",
       "      <td>weekday_6</td>\n",
       "      <td>Afternoon</td>\n",
       "      <td>0.350000</td>\n",
       "      <td>3</td>\n",
       "      <td>0.348667</td>\n",
       "      <td>Factual</td>\n",
       "      <td>14</td>\n",
       "      <td>Factual</td>\n",
       "      <td>0.350000</td>\n",
       "      <td>0.996190</td>\n",
       "    </tr>\n",
       "    <tr>\n",
       "      <th>1</th>\n",
       "      <td>cd2006</td>\n",
       "      <td>b8fbf2</td>\n",
       "      <td>e0480e</td>\n",
       "      <td>Comedy</td>\n",
       "      <td>00:01:51</td>\n",
       "      <td>1484864257965_1</td>\n",
       "      <td>2017-01-19 22:17:04.648</td>\n",
       "      <td>111285.0</td>\n",
       "      <td>weekday_3</td>\n",
       "      <td>Evening</td>\n",
       "      <td>1.850000</td>\n",
       "      <td>1</td>\n",
       "      <td>1.854750</td>\n",
       "      <td>Comedy</td>\n",
       "      <td>22</td>\n",
       "      <td>Drama</td>\n",
       "      <td>1.850000</td>\n",
       "      <td>1.000000</td>\n",
       "    </tr>\n",
       "    <tr>\n",
       "      <th>2</th>\n",
       "      <td>cd2006</td>\n",
       "      <td>e2f113</td>\n",
       "      <td>933a1b</td>\n",
       "      <td>Factual</td>\n",
       "      <td>00:00:30</td>\n",
       "      <td>1487099603980_1</td>\n",
       "      <td>2017-02-14 19:12:36.667</td>\n",
       "      <td>29945.0</td>\n",
       "      <td>weekday_1</td>\n",
       "      <td>Evening</td>\n",
       "      <td>0.500000</td>\n",
       "      <td>3</td>\n",
       "      <td>0.499083</td>\n",
       "      <td>Factual</td>\n",
       "      <td>19</td>\n",
       "      <td>Factual</td>\n",
       "      <td>0.500000</td>\n",
       "      <td>0.998167</td>\n",
       "    </tr>\n",
       "    <tr>\n",
       "      <th>3</th>\n",
       "      <td>cd2006</td>\n",
       "      <td>0e0916</td>\n",
       "      <td>b68e79</td>\n",
       "      <td>Entertainment</td>\n",
       "      <td>00:01:22</td>\n",
       "      <td>1484773546557_1</td>\n",
       "      <td>2017-01-18 21:05:11.466</td>\n",
       "      <td>82620.0</td>\n",
       "      <td>weekday_2</td>\n",
       "      <td>Evening</td>\n",
       "      <td>1.366667</td>\n",
       "      <td>1</td>\n",
       "      <td>1.377000</td>\n",
       "      <td>Entertainment</td>\n",
       "      <td>21</td>\n",
       "      <td>Drama</td>\n",
       "      <td>1.366667</td>\n",
       "      <td>1.000000</td>\n",
       "    </tr>\n",
       "    <tr>\n",
       "      <th>4</th>\n",
       "      <td>cd2006</td>\n",
       "      <td>ca03b9</td>\n",
       "      <td>5d0813</td>\n",
       "      <td>Sport</td>\n",
       "      <td>00:01:37</td>\n",
       "      <td>1486911176609_1</td>\n",
       "      <td>2017-02-12 14:52:08.965</td>\n",
       "      <td>97444.0</td>\n",
       "      <td>weekday_6</td>\n",
       "      <td>Afternoon</td>\n",
       "      <td>1.616667</td>\n",
       "      <td>3</td>\n",
       "      <td>1.624067</td>\n",
       "      <td>Sport</td>\n",
       "      <td>14</td>\n",
       "      <td>Factual</td>\n",
       "      <td>1.616667</td>\n",
       "      <td>1.000000</td>\n",
       "    </tr>\n",
       "  </tbody>\n",
       "</table>\n",
       "</div>"
      ],
      "text/plain": [
       "  user_id program_id series_id          genre programme_duration  \\\n",
       "0  cd2006     f6d3d8    a282ca        Factual           00:00:21   \n",
       "1  cd2006     b8fbf2    e0480e         Comedy           00:01:51   \n",
       "2  cd2006     e2f113    933a1b        Factual           00:00:30   \n",
       "3  cd2006     0e0916    b68e79  Entertainment           00:01:22   \n",
       "4  cd2006     ca03b9    5d0813          Sport           00:01:37   \n",
       "\n",
       "      streaming_id         start_date_time  time_viewed    weekday  \\\n",
       "0  1486911129420_1 2017-02-12 14:51:24.544      20920.0  weekday_6   \n",
       "1  1484864257965_1 2017-01-19 22:17:04.648     111285.0  weekday_3   \n",
       "2  1487099603980_1 2017-02-14 19:12:36.667      29945.0  weekday_1   \n",
       "3  1484773546557_1 2017-01-18 21:05:11.466      82620.0  weekday_2   \n",
       "4  1486911176609_1 2017-02-12 14:52:08.965      97444.0  weekday_6   \n",
       "\n",
       "  time_of_day  programme_duration_mins  twoweek  min_watched enriched_genre  \\\n",
       "0   Afternoon                 0.350000        3     0.348667        Factual   \n",
       "1     Evening                 1.850000        1     1.854750         Comedy   \n",
       "2     Evening                 0.500000        3     0.499083        Factual   \n",
       "3     Evening                 1.366667        1     1.377000  Entertainment   \n",
       "4   Afternoon                 1.616667        3     1.624067          Sport   \n",
       "\n",
       "   hour enriched_genre_hour  enriched_duration_mins  percentage_watched  \n",
       "0    14             Factual                0.350000            0.996190  \n",
       "1    22               Drama                1.850000            1.000000  \n",
       "2    19             Factual                0.500000            0.998167  \n",
       "3    21               Drama                1.366667            1.000000  \n",
       "4    14             Factual                1.616667            1.000000  "
      ]
     },
     "execution_count": 29,
     "metadata": {},
     "output_type": "execute_result"
    }
   ],
   "source": [
    "data.head()"
   ]
  },
  {
   "cell_type": "markdown",
   "metadata": {},
   "source": [
    "### Scope\n",
    "\n",
    "We will work on a week time basis for the modeling. Python weeks start on Monday and since the 1st of January was a Sunday we will ignore this day for the rest of the analysis."
   ]
  },
  {
   "cell_type": "code",
   "execution_count": 30,
   "metadata": {
    "collapsed": true
   },
   "outputs": [],
   "source": [
    "# Drop the 1st of January - incomplete week\n",
    "data=data[data['start_date_time']>'2017-01-02']"
   ]
  },
  {
   "cell_type": "markdown",
   "metadata": {},
   "source": [
    "### Distributions\n",
    "\n",
    "Now that our data looks quite reasonable, let's plot what we have to get a better understanding of our distributions.\n",
    "\n",
    "#### programme_duration_mins"
   ]
  },
  {
   "cell_type": "code",
   "execution_count": 31,
   "metadata": {},
   "outputs": [
    {
     "data": {
      "text/plain": [
       "<matplotlib.axes._subplots.AxesSubplot at 0x11eaf3390>"
      ]
     },
     "execution_count": 31,
     "metadata": {},
     "output_type": "execute_result"
    },
    {
     "data": {
      "image/png": "[encoded data removed]",
      "text/plain": [
       "<matplotlib.figure.Figure at 0x118009908>"
      ]
     },
     "metadata": {},
     "output_type": "display_data"
    }
   ],
   "source": [
    "# Check the distribution of our numerical values\n",
    "data['programme_duration_mins'].hist(bins=50)"
   ]
  },
  {
   "cell_type": "markdown",
   "metadata": {},
   "source": [
    "#### min_watched"
   ]
  },
  {
   "cell_type": "code",
   "execution_count": 32,
   "metadata": {},
   "outputs": [
    {
     "data": {
      "text/plain": [
       "<matplotlib.axes._subplots.AxesSubplot at 0x115cdaf98>"
      ]
     },
     "execution_count": 32,
     "metadata": {},
     "output_type": "execute_result"
    },
    {
     "data": {
      "image/png": "[encoded data removed]",
      "text/plain": [
       "<matplotlib.figure.Figure at 0x11650f160>"
      ]
     },
     "metadata": {},
     "output_type": "display_data"
    }
   ],
   "source": [
    "# Check the distribution for length watches (under 200 mins to be able to see more)\n",
    "data[data['min_watched']<200]['min_watched'].hist(bins=50)"
   ]
  },
  {
   "cell_type": "markdown",
   "metadata": {},
   "source": [
    "#### percentage_watched"
   ]
  },
  {
   "cell_type": "code",
   "execution_count": 33,
   "metadata": {},
   "outputs": [
    {
     "data": {
      "text/plain": [
       "<matplotlib.axes._subplots.AxesSubplot at 0x11a43cd68>"
      ]
     },
     "execution_count": 33,
     "metadata": {},
     "output_type": "execute_result"
    },
    {
     "data": {
      "image/png": "[encoded data removed]",
      "text/plain": [
       "<matplotlib.figure.Figure at 0x10e8602b0>"
      ]
     },
     "metadata": {},
     "output_type": "display_data"
    }
   ],
   "source": [
    "# Check the distribution of the completion rate\n",
    "data['percentage_watched'].hist(bins=50)"
   ]
  },
  {
   "cell_type": "markdown",
   "metadata": {},
   "source": [
    "RMK on the imputation: we added 1 to the distrib ...\n",
    "\n",
    "#### two_week"
   ]
  },
  {
   "cell_type": "code",
   "execution_count": 34,
   "metadata": {},
   "outputs": [
    {
     "data": {
      "text/plain": [
       "<matplotlib.axes._subplots.AxesSubplot at 0x118009f28>"
      ]
     },
     "execution_count": 34,
     "metadata": {},
     "output_type": "execute_result"
    },
    {
     "data": {
      "image/png": "[encoded data removed]",
      "text/plain": [
       "<matplotlib.figure.Figure at 0x11eaf36a0>"
      ]
     },
     "metadata": {},
     "output_type": "display_data"
    }
   ],
   "source": [
    "# Check whether we have more or less the same amount of data for each two week period\n",
    "data['twoweek'].value_counts().plot(kind='bar')"
   ]
  },
  {
   "cell_type": "markdown",
   "metadata": {},
   "source": [
    "#### genre and enriched_genre"
   ]
  },
  {
   "cell_type": "code",
   "execution_count": 35,
   "metadata": {},
   "outputs": [
    {
     "data": {
      "text/plain": [
       "<matplotlib.axes._subplots.AxesSubplot at 0x11584ca90>"
      ]
     },
     "execution_count": 35,
     "metadata": {},
     "output_type": "execute_result"
    },
    {
     "data": {
      "image/png": "[encoded data removed]",
      "text/plain": [
       "<matplotlib.figure.Figure at 0x11581c5c0>"
      ]
     },
     "metadata": {},
     "output_type": "display_data"
    }
   ],
   "source": [
    "# Check distribution of categorical values\n",
    "data['genre'].value_counts().plot(kind='bar')"
   ]
  },
  {
   "cell_type": "code",
   "execution_count": 36,
   "metadata": {},
   "outputs": [
    {
     "data": {
      "text/plain": [
       "<matplotlib.axes._subplots.AxesSubplot at 0x1135ae3c8>"
      ]
     },
     "execution_count": 36,
     "metadata": {},
     "output_type": "execute_result"
    },
    {
     "data": {
      "image/png": "[encoded data removed]",
      "text/plain": [
       "<matplotlib.figure.Figure at 0x1158d74e0>"
      ]
     },
     "metadata": {},
     "output_type": "display_data"
    }
   ],
   "source": [
    "# How does this differ from the distribution of the enriched genre?\n",
    "data['enriched_genre'].value_counts().plot(kind='bar')"
   ]
  },
  {
   "cell_type": "markdown",
   "metadata": {},
   "source": [
    "So, most of the `genre` that we have enriched ended up being `factual`. We have therefore created a less balanced genre distribution. At this point we don't know whether this is a good thing or not, but it's worth keeping this in mind."
   ]
  },
  {
   "cell_type": "markdown",
   "metadata": {},
   "source": [
    "#### time_of_day"
   ]
  },
  {
   "cell_type": "code",
   "execution_count": 58,
   "metadata": {},
   "outputs": [
    {
     "data": {
      "text/plain": [
       "<matplotlib.axes._subplots.AxesSubplot at 0x118df4828>"
      ]
     },
     "execution_count": 58,
     "metadata": {},
     "output_type": "execute_result"
    },
    {
     "data": {
      "image/png": "[encoded data removed]",
      "text/plain": [
       "<matplotlib.figure.Figure at 0x116c2b438>"
      ]
     },
     "metadata": {},
     "output_type": "display_data"
    }
   ],
   "source": [
    "# When do people mostly watch (distribution over time of day)?\n",
    "data['time_of_day'].value_counts().sort_index().plot(kind='bar')"
   ]
  },
  {
   "cell_type": "code",
   "execution_count": 69,
   "metadata": {},
   "outputs": [
    {
     "data": {
      "text/plain": [
       "<matplotlib.axes._subplots.AxesSubplot at 0x119398198>"
      ]
     },
     "execution_count": 69,
     "metadata": {},
     "output_type": "execute_result"
    },
    {
     "data": {
      "image/png": "[encoded data removed]",
      "text/plain": [
       "<matplotlib.figure.Figure at 0x11d4c1ef0>"
      ]
     },
     "metadata": {},
     "output_type": "display_data"
    }
   ],
   "source": [
    "data.groupby(['time_of_day'])['min_watched'].sum().plot(kind='bar', color='grey')"
   ]
  },
  {
   "cell_type": "markdown",
   "metadata": {},
   "source": [
    "#### weekday"
   ]
  },
  {
   "cell_type": "code",
   "execution_count": 54,
   "metadata": {},
   "outputs": [
    {
     "data": {
      "text/plain": [
       "<matplotlib.axes._subplots.AxesSubplot at 0x1184be7f0>"
      ]
     },
     "execution_count": 54,
     "metadata": {},
     "output_type": "execute_result"
    },
    {
     "data": {
      "image/png": "[encoded data removed]",
      "text/plain": [
       "<matplotlib.figure.Figure at 0x11879b748>"
      ]
     },
     "metadata": {},
     "output_type": "display_data"
    }
   ],
   "source": [
    "# Distribution over the weekday (weekday_0 is Monday)\n",
    "data['weekday'].value_counts().sort_index().plot(kind='bar')"
   ]
  },
  {
   "cell_type": "code",
   "execution_count": 55,
   "metadata": {},
   "outputs": [
    {
     "data": {
      "text/plain": [
       "<matplotlib.axes._subplots.AxesSubplot at 0x1188bd518>"
      ]
     },
     "execution_count": 55,
     "metadata": {},
     "output_type": "execute_result"
    },
    {
     "data": {
      "image/png": "[encoded data removed]",
      "text/plain": [
       "<matplotlib.figure.Figure at 0x1188e1f60>"
      ]
     },
     "metadata": {},
     "output_type": "display_data"
    }
   ],
   "source": [
    "data.groupby(['weekday'])['min_watched'].sum().plot(kind='bar', color='grey')"
   ]
  },
  {
   "cell_type": "markdown",
   "metadata": {},
   "source": [
    "#### weekday x time_of_day"
   ]
  },
  {
   "cell_type": "code",
   "execution_count": 65,
   "metadata": {},
   "outputs": [
    {
     "data": {
      "image/png": "[encoded data removed]",
      "text/plain": [
       "<matplotlib.figure.Figure at 0x11d4ce828>"
      ]
     },
     "metadata": {},
     "output_type": "display_data"
    },
    {
     "data": {
      "image/png": "[encoded data removed]",
      "text/plain": [
       "<matplotlib.figure.Figure at 0x11b6f6ef0>"
      ]
     },
     "metadata": {},
     "output_type": "display_data"
    },
    {
     "data": {
      "image/png": "[encoded data removed]",
      "text/plain": [
       "<matplotlib.figure.Figure at 0x11c677b70>"
      ]
     },
     "metadata": {},
     "output_type": "display_data"
    },
    {
     "data": {
      "image/png": "[encoded data removed]",
      "text/plain": [
       "<matplotlib.figure.Figure at 0x11f3f8518>"
      ]
     },
     "metadata": {},
     "output_type": "display_data"
    },
    {
     "data": {
      "image/png": "[encoded data removed]",
      "text/plain": [
       "<matplotlib.figure.Figure at 0x11949a048>"
      ]
     },
     "metadata": {},
     "output_type": "display_data"
    },
    {
     "data": {
      "image/png": "[encoded data removed]",
      "text/plain": [
       "<matplotlib.figure.Figure at 0x11d4747f0>"
      ]
     },
     "metadata": {},
     "output_type": "display_data"
    },
    {
     "data": {
      "image/png": "[encoded data removed]",
      "text/plain": [
       "<matplotlib.figure.Figure at 0x11c792d68>"
      ]
     },
     "metadata": {},
     "output_type": "display_data"
    }
   ],
   "source": [
    "# Let's look at whether people watch at different times across different days\n",
    "for day in sorted(set(data['weekday'])):\n",
    "    data[data['weekday']==day]['time_of_day'].value_counts().sort_index().plot(kind='bar')\n",
    "    plt.title(day)\n",
    "    plt.show()"
   ]
  },
  {
   "cell_type": "code",
   "execution_count": 67,
   "metadata": {
    "collapsed": true
   },
   "outputs": [],
   "source": [
    "## Let's look at whether people watch at different times across different days\n",
    "#for day in sorted(set(data['weekday'])):\n",
    "#    data[data['weekday']==day].groupby(['time_of_day'])['min_watched'].sum().plot(kind='bar',\n",
    "#                                                                                  color='grey')\n",
    "#    plt.title(day)\n",
    "#    plt.show()"
   ]
  },
  {
   "cell_type": "markdown",
   "metadata": {},
   "source": [
    "Looks relatively similar. \n",
    "\n",
    "**TO DO:**\n",
    "- Other analysis?  \n",
    "- COMMENTS\n",
    "- Give some insights from the distributions & examples of actions... Engagement related\n"
   ]
  },
  {
   "cell_type": "markdown",
   "metadata": {},
   "source": [
    "__ Save new dataset - or create a class to call for the other notebook ? __"
   ]
  },
  {
   "cell_type": "code",
   "execution_count": 71,
   "metadata": {
    "collapsed": true
   },
   "outputs": [],
   "source": [
    "data.to_csv('iplayer_data_c1.csv', index=False)"
   ]
  }
 ],
 "metadata": {
  "kernelspec": {
   "display_name": "Python 3",
   "language": "python",
   "name": "python3"
  },
  "language_info": {
   "codemirror_mode": {
    "name": "ipython",
    "version": 3
   },
   "file_extension": ".py",
   "mimetype": "text/x-python",
   "name": "python",
   "nbconvert_exporter": "python",
   "pygments_lexer": "ipython3",
   "version": "3.6.2"
  }
 },
 "nbformat": 4,
 "nbformat_minor": 2
}
