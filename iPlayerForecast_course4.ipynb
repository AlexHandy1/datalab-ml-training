{
 "cells": [
  {
   "cell_type": "markdown",
   "metadata": {},
   "source": [
    "# Course Four: Build a Regressor\n",
    "\n",
    "Expected time to complete: XX minutes\n",
    "\n",
    "## Goal of this Course\n",
    "During this course we will build a regressor to forecast the minutes watched within the last two-week group.\n",
    "\n",
    "This course is split into the following parts:\n",
    "- <a href='#context'>Context</a> \n",
    "- <a href='#model_evaluation'>Model Evaluation</a> \n",
    "- <a href='#baseline_forecast'>Baseline Forecast</a>\n",
    "    - <a href='#load_data'>Load the Data</a>\n",
    "    - <a href='#define_baseline'>Define a Baseline</a>\n",
    "\n",
    "\n",
    "- <a href='#linear_reg'>Multivariate Linear Regression</a>\n",
    "    - <a href='#model_training'>Model Training and Evaluation</a>\n",
    "    - <a href='#out_sample_error'>Out-of-Sample Error</a>\n",
    "    - <a href='#in_sample_error'>In-Sample Error and Estimated Coefficients</a>\n",
    "\n",
    "\n",
    "- <a href='#ridge_reg'>Ridge Regression</a>\n",
    "    - <a href='#model_training2'>Model Training and Evaluation</a>\n",
    "    - <a href='#best_ridge_reg'>Interpreting Ridge Regression Model</a>\n",
    "\n",
    "\n",
    "- <a href='#lasso_reg'>Lasso Regression</a>\n",
    "    - <a href='#model_training3'>Model Training and Evaluation</a>\n",
    "    - <a href='#best_lasso_reg'>Interpreting Lasso Regression</a>\n",
    "\n",
    "<a id='context'></a>\n",
    "# Context\n",
    "In the previous tutorial we explained how the training process works and how to evaluate our models in the classification framework. We built four models that predicted whether a user would consume content within a two-week period based upon their past behaviour over the previous 16 weeks. \n",
    "\n",
    "Forecasting whether or not a given user will return to BBC services is very useful for the BBC. It provides valuable insight and feedback on the way we are surfacing content to our users and, in particular,  identifies the users where we need to do better.\n",
    "\n",
    "Data on the engagement of returning audience members is also useful. From the pool of audience members that did return, there will be valuable variation in the amount of content they consume. The aim of this current tutorial is to forecast the _volume_ of content consumed by an audience member within a two-week period, based upon their consumption behaviour in the previous 16 weeks. \n",
    "\n",
    "In order to forecast the minutes watched within the final two-week group we will first define our evaluation metric. As we did for the classifiers in the previous tutorial, we will then train different models, compare their performances to a baseline and benchmark their results. \n",
    "\n",
    "\n",
    "<a id='model_evaluation'></a>\n",
    "# Model Evaluation\n",
    "\n",
    "Evaluating the performance of a regressor is slightly less straightforward than a classifier although it is based upon the same principle: we define an error, then compare the error of our model to the expected error of a random model.   \n",
    "\n",
    "For regressors, the error is computed as the average residual between the actual observations and the model predictions. \n",
    "\n",
    "__Root mean squared error__ (RMSE) and __mean absolute error__ (MAE) are two commonly used examples of these. Once we have a representation of the error produced by the model we can compare that error with the error of the most simple model of the data (usually the mean). The statistic that reflects this difference is known as the coefficient of determination or __R-squared__. R-squared measures the goodness-of-fit of a model and can be thought of as the proportion of variance in the model output variable (y) that is captured by our model.\n",
    "\n",
    "<a id='baseline_forecast'></a>\n",
    "# Baseline Forecast\n",
    "\n",
    "<a id='load_data'></a>\n",
    "## Load the Data\n",
    "First, let's get our data back and check to make sure it looks familiar."
   ]
  },
  {
   "cell_type": "code",
   "execution_count": 154,
   "metadata": {
    "collapsed": true
   },
   "outputs": [],
   "source": [
    "import pandas as pd\n",
    "import numpy as np\n",
    "import itertools\n",
    "import matplotlib.pyplot as plt"
   ]
  },
  {
   "cell_type": "code",
   "execution_count": 155,
   "metadata": {
    "collapsed": true
   },
   "outputs": [],
   "source": [
    "# We put both target arrays (regression and classification) in the same txt file\n",
    "# As both target arrays have the same size we just need to split it it two\n",
    "# and get the correct part for the prediction task\n",
    "target = np.split(np.loadtxt('target.txt'), 2)[0].flatten()\n",
    "features = pd.read_csv('features.csv')\n",
    "\n",
    "# User id as index\n",
    "features = features.set_index('user_id')"
   ]
  },
  {
   "cell_type": "code",
   "execution_count": 156,
   "metadata": {},
   "outputs": [
    {
     "data": {
      "text/html": [
       "<div>\n",
       "<style>\n",
       "    .dataframe thead tr:only-child th {\n",
       "        text-align: right;\n",
       "    }\n",
       "\n",
       "    .dataframe thead th {\n",
       "        text-align: left;\n",
       "    }\n",
       "\n",
       "    .dataframe tbody tr th {\n",
       "        vertical-align: top;\n",
       "    }\n",
       "</style>\n",
       "<table border=\"1\" class=\"dataframe\">\n",
       "  <thead>\n",
       "    <tr style=\"text-align: right;\">\n",
       "      <th></th>\n",
       "      <th>tw_lag7_watched</th>\n",
       "      <th>tw_lag6_watched</th>\n",
       "      <th>tw_lag5_watched</th>\n",
       "      <th>tw_lag4_watched</th>\n",
       "      <th>tw_lag3_watched</th>\n",
       "      <th>tw_lag2_watched</th>\n",
       "      <th>tw_lag1_watched</th>\n",
       "      <th>average_completion</th>\n",
       "      <th>total_sessions</th>\n",
       "      <th>num_genre</th>\n",
       "      <th>...</th>\n",
       "      <th>most_weekday_weekday_1</th>\n",
       "      <th>most_weekday_weekday_2</th>\n",
       "      <th>most_weekday_weekday_3</th>\n",
       "      <th>most_weekday_weekday_4</th>\n",
       "      <th>most_weekday_weekday_5</th>\n",
       "      <th>most_weekday_weekday_6</th>\n",
       "      <th>most_timeday_Afternoon</th>\n",
       "      <th>most_timeday_Evening</th>\n",
       "      <th>most_timeday_Morning</th>\n",
       "      <th>most_timeday_Night</th>\n",
       "    </tr>\n",
       "    <tr>\n",
       "      <th>user_id</th>\n",
       "      <th></th>\n",
       "      <th></th>\n",
       "      <th></th>\n",
       "      <th></th>\n",
       "      <th></th>\n",
       "      <th></th>\n",
       "      <th></th>\n",
       "      <th></th>\n",
       "      <th></th>\n",
       "      <th></th>\n",
       "      <th></th>\n",
       "      <th></th>\n",
       "      <th></th>\n",
       "      <th></th>\n",
       "      <th></th>\n",
       "      <th></th>\n",
       "      <th></th>\n",
       "      <th></th>\n",
       "      <th></th>\n",
       "      <th></th>\n",
       "      <th></th>\n",
       "    </tr>\n",
       "  </thead>\n",
       "  <tbody>\n",
       "    <tr>\n",
       "      <th>0001c6</th>\n",
       "      <td>16.679200</td>\n",
       "      <td>0.000000</td>\n",
       "      <td>0.0000</td>\n",
       "      <td>0.000000</td>\n",
       "      <td>0.000000</td>\n",
       "      <td>0.152550</td>\n",
       "      <td>0.000000</td>\n",
       "      <td>0.371496</td>\n",
       "      <td>2</td>\n",
       "      <td>1</td>\n",
       "      <td>...</td>\n",
       "      <td>1</td>\n",
       "      <td>0</td>\n",
       "      <td>0</td>\n",
       "      <td>0</td>\n",
       "      <td>0</td>\n",
       "      <td>0</td>\n",
       "      <td>0</td>\n",
       "      <td>1</td>\n",
       "      <td>0</td>\n",
       "      <td>0</td>\n",
       "    </tr>\n",
       "    <tr>\n",
       "      <th>000c1a</th>\n",
       "      <td>0.162867</td>\n",
       "      <td>0.147467</td>\n",
       "      <td>107.0984</td>\n",
       "      <td>145.686233</td>\n",
       "      <td>2.286283</td>\n",
       "      <td>100.487767</td>\n",
       "      <td>132.432083</td>\n",
       "      <td>0.233136</td>\n",
       "      <td>28</td>\n",
       "      <td>5</td>\n",
       "      <td>...</td>\n",
       "      <td>0</td>\n",
       "      <td>0</td>\n",
       "      <td>1</td>\n",
       "      <td>0</td>\n",
       "      <td>0</td>\n",
       "      <td>0</td>\n",
       "      <td>0</td>\n",
       "      <td>0</td>\n",
       "      <td>1</td>\n",
       "      <td>0</td>\n",
       "    </tr>\n",
       "    <tr>\n",
       "      <th>001c53</th>\n",
       "      <td>1.866300</td>\n",
       "      <td>0.000000</td>\n",
       "      <td>0.0000</td>\n",
       "      <td>0.000000</td>\n",
       "      <td>1.309867</td>\n",
       "      <td>0.000000</td>\n",
       "      <td>0.000000</td>\n",
       "      <td>0.489419</td>\n",
       "      <td>3</td>\n",
       "      <td>2</td>\n",
       "      <td>...</td>\n",
       "      <td>0</td>\n",
       "      <td>1</td>\n",
       "      <td>0</td>\n",
       "      <td>0</td>\n",
       "      <td>0</td>\n",
       "      <td>0</td>\n",
       "      <td>0</td>\n",
       "      <td>0</td>\n",
       "      <td>1</td>\n",
       "      <td>0</td>\n",
       "    </tr>\n",
       "    <tr>\n",
       "      <th>001d44</th>\n",
       "      <td>0.000000</td>\n",
       "      <td>0.000000</td>\n",
       "      <td>0.0000</td>\n",
       "      <td>14.547700</td>\n",
       "      <td>0.000000</td>\n",
       "      <td>0.000000</td>\n",
       "      <td>0.248017</td>\n",
       "      <td>0.058203</td>\n",
       "      <td>2</td>\n",
       "      <td>2</td>\n",
       "      <td>...</td>\n",
       "      <td>0</td>\n",
       "      <td>0</td>\n",
       "      <td>0</td>\n",
       "      <td>0</td>\n",
       "      <td>0</td>\n",
       "      <td>1</td>\n",
       "      <td>0</td>\n",
       "      <td>0</td>\n",
       "      <td>1</td>\n",
       "      <td>0</td>\n",
       "    </tr>\n",
       "    <tr>\n",
       "      <th>002b2e</th>\n",
       "      <td>291.477033</td>\n",
       "      <td>0.000000</td>\n",
       "      <td>0.0000</td>\n",
       "      <td>0.000000</td>\n",
       "      <td>0.000000</td>\n",
       "      <td>0.000000</td>\n",
       "      <td>0.000000</td>\n",
       "      <td>0.228233</td>\n",
       "      <td>17</td>\n",
       "      <td>5</td>\n",
       "      <td>...</td>\n",
       "      <td>0</td>\n",
       "      <td>1</td>\n",
       "      <td>0</td>\n",
       "      <td>0</td>\n",
       "      <td>0</td>\n",
       "      <td>0</td>\n",
       "      <td>0</td>\n",
       "      <td>1</td>\n",
       "      <td>0</td>\n",
       "      <td>0</td>\n",
       "    </tr>\n",
       "  </tbody>\n",
       "</table>\n",
       "<p>5 rows × 34 columns</p>\n",
       "</div>"
      ],
      "text/plain": [
       "         tw_lag7_watched  tw_lag6_watched  tw_lag5_watched  tw_lag4_watched  \\\n",
       "user_id                                                                       \n",
       "0001c6         16.679200         0.000000           0.0000         0.000000   \n",
       "000c1a          0.162867         0.147467         107.0984       145.686233   \n",
       "001c53          1.866300         0.000000           0.0000         0.000000   \n",
       "001d44          0.000000         0.000000           0.0000        14.547700   \n",
       "002b2e        291.477033         0.000000           0.0000         0.000000   \n",
       "\n",
       "         tw_lag3_watched  tw_lag2_watched  tw_lag1_watched  \\\n",
       "user_id                                                      \n",
       "0001c6          0.000000         0.152550         0.000000   \n",
       "000c1a          2.286283       100.487767       132.432083   \n",
       "001c53          1.309867         0.000000         0.000000   \n",
       "001d44          0.000000         0.000000         0.248017   \n",
       "002b2e          0.000000         0.000000         0.000000   \n",
       "\n",
       "         average_completion  total_sessions  num_genre         ...          \\\n",
       "user_id                                                        ...           \n",
       "0001c6             0.371496               2          1         ...           \n",
       "000c1a             0.233136              28          5         ...           \n",
       "001c53             0.489419               3          2         ...           \n",
       "001d44             0.058203               2          2         ...           \n",
       "002b2e             0.228233              17          5         ...           \n",
       "\n",
       "         most_weekday_weekday_1  most_weekday_weekday_2  \\\n",
       "user_id                                                   \n",
       "0001c6                        1                       0   \n",
       "000c1a                        0                       0   \n",
       "001c53                        0                       1   \n",
       "001d44                        0                       0   \n",
       "002b2e                        0                       1   \n",
       "\n",
       "         most_weekday_weekday_3  most_weekday_weekday_4  \\\n",
       "user_id                                                   \n",
       "0001c6                        0                       0   \n",
       "000c1a                        1                       0   \n",
       "001c53                        0                       0   \n",
       "001d44                        0                       0   \n",
       "002b2e                        0                       0   \n",
       "\n",
       "         most_weekday_weekday_5  most_weekday_weekday_6  \\\n",
       "user_id                                                   \n",
       "0001c6                        0                       0   \n",
       "000c1a                        0                       0   \n",
       "001c53                        0                       0   \n",
       "001d44                        0                       1   \n",
       "002b2e                        0                       0   \n",
       "\n",
       "         most_timeday_Afternoon  most_timeday_Evening  most_timeday_Morning  \\\n",
       "user_id                                                                       \n",
       "0001c6                        0                     1                     0   \n",
       "000c1a                        0                     0                     1   \n",
       "001c53                        0                     0                     1   \n",
       "001d44                        0                     0                     1   \n",
       "002b2e                        0                     1                     0   \n",
       "\n",
       "         most_timeday_Night  \n",
       "user_id                      \n",
       "0001c6                    0  \n",
       "000c1a                    0  \n",
       "001c53                    0  \n",
       "001d44                    0  \n",
       "002b2e                    0  \n",
       "\n",
       "[5 rows x 34 columns]"
      ]
     },
     "execution_count": 156,
     "metadata": {},
     "output_type": "execute_result"
    }
   ],
   "source": [
    "# Make sure we have the right input database\n",
    "features.head()"
   ]
  },
  {
   "cell_type": "code",
   "execution_count": 157,
   "metadata": {},
   "outputs": [
    {
     "data": {
      "text/plain": [
       "array([  1.44833333e-01,   3.18047633e+02,   1.98035000e+00,\n",
       "         1.00590667e+01,   0.00000000e+00,   4.79261667e+00,\n",
       "         0.00000000e+00,   0.00000000e+00,   0.00000000e+00,\n",
       "         0.00000000e+00])"
      ]
     },
     "execution_count": 157,
     "metadata": {},
     "output_type": "execute_result"
    }
   ],
   "source": [
    "# Make sure we have the right output\n",
    "target[:10]"
   ]
  },
  {
   "cell_type": "markdown",
   "metadata": {},
   "source": [
    "<a id='define_baseline'></a>\n",
    "## Define a Baseline\n",
    "\n",
    "As mentionned in the previous course we should have a baseline to compare the performance of our models with. Here, as we are forecasting a quantitative variable, the most simple model is the one that predicts a constant value, such as  zero, the mean or the median of our data. \n",
    "\n",
    "Note that by default `scikit` _maximises_ an inverse error function as opposed to minimising an error function.  We therefore negate the error we compute for our baseline model to make it comparable with the performance metric we will pull out of our statistical models."
   ]
  },
  {
   "cell_type": "code",
   "execution_count": 158,
   "metadata": {
    "collapsed": true
   },
   "outputs": [],
   "source": [
    "# Create a baseline to compare our results to (mean and median minutes watched and 0)\n",
    "mean=np.mean(target)\n",
    "median=np.median(target)\n",
    "\n",
    "mean_forecast=[mean]*len(target)\n",
    "median_forecast=[median]*len(target)\n",
    "zero_forecast=[0]*len(target)"
   ]
  },
  {
   "cell_type": "code",
   "execution_count": 159,
   "metadata": {},
   "outputs": [
    {
     "name": "stdout",
     "output_type": "stream",
     "text": [
      "Mean: 75.9168097123\n",
      "Median: 0.0\n"
     ]
    }
   ],
   "source": [
    "print(\"Mean: \"+str(mean))\n",
    "print(\"Median: \"+str(median))"
   ]
  },
  {
   "cell_type": "markdown",
   "metadata": {},
   "source": [
    "The median is null, meaning that more than half of our users did not consume content on iPlayer within the last two weeks.\n",
    "\n",
    "There is no need to consider the constant model equal to 0 as a baseline here (same as the median one)."
   ]
  },
  {
   "cell_type": "code",
   "execution_count": 160,
   "metadata": {},
   "outputs": [
    {
     "name": "stdout",
     "output_type": "stream",
     "text": [
      "Score if we forecast the mean: -115.319756974\n",
      "Score if we forecast the median: -75.9168097123\n"
     ]
    }
   ],
   "source": [
    "# Compute the errors for these different baselines\n",
    "from sklearn import metrics\n",
    "print(\"Score if we forecast the mean:\",\n",
    "      -metrics.mean_absolute_error(target,mean_forecast))\n",
    "print(\"Score if we forecast the median:\",\n",
    "      -metrics.mean_absolute_error(target,median_forecast))"
   ]
  },
  {
   "cell_type": "markdown",
   "metadata": {},
   "source": [
    "\n",
    "\n",
    "We will now train a series of different kinds of regression models. The impact of each of these models can be assessed by comparing their performance to these two baseline error scores. \n",
    "\n",
    "These models should provide great business insight as we can __quantify the impact__ of each input variable upon our \"engagement\" output variable.\n",
    "\n",
    "<a id='linear_reg'></a>\n",
    "# Multivariate Linear Regression\n",
    "\n",
    "The easiest way to relate our output variable to our input ones is to use a __linear combination__.\n",
    "\n",
    "A linear regression model decomposes the observed output in an additive way such that the coefficients we estimate in the training process can be interpreted as the impact of a given input all other things being equal (AOTBE). For more details see: https://en.wikipedia.org/wiki/Linear_regression\n",
    "\n",
    "And for the `scikit learn` documentation: http://scikit-learn.org/stable/modules/generated/sklearn.linear_model.LinearRegression.html"
   ]
  },
  {
   "cell_type": "code",
   "execution_count": 161,
   "metadata": {
    "collapsed": true
   },
   "outputs": [],
   "source": [
    "# Let's build a simple regression\n",
    "from sklearn import linear_model\n",
    "\n",
    "# We will use cross validation, so import helper functions for this\n",
    "from sklearn.model_selection import cross_val_score, cross_val_predict\n",
    "\n",
    "# Plots\n",
    "from matplotlib import pyplot as plt "
   ]
  },
  {
   "cell_type": "markdown",
   "metadata": {},
   "source": [
    "<a id='model_training'></a>\n",
    "## Model Training and Evaluation\n",
    "\n",
    "For this model there is no hyperparameter to tune. Indeed, the model only has to evaluate the _contribution_ of each input variable to the linear combination.  \n",
    "\n",
    "Mainintaining a train/test split is just as important when using regression models as it is with classification models, so we will use the `cross_val_score` function again here. This gives us the negative mean absolute error for each of the _k_ validation folds. In addition we use the 'cross_val_predict' function to get the raw linear predictions. This function returns the predicted target value of each datapoint in our dataset while ensuring the model used to predict each datapoint has not been trained upon that datapoint."
   ]
  },
  {
   "cell_type": "code",
   "execution_count": 162,
   "metadata": {},
   "outputs": [],
   "source": [
    "# We setup a simple linear regression, again using cross validation\n",
    "reg=linear_model.LinearRegression()\n",
    "\n",
    "\n",
    "MR_oos=cross_val_score(reg, features, target, scoring='neg_mean_absolute_error')\n",
    "MR_r2 = cross_val_score(reg, features, target, scoring='r2')\n",
    "predicted=cross_val_predict(reg, features,target)"
   ]
  },
  {
   "cell_type": "code",
   "execution_count": 163,
   "metadata": {},
   "outputs": [
    {
     "name": "stdout",
     "output_type": "stream",
     "text": [
      "Mean inverse out-of-sample error: -58.0733721136\n"
     ]
    }
   ],
   "source": [
    "# Compute the mean error obtained in the CV\n",
    "print(\"Mean inverse out-of-sample error:\", np.mean(MR_oos))"
   ]
  },
  {
   "cell_type": "markdown",
   "metadata": {},
   "source": [
    "So we now have an indication of the performance of our first regressor model. Fortunately, the score is higher than either of our baseline scores (-115 and -76) meaning that our model is capturing some meaningful information about our output \"engagement\" variable.\n",
    "\n",
    "We can also plot our predicted values against the output we actually observe. The more the dots are close to the first bisector, the better are our forecasts. \n",
    "\n",
    "We can also evaluate the strength of the linear relationship between the predicted and actual output values by calculating the correlation of the two."
   ]
  },
  {
   "cell_type": "code",
   "execution_count": 164,
   "metadata": {},
   "outputs": [
    {
     "name": "stdout",
     "output_type": "stream",
     "text": [
      "Pearson correlation coefficient: 0.7989190750106413\n",
      "P-value 0.0\n"
     ]
    },
    {
     "data": {
      "image/png": "[encoded data removed]",
      "text/plain": [
       "<matplotlib.figure.Figure at 0x1148f2748>"
      ]
     },
     "metadata": {},
     "output_type": "display_data"
    }
   ],
   "source": [
    "#First let's see how correlated the predicted and actual output variables are.\n",
    "from scipy.stats.stats import pearsonr\n",
    "MR_r, p  = pearsonr(target,predicted)\n",
    "print('Pearson correlation coefficient: {}'.format(MR_r) )\n",
    "print(\"P-value {}\".format(p))\n",
    "\n",
    "\n",
    "# Let's compare graphically the predicted and actual values\n",
    "fig, ax = plt.subplots()\n",
    "ax.scatter(target, predicted)\n",
    "ax.plot([target.min(), target.max()], [target.min(), target.max()], 'k--', lw=1)\n",
    "ax.set_xlabel('Observed')\n",
    "ax.set_ylabel('Predicted')\n",
    "\n",
    "\n",
    "\n",
    "plt.show()"
   ]
  },
  {
   "cell_type": "markdown",
   "metadata": {},
   "source": [
    "So a correlation coefficient 0.8 represents a strong linear relationship between the two variables. The P-value of 0.0 represents the significance of the test. The P-value is a number between 0 and 1 and can be interpreted as the probability that the reported effect is not real and actually happened by chance. In most behavioural studies p-values of below 0.05 are considered significant. Be aware that this significance level is, essentially, arbitrary and varies from field to field. \n",
    "\n",
    "\n",
    "From inspecting the scatter plot we see the illustration of the reported linear relationship. One thing to note from the plot is that an outlier exists in the top right corner of the plot. It is worth mentioning that a single outlier like that can have a significant impact upon correlation coefficient. So, for a more accurate reflection of the linear relationship, that outlier should be removed before performing the correlation test.\n",
    "\n",
    "\n",
    "<a id='in_sample_error'></a>\n",
    "## Interpreting Multivariate Regression Model\n",
    "\n",
    "Now that we have evaluated the performance of our model using the out-of-sample error, next, let's see if we can understand how the model is working. To do this, we will train one model using our entire dataset and the estimated coefficients will represent the importance the model is affording to each feature."
   ]
  },
  {
   "cell_type": "code",
   "execution_count": 165,
   "metadata": {},
   "outputs": [],
   "source": [
    "# Let's train on all data \n",
    "lin_reg=linear_model.LinearRegression()\n",
    "mod1=lin_reg.fit(features,target)"
   ]
  },
  {
   "cell_type": "code",
   "execution_count": 166,
   "metadata": {},
   "outputs": [
    {
     "name": "stdout",
     "output_type": "stream",
     "text": [
      "Inverse in-sample error: -56.600083327149065\n"
     ]
    }
   ],
   "source": [
    "# In-sample error\n",
    "from sklearn.metrics import mean_absolute_error\n",
    "MR_is = -metrics.mean_absolute_error(target,mod1.predict(features))\n",
    "print(\"Inverse in-sample error: {}\".format(MR_is))\n",
    "\n",
    "# Calculate the goodness-of-fit Coefficient of determination - r-squared\n",
    "#MR_r2 = mod1.score(features,target)\n",
    "#print(\"R-squared: {}\".format(MR_r2))"
   ]
  },
  {
   "cell_type": "markdown",
   "metadata": {},
   "source": [
    "So our _inverse_ in-sample error is -56.6 while our _inverse_ out-of-sample (average) error is -58. This looks sensible as, remember that _inverse_ in-sample error (or in-sample accuracy) will always be higher than _inverse_ out-of-sample error (or out-of-sample-accuracy). The fact that these two values are not far apart is an indication that the model is well-fitted.\n",
    "\n",
    "N.B For the estimated coefficients we should in theory have a look at the __p-values__ for each - statistic values that indicate whether our estimated coefficient is significantly different from zero. We won't go more into details here, however they can be explored in the sci-kit learn documentation. "
   ]
  },
  {
   "cell_type": "code",
   "execution_count": 167,
   "metadata": {},
   "outputs": [
    {
     "data": {
      "text/html": [
       "<div>\n",
       "<style>\n",
       "    .dataframe thead tr:only-child th {\n",
       "        text-align: right;\n",
       "    }\n",
       "\n",
       "    .dataframe thead th {\n",
       "        text-align: left;\n",
       "    }\n",
       "\n",
       "    .dataframe tbody tr th {\n",
       "        vertical-align: top;\n",
       "    }\n",
       "</style>\n",
       "<table border=\"1\" class=\"dataframe\">\n",
       "  <thead>\n",
       "    <tr style=\"text-align: right;\">\n",
       "      <th></th>\n",
       "      <th>coefficient</th>\n",
       "      <th>feature</th>\n",
       "    </tr>\n",
       "  </thead>\n",
       "  <tbody>\n",
       "    <tr>\n",
       "      <th>0</th>\n",
       "      <td>6.541515</td>\n",
       "      <td>most_weekday_weekday_2</td>\n",
       "    </tr>\n",
       "    <tr>\n",
       "      <th>1</th>\n",
       "      <td>4.831388</td>\n",
       "      <td>most_genre_Sport</td>\n",
       "    </tr>\n",
       "    <tr>\n",
       "      <th>2</th>\n",
       "      <td>3.625429</td>\n",
       "      <td>most_genre_Drama</td>\n",
       "    </tr>\n",
       "    <tr>\n",
       "      <th>3</th>\n",
       "      <td>2.676683</td>\n",
       "      <td>most_timeday_Afternoon</td>\n",
       "    </tr>\n",
       "    <tr>\n",
       "      <th>4</th>\n",
       "      <td>2.654163</td>\n",
       "      <td>most_genre_News</td>\n",
       "    </tr>\n",
       "    <tr>\n",
       "      <th>5</th>\n",
       "      <td>2.148542</td>\n",
       "      <td>most_genre_Entertainment</td>\n",
       "    </tr>\n",
       "    <tr>\n",
       "      <th>6</th>\n",
       "      <td>1.889999</td>\n",
       "      <td>most_weekday_weekday_6</td>\n",
       "    </tr>\n",
       "    <tr>\n",
       "      <th>7</th>\n",
       "      <td>1.302314</td>\n",
       "      <td>num_genre</td>\n",
       "    </tr>\n",
       "    <tr>\n",
       "      <th>8</th>\n",
       "      <td>1.081513</td>\n",
       "      <td>most_genre_Religion &amp; Ethics</td>\n",
       "    </tr>\n",
       "    <tr>\n",
       "      <th>9</th>\n",
       "      <td>0.849109</td>\n",
       "      <td>average_completion</td>\n",
       "    </tr>\n",
       "  </tbody>\n",
       "</table>\n",
       "</div>"
      ],
      "text/plain": [
       "   coefficient                       feature\n",
       "0     6.541515        most_weekday_weekday_2\n",
       "1     4.831388              most_genre_Sport\n",
       "2     3.625429              most_genre_Drama\n",
       "3     2.676683        most_timeday_Afternoon\n",
       "4     2.654163               most_genre_News\n",
       "5     2.148542      most_genre_Entertainment\n",
       "6     1.889999        most_weekday_weekday_6\n",
       "7     1.302314                     num_genre\n",
       "8     1.081513  most_genre_Religion & Ethics\n",
       "9     0.849109            average_completion"
      ]
     },
     "execution_count": 167,
     "metadata": {},
     "output_type": "execute_result"
    }
   ],
   "source": [
    "# First, let's have a look at the highest magnitude positive coefficients.\n",
    "coef1=pd.DataFrame(\n",
    "    {'feature': list(features.columns),\n",
    "     'coefficient': list(mod1.coef_)\n",
    "    })\n",
    "coef1.sort_values(by='coefficient', ascending=False).reset_index(drop=True).head(10)\n"
   ]
  },
  {
   "cell_type": "code",
   "execution_count": 168,
   "metadata": {},
   "outputs": [
    {
     "data": {
      "text/html": [
       "<div>\n",
       "<style>\n",
       "    .dataframe thead tr:only-child th {\n",
       "        text-align: right;\n",
       "    }\n",
       "\n",
       "    .dataframe thead th {\n",
       "        text-align: left;\n",
       "    }\n",
       "\n",
       "    .dataframe tbody tr th {\n",
       "        vertical-align: top;\n",
       "    }\n",
       "</style>\n",
       "<table border=\"1\" class=\"dataframe\">\n",
       "  <thead>\n",
       "    <tr style=\"text-align: right;\">\n",
       "      <th></th>\n",
       "      <th>coefficient</th>\n",
       "      <th>feature</th>\n",
       "    </tr>\n",
       "  </thead>\n",
       "  <tbody>\n",
       "    <tr>\n",
       "      <th>29</th>\n",
       "      <td>-6.872885</td>\n",
       "      <td>most_genre_Music</td>\n",
       "    </tr>\n",
       "    <tr>\n",
       "      <th>30</th>\n",
       "      <td>-7.023103</td>\n",
       "      <td>most_timeday_Evening</td>\n",
       "    </tr>\n",
       "    <tr>\n",
       "      <th>31</th>\n",
       "      <td>-8.022035</td>\n",
       "      <td>most_timeday_Night</td>\n",
       "    </tr>\n",
       "    <tr>\n",
       "      <th>32</th>\n",
       "      <td>-9.211985</td>\n",
       "      <td>most_weekday_weekday_0</td>\n",
       "    </tr>\n",
       "    <tr>\n",
       "      <th>33</th>\n",
       "      <td>-16.821276</td>\n",
       "      <td>most_genre_Children's</td>\n",
       "    </tr>\n",
       "  </tbody>\n",
       "</table>\n",
       "</div>"
      ],
      "text/plain": [
       "    coefficient                 feature\n",
       "29    -6.872885        most_genre_Music\n",
       "30    -7.023103    most_timeday_Evening\n",
       "31    -8.022035      most_timeday_Night\n",
       "32    -9.211985  most_weekday_weekday_0\n",
       "33   -16.821276   most_genre_Children's"
      ]
     },
     "execution_count": 168,
     "metadata": {},
     "output_type": "execute_result"
    }
   ],
   "source": [
    "# Now lets have a look at the highest magnitude negative coefficients.\n",
    "coef1.sort_values(by='coefficient', ascending=False).reset_index(drop=True).tail(5)"
   ]
  },
  {
   "cell_type": "code",
   "execution_count": 169,
   "metadata": {
    "collapsed": true
   },
   "outputs": [],
   "source": [
    "# Make the index the feature label.\n",
    "coef1 = coef1.set_index(['feature'])"
   ]
  },
  {
   "cell_type": "code",
   "execution_count": 170,
   "metadata": {
    "scrolled": true
   },
   "outputs": [
    {
     "data": {
      "image/png": "[encoded data removed]",
      "text/plain": [
       "<matplotlib.figure.Figure at 0x11b4e0b00>"
      ]
     },
     "metadata": {},
     "output_type": "display_data"
    }
   ],
   "source": [
    "# Now let's plot them all\n",
    "coef1.sort_values(by='coefficient', ascending=False).plot(kind='bar')\n",
    "plt.show()\n"
   ]
  },
  {
   "cell_type": "markdown",
   "metadata": {},
   "source": [
    "The results are quite interesting here. It seems that some particular habits __drive__ the amount of content consumed. The table of positive coefficients indicate the features that are positively correlated with minutes watched. So, users that consume most iPlayer content on Wednesdays, or in the afternoon, or whose favourite genre is Sport are more likely to consume more content overall. Conversely, users whose favourite genre is Children's or who consume most of their content on a Monday do not consume - in terms of total of minutes - as much. It's difficult to speak of drivers for _engagement_ here because the minutes watched is highly correlated to the type of content. For example, Children's  content are, on average, shorter than Sport or Drama so it makes sense that people that watch long shows watch more minutes than people that watch short shows. It doesn't necessarily mean than the user's who consume only Children's content are less engaged. \n",
    "\n",
    "More specifically, the estimated coefficients can be interpreted as follows. Let's take the `num_genre` variable, whose estimated coefficient and therefore model contribution is 1.3. This means that, if we hold all other features constant, for each user that views one genre in the 16-week training period (`num_genre=1`), the model output prediction will be 1.3 minutes of consumed content.  While this feature alone would not make a very accurate model for our purpose, it makes sense that the more genre's an audience member consumes, the more engaged they are.\n",
    "\n",
    "To be certain that the the coefficients of our model are making significant contributions, we should also look at the p-values for each. A p-value of below 0.05 indicates that an estimated coefficient is significantly different from zero. The reader is encouraged to explore this as an exercise."
   ]
  },
  {
   "cell_type": "markdown",
   "metadata": {},
   "source": [
    "## Results"
   ]
  },
  {
   "cell_type": "code",
   "execution_count": 171,
   "metadata": {},
   "outputs": [
    {
     "name": "stdout",
     "output_type": "stream",
     "text": [
      "Multivariate regression results:\n",
      "Inverse in-sample error: -56.600083327149065\n",
      "Inverse out-of-sample error: -58.07337211361497\n",
      "Correlation between predicted and actual: 0.7989190750106413\n",
      "R-squared: 0.6249690423640981\n"
     ]
    }
   ],
   "source": [
    "print(\"Multivariate regression results:\")\n",
    "print(\"Inverse in-sample error: {}\".format(np.mean(MR_is)))\n",
    "print(\"Inverse out-of-sample error: {}\".format(np.mean(MR_oos)))\n",
    "print(\"Correlation between predicted and actual: {}\".format(MR_r))\n",
    "print(\"R-squared: {}\".format(np.mean(MR_r2)))"
   ]
  },
  {
   "cell_type": "markdown",
   "metadata": {},
   "source": [
    "\n",
    "\n",
    "\n",
    "# Regularization Models\n",
    "\n",
    "In many situations, trained multivariate linear regression models have very large coefficients. Unfortunately, experience tells that large coefficients tend to lead to more complex models that overfit the data. _Regularization_ models various techniques to avoid this problem.\n",
    "\n",
    "<a id='ridge_reg'></a>\n",
    "# Ridge Regression\n",
    "\n",
    "\n",
    "\n",
    "Ridge regression, also referred to as L2 regularization is a variant of multivariate regression that adds a term, _alpha_, that penalises the sum-squared of the coefficients. In practical terms, an alpha of zero will train a model that is identical to multivariate regression and as we increase _alpha_ the magnitude of the coefficients will be increasingly constrained.\n",
    "\n",
    "`scikit documentation`: http://scikit-learn.org/stable/modules/generated/sklearn.linear_model.Ridge.html\n",
    "\n",
    "<a id='model_training2'></a>\n",
    "## Model Training and Evaluation\n",
    "\n",
    "The _alpha_ term just described is a hyperparameter that we need to tune.  Let's use the same approach we used for the classification models and do a grid search."
   ]
  },
  {
   "cell_type": "code",
   "execution_count": 172,
   "metadata": {
    "collapsed": true
   },
   "outputs": [],
   "source": [
    "# Setup the model and develop a simple grid search against some key parameters\n",
    "param_alpha=[0.001,0.01,0.1,1.0,10,100]"
   ]
  },
  {
   "cell_type": "code",
   "execution_count": 173,
   "metadata": {},
   "outputs": [
    {
     "name": "stdout",
     "output_type": "stream",
     "text": [
      "Best Settings: alpha: 100\n",
      "Inverse oout-of-sample error: -57.6212395997\n"
     ]
    }
   ],
   "source": [
    "# Let's keep track of our best parameters\n",
    "RR_best_score=-200\n",
    "best_param=0\n",
    "\n",
    "# we will setup a manual grid search, but you can also use the gridsearchCV capability in sklearn\n",
    "for i in param_alpha:\n",
    "    reg_r = linear_model.Ridge(alpha = i)\n",
    "    scores=cross_val_score(reg_r,\n",
    "                           features,\n",
    "                           target,\n",
    "                           scoring='neg_mean_absolute_error')\n",
    "    \n",
    "    if np.mean(scores)>RR_best_score:\n",
    "        RR_best_score=np.mean(scores)\n",
    "        best_param=i\n",
    "\n",
    "# print the overall best results\n",
    "print('Best Settings: alpha:',best_param)\n",
    "print('Inverse oout-of-sample error:', RR_best_score)"
   ]
  },
  {
   "cell_type": "markdown",
   "metadata": {},
   "source": [
    "So our best ridge regression model does _slightly_ better than our previous multivariate regression model.\n",
    "\n",
    "Now let's look at the relationship between the predicted and actual values."
   ]
  },
  {
   "cell_type": "code",
   "execution_count": 174,
   "metadata": {
    "scrolled": true
   },
   "outputs": [
    {
     "name": "stdout",
     "output_type": "stream",
     "text": [
      "Pearson correlation coefficient: 0.7991074107638553\n",
      "P-value 0.0\n"
     ]
    },
    {
     "data": {
      "image/png": "[encoded data removed]",
      "text/plain": [
       "<matplotlib.figure.Figure at 0x116eb7e80>"
      ]
     },
     "metadata": {},
     "output_type": "display_data"
    }
   ],
   "source": [
    "reg_r = linear_model.Ridge(alpha = best_param)\n",
    "predicted=cross_val_predict(reg_r, features,target)\n",
    "RR_r, p  = pearsonr(target,predicted)\n",
    "print('Pearson correlation coefficient: {}'.format(RR_r) )\n",
    "print(\"P-value {}\".format(p))\n",
    "\n",
    "\n",
    "# Let's compare graphically the predicted and actual values\n",
    "fig, ax = plt.subplots()\n",
    "ax.scatter(target, predicted)\n",
    "ax.plot([target.min(), target.max()], [target.min(), target.max()], 'k--', lw=1)\n",
    "ax.set_xlabel('Measured')\n",
    "ax.set_ylabel('Predicted')\n",
    "plt.show()"
   ]
  },
  {
   "cell_type": "markdown",
   "metadata": {},
   "source": [
    "The data (both the plot and the correlation coefficient) look very similar to the data produced by the previous linear regression model so there are no more insights to be made here."
   ]
  },
  {
   "cell_type": "code",
   "execution_count": 175,
   "metadata": {
    "collapsed": true
   },
   "outputs": [],
   "source": [
    "# Save performance data for benchmarking later\n",
    "reg_r = linear_model.Ridge(alpha = best_param)\n",
    "RR_oos=cross_val_score(reg_r, features, target, scoring='neg_mean_absolute_error')\n",
    "RR_r2 = cross_val_score(reg_r, features, target, scoring='r2')\n"
   ]
  },
  {
   "cell_type": "markdown",
   "metadata": {},
   "source": [
    "\n",
    "\n",
    "\n",
    "<a id='best_ridge_reg'></a>\n",
    "## Interpreting Ridge Regression Model\n",
    "\n",
    "As before, to explore our best ridge regression model we will train a new model using the entire dataset."
   ]
  },
  {
   "cell_type": "code",
   "execution_count": 176,
   "metadata": {
    "collapsed": true
   },
   "outputs": [],
   "source": [
    "# Let's keep our best model (hyperparameters tuned)\n",
    "ridge=linear_model.Ridge(alpha = best_param)\n",
    "mod2=ridge.fit(features,target)"
   ]
  },
  {
   "cell_type": "code",
   "execution_count": 177,
   "metadata": {},
   "outputs": [
    {
     "name": "stdout",
     "output_type": "stream",
     "text": [
      "Inverse in-sample error: -56.349642485604285\n"
     ]
    }
   ],
   "source": [
    "# In-sample error\n",
    "RR_is = -metrics.mean_absolute_error(target,mod2.predict(features))\n",
    "print(\"Inverse in-sample error: {}\".format(RR_is))\n",
    "\n",
    "# Coefficient of determination - r-squared\n",
    "#RR_r2 = mod2.score(features,target)\n",
    "#print(RR_r2)"
   ]
  },
  {
   "cell_type": "markdown",
   "metadata": {},
   "source": [
    "The in-sample performance metric looks sensible.\n",
    "\n"
   ]
  },
  {
   "cell_type": "markdown",
   "metadata": {},
   "source": [
    "Now let's look at the coefficients, where we should see a difference from our linear regression model."
   ]
  },
  {
   "cell_type": "code",
   "execution_count": 178,
   "metadata": {},
   "outputs": [],
   "source": [
    "# Let's have a look at the estimated coefficients\n",
    "coefRidge=pd.DataFrame(\n",
    "    {'feature': list(features.columns),\n",
    "     'coefficient': list(mod2.coef_)\n",
    "    })\n",
    "# Make the index the feature label.\n",
    "coefRidge = coefRidge.set_index(['feature'])"
   ]
  },
  {
   "cell_type": "code",
   "execution_count": 179,
   "metadata": {},
   "outputs": [
    {
     "data": {
      "image/png": "[encoded data removed]",
      "text/plain": [
       "<matplotlib.figure.Figure at 0x116ebee80>"
      ]
     },
     "metadata": {},
     "output_type": "display_data"
    }
   ],
   "source": [
    "coefRidge.sort_values(by='coefficient', ascending=False).plot(kind='bar')\n",
    "plt.show()\n",
    "\n"
   ]
  },
  {
   "cell_type": "markdown",
   "metadata": {},
   "source": [
    "As expected, the shape of the distribution of coefficients has not changed noticebly, however, the absolute values of those coefficients is much lower than it was for the linear regression model."
   ]
  },
  {
   "cell_type": "markdown",
   "metadata": {},
   "source": [
    "## Results\n"
   ]
  },
  {
   "cell_type": "code",
   "execution_count": 180,
   "metadata": {},
   "outputs": [
    {
     "name": "stdout",
     "output_type": "stream",
     "text": [
      "Ridge regression results:\n",
      "Inverse in-sample error: -56.349642485604285\n",
      "Inverse out-of-sample error: -57.62123959970442\n",
      "Correlation between predicted and actual: 0.7991074107638553\n",
      "R-squared: 0.6252643592161196\n"
     ]
    }
   ],
   "source": [
    "print(\"Ridge regression results:\")\n",
    "print(\"Inverse in-sample error: {}\".format(np.mean(RR_is)))\n",
    "print(\"Inverse out-of-sample error: {}\".format(np.mean(RR_oos)))\n",
    "print(\"Correlation between predicted and actual: {}\".format(RR_r))\n",
    "print(\"R-squared: {}\".format(np.mean(RR_r2)))"
   ]
  },
  {
   "cell_type": "markdown",
   "metadata": {},
   "source": [
    "\n",
    "<a id='lasso_reg'></a>\n",
    "# Lasso Regression\n",
    "\n",
    "Lasso regression is another variant of multivariate regression and is often referred to as L1 regularisation. Instead of penalising the sum-squared of the coefficients (as in ridge regression), lasso regression penalises the absolute sum square of the coefficients. In practical terms, this has the effect of limiting the number of non-zero coefficients in the model. This makes lasso regression a convenient method of feature selection.\n",
    "\n",
    "`scikit documentation`: http://scikit-learn.org/stable/modules/generated/sklearn.linear_model.Lasso.html\n",
    "\n",
    "<a id='model_training3'></a>\n",
    "## Model Training and Evaluation\n",
    "\n",
    "Again, we need to tune the penalty parameter _alpha_. In lasso regression, the _alpha_ parameter varies the number of non-zero coefficients. An _alpha_ of zero will produce a model that is equal to linear regression and as _alpha_ increases the number of non-zero coefficients is increasingly constrained."
   ]
  },
  {
   "cell_type": "code",
   "execution_count": 181,
   "metadata": {
    "collapsed": true
   },
   "outputs": [],
   "source": [
    "# Setup the model and develop a simple grid search against some key parameters\n",
    "param_alpha=[0.001,0.01,0.1,1.0,10,100]"
   ]
  },
  {
   "cell_type": "code",
   "execution_count": 182,
   "metadata": {},
   "outputs": [
    {
     "name": "stdout",
     "output_type": "stream",
     "text": [
      "Best Settings: alpha: 0.1\n",
      "Score: -56.2569583055\n"
     ]
    }
   ],
   "source": [
    "# Let's keep track of our best parameters\n",
    "best_score=-200\n",
    "best_param=0\n",
    "\n",
    "# we will setup a manual grid search, but you can also use the gridsearchCV capability in sklearn\n",
    "for i in param_alpha:\n",
    "    reg_l = linear_model.LassoLars(alpha = i)\n",
    "    scores=cross_val_score(reg_l,\n",
    "                           features,\n",
    "                           target,\n",
    "                           scoring='neg_mean_absolute_error')\n",
    "    if np.mean(scores)>best_score:\n",
    "        best_score=np.mean(scores)\n",
    "        best_param=i\n",
    "\n",
    "# print the overall best results\n",
    "print('Best Settings: alpha:',best_param)\n",
    "print('Score:', best_score)"
   ]
  },
  {
   "cell_type": "markdown",
   "metadata": {},
   "source": [
    "So our best alpha parameter is 0.1 and our best performance metric is -56, which is marginally better than both of our previous models (achieving -58 and 57.6).\n",
    "\n"
   ]
  },
  {
   "cell_type": "code",
   "execution_count": 183,
   "metadata": {},
   "outputs": [
    {
     "name": "stdout",
     "output_type": "stream",
     "text": [
      "Pearson correlation coefficient: 0.7999888895572336\n",
      "P-value 0.0\n"
     ]
    },
    {
     "data": {
      "image/png": "[encoded data removed]",
      "text/plain": [
       "<matplotlib.figure.Figure at 0x11b5f15f8>"
      ]
     },
     "metadata": {},
     "output_type": "display_data"
    }
   ],
   "source": [
    "reg_l = linear_model.LassoLars(alpha = best_param)\n",
    "predicted = cross_val_predict(reg_l, features,target)\n",
    "LR_r, p  = pearsonr(target,predicted)\n",
    "\n",
    "print('Pearson correlation coefficient: {}'.format(LR_r) )\n",
    "print(\"P-value {}\".format(p))\n",
    "\n",
    "# Let's compare graphically the predicted and actual values\n",
    "fig, ax = plt.subplots()\n",
    "ax.scatter(target, predicted)\n",
    "ax.plot([target.min(), target.max()], [target.min(), target.max()], 'k--', lw=1)\n",
    "ax.set_xlabel('Measured')\n",
    "ax.set_ylabel('Predicted')\n",
    "plt.show()"
   ]
  },
  {
   "cell_type": "markdown",
   "metadata": {},
   "source": [
    "Again, the scatter plot and correlation statistics look very similar to those generated using data from our previous regression models. So there are no further insights to be made here."
   ]
  },
  {
   "cell_type": "code",
   "execution_count": 184,
   "metadata": {
    "collapsed": true
   },
   "outputs": [],
   "source": [
    "# Save performance data for benchmarking later\n",
    "reg_l = linear_model.LassoLars(alpha =  best_param)\n",
    "LR_oos=cross_val_score(reg_l, features, target, scoring='neg_mean_absolute_error')\n",
    "LR_r2 = cross_val_score(reg_l, features, target, scoring='r2')"
   ]
  },
  {
   "cell_type": "markdown",
   "metadata": {},
   "source": [
    "<a id='best_lasso_reg'></a>\n",
    "## Interpreting Lasso Regression Model\n",
    "\n"
   ]
  },
  {
   "cell_type": "code",
   "execution_count": 185,
   "metadata": {
    "collapsed": true
   },
   "outputs": [],
   "source": [
    "# Let's keep our best model (hyperparameters tuned)\n",
    "lasso=linear_model.LassoLars(alpha = best_param)\n",
    "mod3=lasso.fit(features,target)"
   ]
  },
  {
   "cell_type": "code",
   "execution_count": 186,
   "metadata": {},
   "outputs": [
    {
     "name": "stdout",
     "output_type": "stream",
     "text": [
      "-55.8993812974\n"
     ]
    }
   ],
   "source": [
    "# In-sample error\n",
    "LR_is = -metrics.mean_absolute_error(target,mod3.predict(features))\n",
    "print(LR_is)\n",
    "\n",
    "# Coefficient of determination - r-squared\n",
    "#LR_r2 = mod3.score(features,target)\n",
    "#print(LR_r2)"
   ]
  },
  {
   "cell_type": "markdown",
   "metadata": {},
   "source": [
    "Our in-sample error looks sensible. Now let's look at the relationship between the real and predicted model values."
   ]
  },
  {
   "cell_type": "markdown",
   "metadata": {},
   "source": [
    "We should expect to see quite significant differences in the distribution of coefficients in our lasso model due to how it penalises the number of non-zero weights."
   ]
  },
  {
   "cell_type": "code",
   "execution_count": 187,
   "metadata": {
    "collapsed": true
   },
   "outputs": [],
   "source": [
    "# Let's have a look at the estimated coefficients\n",
    "coefLasso=pd.DataFrame(\n",
    "    {'feature': list(features.columns),\n",
    "     'coefficient': list(mod3.coef_)\n",
    "    })\n",
    "# Make the index the feature label.\n",
    "coefLasso = coefLasso.set_index(['feature'])"
   ]
  },
  {
   "cell_type": "code",
   "execution_count": 188,
   "metadata": {},
   "outputs": [
    {
     "data": {
      "image/png": "[encoded data removed]",
      "text/plain": [
       "<matplotlib.figure.Figure at 0x11493a6d8>"
      ]
     },
     "metadata": {},
     "output_type": "display_data"
    }
   ],
   "source": [
    "coefLasso.sort_values(by='coefficient', ascending=False).plot(kind='bar')\n",
    "plt.show()\n"
   ]
  },
  {
   "cell_type": "markdown",
   "metadata": {},
   "source": [
    "So, as expected we see a drastically different distribution of coefficients to our previous two models, with only seven of the original thrirty-four coefficients included.  Interestingly, the lasso model has also chosen very different features to the ones weighted highest by the previous two models. The previous two models achieve their highest accuracy from quite a complex combination of positive and negative coefficients that describe the most frequent genre of content and viewing time; while they weighted minutes watched in previous weeks relatively low. Conversely, the lasso model improves on those  previous models by throwing out all the genre and viewing time features and including just seven positive coefficients that weight the minutes watched in previous weeks. "
   ]
  },
  {
   "cell_type": "markdown",
   "metadata": {},
   "source": [
    "## Results\n",
    "\n"
   ]
  },
  {
   "cell_type": "code",
   "execution_count": 189,
   "metadata": {},
   "outputs": [
    {
     "name": "stdout",
     "output_type": "stream",
     "text": [
      "Lasso regression results:\n",
      "Inverse in-sample error: -55.899381297386455\n",
      "Inverse out-of-sample error: -56.25695830551189\n",
      "Correlation between predicted and actual: 0.7999888895572336\n",
      "R-squared: 0.6272392842296312\n"
     ]
    }
   ],
   "source": [
    "print(\"Lasso regression results:\")\n",
    "print(\"Inverse in-sample error: {}\".format(np.mean(LR_is)))\n",
    "print(\"Inverse out-of-sample error: {}\".format(np.mean(LR_oos)))\n",
    "print(\"Correlation between predicted and actual: {}\".format(LR_r))\n",
    "print(\"R-squared: {}\".format(np.mean(LR_r2)))"
   ]
  },
  {
   "cell_type": "markdown",
   "metadata": {},
   "source": [
    "# Benchmarking Regressor Models\n",
    "\n",
    "Now we have calculated performance metrics for three different regression models let's plot and compare their performances."
   ]
  },
  {
   "cell_type": "code",
   "execution_count": 190,
   "metadata": {},
   "outputs": [
    {
     "data": {
      "image/png": "[encoded data removed]",
      "text/plain": [
       "<matplotlib.figure.Figure at 0x114938f98>"
      ]
     },
     "metadata": {},
     "output_type": "display_data"
    },
    {
     "data": {
      "image/png": "[encoded data removed]",
      "text/plain": [
       "<matplotlib.figure.Figure at 0x10c693400>"
      ]
     },
     "metadata": {},
     "output_type": "display_data"
    }
   ],
   "source": [
    "\n",
    "# We will negate the inverse errors to make the bar plots more presentable.\n",
    "bm_errors = pd.DataFrame({'Regression':[-np.mean(MR_oos),-np.mean(MR_is)],\n",
    "                          'Ridge':[-np.mean(RR_oos),-np.mean(RR_is)],\n",
    "                          'Lasso':[-np.mean(LR_oos),-np.mean(LR_is)]})\n",
    "\n",
    "bm_r2 = pd.DataFrame({'Regression':[np.mean(MR_r2),MR_r],\n",
    "                          'Ridge':[np.mean(RR_r2),RR_r],\n",
    "                          'Lasso':[np.mean(LR_r2),LR_r]})\n",
    "bm_inverse_errors.plot(kind='bar')\n",
    "plt.title(\"Error\")\n",
    "plt.xticks( np.arange(2), ('Out-of_sample', 'In-sample') )\n",
    "plt.ylim((50,60,))\n",
    "plt.show()\n",
    "\n",
    "bm_r2.plot(kind='bar')\n",
    "\n",
    "plt.title(\"Goodness-of-fit\")\n",
    "plt.xticks( np.arange(2), ('R-squared', 'Predicted R') )\n",
    "plt.ylim((0.61,0.81))\n",
    "plt.show()"
   ]
  },
  {
   "cell_type": "markdown",
   "metadata": {},
   "source": [
    "We can see from both these plots that the performance of our regression models are difficult to tell apart. The original multivariate regression model and the ridge regression are particularly difficult to distinguish while the lasso model exhibits marginally the best performance for all metrics.\n",
    "\n",
    "On the basis of these results, it is likely that each of the three models would not perform significantly better than each other on new data but if we follow _Occam's razor_, the lasso model makes the fewest assumptions, is the least complex and is therefore most likely to generalise to new data."
   ]
  },
  {
   "cell_type": "markdown",
   "metadata": {},
   "source": [
    "\n",
    "\n",
    "<a id='combine'></a>\n",
    "# Combine the Regression and Classification Models\n",
    "and generate an overall score \n"
   ]
  },
  {
   "cell_type": "markdown",
   "metadata": {},
   "source": [
    "# Summary\n",
    "\n",
    "In this tutorial we have explored how to train statistical models that can handle linear output variables: regressors.\n",
    "\n",
    "- We looked at the different ways in which the preformance of a regression model can be evaluated and the importance of establishing a baseline of error.\n",
    "- We used our data to train three different types of regression models and evaluated their performance: multivariate linear regression; ridge regression and lasso regression.\n",
    "- We learnt about the concept of _regularization_: an approach that aims to reduce the problem of very large coefficients in regression models, which can lead to overfitting.\n",
    "- We learnt how to interpret a regression model by inspecting the coeffcients. Here we found clear differences between the three models, giving us a more unituitive understanding of how the workings of the models differed."
   ]
  },
  {
   "cell_type": "markdown",
   "metadata": {},
   "source": [
    "# General Summary\n",
    "\n",
    "Over the four tutorials in this course, we have covered a lot. You may not feel like an expert data science yet but if you fee comfortable with everything we have done so far, you are certainly on your way there. \n",
    "\n",
    "To recap, the first tutorial helped us understand how to formulate our data science problem and select the dataset we need to solve it. We decided that it would be useful to try and predict engagement statistics of users within a two-week period, based upon their viewing behaviour in the previous 16 weeks. To solve this problem we decided to use a dataset containing the views of 10,000 iPlayer viewers.\n",
    "\n",
    "In the second tutorial we introduced the concept of data wrangling - transforming and preparing our dataset so that it is ready to be ingested into our statistical learning models. It is these models that alllow us to make engagement  predictions and forecasts about our users.\n",
    "\n",
    "In the third tutorial, we were introduced to our first classifier models: how to train them and how to evaluate their performance. We used four classifiers to forecast whether or not a user was \"engaged\" with iPlayer, based upon their viewing behaviour of the previous 16 weeks.\n",
    "\n",
    "In this final tutorial, we introduced our first regression models. These allowed us to forecast the amount of engagement with iPlayer content during a two-week period, based upon their viewing behaviour over the previous 16 weeks. \n",
    "\n",
    "We hope you enjoyed joining us on this course and that you found it helpful in your development as a world-leading data scientist!\n",
    "\n",
    "-Datalab Team"
   ]
  },
  {
   "cell_type": "code",
   "execution_count": null,
   "metadata": {
    "collapsed": true
   },
   "outputs": [],
   "source": []
  }
 ],
 "metadata": {
  "kernelspec": {
   "display_name": "Python 3",
   "language": "python",
   "name": "python3"
  },
  "language_info": {
   "codemirror_mode": {
    "name": "ipython",
    "version": 3
   },
   "file_extension": ".py",
   "mimetype": "text/x-python",
   "name": "python",
   "nbconvert_exporter": "python",
   "pygments_lexer": "ipython3",
   "version": "3.5.4"
  }
 },
 "nbformat": 4,
 "nbformat_minor": 2
}
