{
 "cells": [
  {
   "cell_type": "markdown",
   "metadata": {},
   "source": [
    "# Course Four: Build a Regressor\n",
    "\n",
    "Expected time to complete: XX minutes\n",
    "\n",
    "## Goal of this Course\n",
    "During this course we will build a regressor to forecast the minutes watched within the last two-week group.\n",
    "\n",
    "This course is split into the following parts:\n",
    "- <a href='#context'>Context</a> \n",
    "- <a href='#model_evaluation'>Model Evaluation</a> \n",
    "- <a href='#baseline_forecast'>Baseline Forecast</a>\n",
    "    - <a href='#load_data'>Load the Data</a>\n",
    "    - <a href='#define_baseline'>Define a Baseline</a>\n",
    "\n",
    "\n",
    "- <a href='#linear_reg'>Linear Regression</a>\n",
    "    - <a href='#model_training'>Model Training</a>\n",
    "    - <a href='#out_sample_error'>Out-of-Sample Error</a>\n",
    "    - <a href='#in_sample_error'>In-Sample Error and Estimated Coefficients</a>\n",
    "\n",
    "\n",
    "- <a href='#ridge_reg'>Ridge Regression</a>\n",
    "    - <a href='#model_training2'>Model Training and Hyperparameters Tuning</a>\n",
    "    - <a href='#best_ridge_reg'>Best Ridge Regression</a>\n",
    "\n",
    "\n",
    "- <a href='#lasso_reg'>Lasso Regression</a>\n",
    "    - <a href='#model_training3'>Model Training and Hyperparameters Tuning</a>\n",
    "    - <a href='#best_lasso_reg'>Best Lasso Regression</a>\n",
    "\n",
    "<a id='context'></a>\n",
    "# Context\n",
    "In the previous tutorial we explained how the training process works and how to evaluate our models in the classification framework. We built few models to predict whether a user will consume content on the last two-week group based on his past behaviour on the 7 two-week groups before. \n",
    "\n",
    "Forecasting if a user will consume content is very usefull. It allows for example to focus our efforts on the ones who are not likely to come back.\n",
    "\n",
    "The users who are likely to come back within the last two-week period might also have different levels of engagement. Understanding to what extent they will consume content is key for the BBC to personnalise their experience with the product.   \n",
    "\n",
    "In order to forecast the minutes watched within the next two-week group we will first define our evaluation metric. As for the classifier, we will then try different models and compare their performances to a baseline. \n",
    "\n",
    "\n",
    "<a id='model_evaluation'></a>\n",
    "# Model Evaluation\n",
    "\n",
    "For regressors, the evaluation of the model is less straightforward and is usually based upon the average residual between the actual observations and the model predictions. \n",
    "\n",
    "__Root mean squared error__ (RMSE) and __mean absolute error__ (MAE) are two commonly used examples of these. Once we have a representation of the error produced by the model we can compare that error with the error of the most simple model of the data (usually the mean). This statistic is known as the coefficient of determination or __R-squared__ and represents the part of variability the model managed to get.\n",
    "\n",
    "<a id='baseline_forecast'></a>\n",
    "# Baseline Forecast\n",
    "\n",
    "<a id='load_data'></a>\n",
    "## Load the Data\n",
    "The first thing to do is to get our data back and make sure we have the correct one."
   ]
  },
  {
   "cell_type": "code",
   "execution_count": 1,
   "metadata": {
    "collapsed": true
   },
   "outputs": [],
   "source": [
    "import pandas as pd\n",
    "import numpy as np\n",
    "import itertools\n",
    "import matplotlib.pyplot as plt"
   ]
  },
  {
   "cell_type": "code",
   "execution_count": 2,
   "metadata": {
    "collapsed": true
   },
   "outputs": [],
   "source": [
    "# We put both target arrays (regression and classification) in the same txt file\n",
    "# As both target arrays have the same size we just need to split it it two\n",
    "# and get the correct part for the prediction task\n",
    "target = np.split(np.loadtxt('target.txt'), 2)[0].flatten()\n",
    "features = pd.read_csv('features.csv')\n",
    "\n",
    "# User id as index\n",
    "features = features.set_index('user_id')"
   ]
  },
  {
   "cell_type": "code",
   "execution_count": 3,
   "metadata": {},
   "outputs": [
    {
     "data": {
      "text/html": [
       "<div>\n",
       "<style>\n",
       "    .dataframe thead tr:only-child th {\n",
       "        text-align: right;\n",
       "    }\n",
       "\n",
       "    .dataframe thead th {\n",
       "        text-align: left;\n",
       "    }\n",
       "\n",
       "    .dataframe tbody tr th {\n",
       "        vertical-align: top;\n",
       "    }\n",
       "</style>\n",
       "<table border=\"1\" class=\"dataframe\">\n",
       "  <thead>\n",
       "    <tr style=\"text-align: right;\">\n",
       "      <th></th>\n",
       "      <th>tw_lag7_watched</th>\n",
       "      <th>tw_lag6_watched</th>\n",
       "      <th>tw_lag5_watched</th>\n",
       "      <th>tw_lag4_watched</th>\n",
       "      <th>tw_lag3_watched</th>\n",
       "      <th>tw_lag2_watched</th>\n",
       "      <th>tw_lag1_watched</th>\n",
       "      <th>average_completion</th>\n",
       "      <th>total_sessions</th>\n",
       "      <th>num_genre</th>\n",
       "      <th>...</th>\n",
       "      <th>most_weekday_weekday_1</th>\n",
       "      <th>most_weekday_weekday_2</th>\n",
       "      <th>most_weekday_weekday_3</th>\n",
       "      <th>most_weekday_weekday_4</th>\n",
       "      <th>most_weekday_weekday_5</th>\n",
       "      <th>most_weekday_weekday_6</th>\n",
       "      <th>most_timeday_Afternoon</th>\n",
       "      <th>most_timeday_Evening</th>\n",
       "      <th>most_timeday_Morning</th>\n",
       "      <th>most_timeday_Night</th>\n",
       "    </tr>\n",
       "    <tr>\n",
       "      <th>user_id</th>\n",
       "      <th></th>\n",
       "      <th></th>\n",
       "      <th></th>\n",
       "      <th></th>\n",
       "      <th></th>\n",
       "      <th></th>\n",
       "      <th></th>\n",
       "      <th></th>\n",
       "      <th></th>\n",
       "      <th></th>\n",
       "      <th></th>\n",
       "      <th></th>\n",
       "      <th></th>\n",
       "      <th></th>\n",
       "      <th></th>\n",
       "      <th></th>\n",
       "      <th></th>\n",
       "      <th></th>\n",
       "      <th></th>\n",
       "      <th></th>\n",
       "      <th></th>\n",
       "    </tr>\n",
       "  </thead>\n",
       "  <tbody>\n",
       "    <tr>\n",
       "      <th>0001c6</th>\n",
       "      <td>16.679200</td>\n",
       "      <td>0.000000</td>\n",
       "      <td>0.0000</td>\n",
       "      <td>0.000000</td>\n",
       "      <td>0.000000</td>\n",
       "      <td>0.152550</td>\n",
       "      <td>0.000000</td>\n",
       "      <td>0.371496</td>\n",
       "      <td>2</td>\n",
       "      <td>1</td>\n",
       "      <td>...</td>\n",
       "      <td>1</td>\n",
       "      <td>0</td>\n",
       "      <td>0</td>\n",
       "      <td>0</td>\n",
       "      <td>0</td>\n",
       "      <td>0</td>\n",
       "      <td>0</td>\n",
       "      <td>1</td>\n",
       "      <td>0</td>\n",
       "      <td>0</td>\n",
       "    </tr>\n",
       "    <tr>\n",
       "      <th>000c1a</th>\n",
       "      <td>0.162867</td>\n",
       "      <td>0.147467</td>\n",
       "      <td>107.0984</td>\n",
       "      <td>145.686233</td>\n",
       "      <td>2.286283</td>\n",
       "      <td>100.487767</td>\n",
       "      <td>132.432083</td>\n",
       "      <td>0.233136</td>\n",
       "      <td>28</td>\n",
       "      <td>5</td>\n",
       "      <td>...</td>\n",
       "      <td>0</td>\n",
       "      <td>0</td>\n",
       "      <td>1</td>\n",
       "      <td>0</td>\n",
       "      <td>0</td>\n",
       "      <td>0</td>\n",
       "      <td>0</td>\n",
       "      <td>0</td>\n",
       "      <td>1</td>\n",
       "      <td>0</td>\n",
       "    </tr>\n",
       "    <tr>\n",
       "      <th>001c53</th>\n",
       "      <td>1.866300</td>\n",
       "      <td>0.000000</td>\n",
       "      <td>0.0000</td>\n",
       "      <td>0.000000</td>\n",
       "      <td>1.309867</td>\n",
       "      <td>0.000000</td>\n",
       "      <td>0.000000</td>\n",
       "      <td>0.489419</td>\n",
       "      <td>3</td>\n",
       "      <td>2</td>\n",
       "      <td>...</td>\n",
       "      <td>0</td>\n",
       "      <td>1</td>\n",
       "      <td>0</td>\n",
       "      <td>0</td>\n",
       "      <td>0</td>\n",
       "      <td>0</td>\n",
       "      <td>0</td>\n",
       "      <td>0</td>\n",
       "      <td>1</td>\n",
       "      <td>0</td>\n",
       "    </tr>\n",
       "    <tr>\n",
       "      <th>001d44</th>\n",
       "      <td>0.000000</td>\n",
       "      <td>0.000000</td>\n",
       "      <td>0.0000</td>\n",
       "      <td>14.547700</td>\n",
       "      <td>0.000000</td>\n",
       "      <td>0.000000</td>\n",
       "      <td>0.248017</td>\n",
       "      <td>0.058203</td>\n",
       "      <td>2</td>\n",
       "      <td>2</td>\n",
       "      <td>...</td>\n",
       "      <td>0</td>\n",
       "      <td>0</td>\n",
       "      <td>0</td>\n",
       "      <td>0</td>\n",
       "      <td>0</td>\n",
       "      <td>1</td>\n",
       "      <td>0</td>\n",
       "      <td>0</td>\n",
       "      <td>1</td>\n",
       "      <td>0</td>\n",
       "    </tr>\n",
       "    <tr>\n",
       "      <th>002b2e</th>\n",
       "      <td>291.477033</td>\n",
       "      <td>0.000000</td>\n",
       "      <td>0.0000</td>\n",
       "      <td>0.000000</td>\n",
       "      <td>0.000000</td>\n",
       "      <td>0.000000</td>\n",
       "      <td>0.000000</td>\n",
       "      <td>0.228233</td>\n",
       "      <td>17</td>\n",
       "      <td>5</td>\n",
       "      <td>...</td>\n",
       "      <td>0</td>\n",
       "      <td>1</td>\n",
       "      <td>0</td>\n",
       "      <td>0</td>\n",
       "      <td>0</td>\n",
       "      <td>0</td>\n",
       "      <td>0</td>\n",
       "      <td>1</td>\n",
       "      <td>0</td>\n",
       "      <td>0</td>\n",
       "    </tr>\n",
       "  </tbody>\n",
       "</table>\n",
       "<p>5 rows × 34 columns</p>\n",
       "</div>"
      ],
      "text/plain": [
       "         tw_lag7_watched  tw_lag6_watched  tw_lag5_watched  tw_lag4_watched  \\\n",
       "user_id                                                                       \n",
       "0001c6         16.679200         0.000000           0.0000         0.000000   \n",
       "000c1a          0.162867         0.147467         107.0984       145.686233   \n",
       "001c53          1.866300         0.000000           0.0000         0.000000   \n",
       "001d44          0.000000         0.000000           0.0000        14.547700   \n",
       "002b2e        291.477033         0.000000           0.0000         0.000000   \n",
       "\n",
       "         tw_lag3_watched  tw_lag2_watched  tw_lag1_watched  \\\n",
       "user_id                                                      \n",
       "0001c6          0.000000         0.152550         0.000000   \n",
       "000c1a          2.286283       100.487767       132.432083   \n",
       "001c53          1.309867         0.000000         0.000000   \n",
       "001d44          0.000000         0.000000         0.248017   \n",
       "002b2e          0.000000         0.000000         0.000000   \n",
       "\n",
       "         average_completion  total_sessions  num_genre         ...          \\\n",
       "user_id                                                        ...           \n",
       "0001c6             0.371496               2          1         ...           \n",
       "000c1a             0.233136              28          5         ...           \n",
       "001c53             0.489419               3          2         ...           \n",
       "001d44             0.058203               2          2         ...           \n",
       "002b2e             0.228233              17          5         ...           \n",
       "\n",
       "         most_weekday_weekday_1  most_weekday_weekday_2  \\\n",
       "user_id                                                   \n",
       "0001c6                        1                       0   \n",
       "000c1a                        0                       0   \n",
       "001c53                        0                       1   \n",
       "001d44                        0                       0   \n",
       "002b2e                        0                       1   \n",
       "\n",
       "         most_weekday_weekday_3  most_weekday_weekday_4  \\\n",
       "user_id                                                   \n",
       "0001c6                        0                       0   \n",
       "000c1a                        1                       0   \n",
       "001c53                        0                       0   \n",
       "001d44                        0                       0   \n",
       "002b2e                        0                       0   \n",
       "\n",
       "         most_weekday_weekday_5  most_weekday_weekday_6  \\\n",
       "user_id                                                   \n",
       "0001c6                        0                       0   \n",
       "000c1a                        0                       0   \n",
       "001c53                        0                       0   \n",
       "001d44                        0                       1   \n",
       "002b2e                        0                       0   \n",
       "\n",
       "         most_timeday_Afternoon  most_timeday_Evening  most_timeday_Morning  \\\n",
       "user_id                                                                       \n",
       "0001c6                        0                     1                     0   \n",
       "000c1a                        0                     0                     1   \n",
       "001c53                        0                     0                     1   \n",
       "001d44                        0                     0                     1   \n",
       "002b2e                        0                     1                     0   \n",
       "\n",
       "         most_timeday_Night  \n",
       "user_id                      \n",
       "0001c6                    0  \n",
       "000c1a                    0  \n",
       "001c53                    0  \n",
       "001d44                    0  \n",
       "002b2e                    0  \n",
       "\n",
       "[5 rows x 34 columns]"
      ]
     },
     "execution_count": 3,
     "metadata": {},
     "output_type": "execute_result"
    }
   ],
   "source": [
    "# Make sure we have the right input database\n",
    "features.head()"
   ]
  },
  {
   "cell_type": "code",
   "execution_count": 4,
   "metadata": {},
   "outputs": [
    {
     "data": {
      "text/plain": [
       "array([  1.44833333e-01,   3.18047633e+02,   1.98035000e+00,\n",
       "         1.00590667e+01,   0.00000000e+00,   4.79261667e+00,\n",
       "         0.00000000e+00,   0.00000000e+00,   0.00000000e+00,\n",
       "         0.00000000e+00])"
      ]
     },
     "execution_count": 4,
     "metadata": {},
     "output_type": "execute_result"
    }
   ],
   "source": [
    "# Make sure we have the right output\n",
    "target[:10]"
   ]
  },
  {
   "cell_type": "markdown",
   "metadata": {},
   "source": [
    "<a id='define_baseline'></a>\n",
    "## Define a Baseline\n",
    "\n",
    "As mentionned in the last course we should have a baseline to compare the performance of our models with. Here as we are forecasting a quantitative variable, a simple model is for example the one that predicts a constant value like 0, or the mean or the median we do observe in our data. \n",
    "\n",
    "Note as well that by default `scikit` _maximises_ metrics and error metrics have been implemented as a negative number within the scoring function. We therefore negate the errors we get to make them comparable and are looking for those models that maximise it."
   ]
  },
  {
   "cell_type": "code",
   "execution_count": 5,
   "metadata": {
    "collapsed": true
   },
   "outputs": [],
   "source": [
    "# Create a baseline to compare our results to (mean and median minutes watched and 0)\n",
    "mean=np.mean(target)\n",
    "median=np.median(target)\n",
    "\n",
    "mean_forecast=[mean]*len(target)\n",
    "median_forecast=[median]*len(target)\n",
    "zero_forecast=[0]*len(target)"
   ]
  },
  {
   "cell_type": "code",
   "execution_count": 6,
   "metadata": {},
   "outputs": [
    {
     "name": "stdout",
     "output_type": "stream",
     "text": [
      "Mean: 75.9168097123\n",
      "Median: 0.0\n"
     ]
    }
   ],
   "source": [
    "print(\"Mean: \"+str(mean))\n",
    "print(\"Median: \"+str(median))"
   ]
  },
  {
   "cell_type": "markdown",
   "metadata": {},
   "source": [
    "The median is null, meaning than more than half of our users don't consume content on iPlayer within the last two weeks.\n",
    "\n",
    "There is no need to consider the constant model equal to 0 as a baseline here (same as the median one)."
   ]
  },
  {
   "cell_type": "code",
   "execution_count": 17,
   "metadata": {},
   "outputs": [
    {
     "name": "stdout",
     "output_type": "stream",
     "text": [
      "Score if we forecast the mean: -115.319756974\n",
      "Score if we forecast the median: -75.9168097123\n"
     ]
    }
   ],
   "source": [
    "# Compute the errors for these different baseline\n",
    "from sklearn import metrics\n",
    "print(\"Score if we forecast the mean:\",\n",
    "      -metrics.mean_absolute_error(target,mean_forecast))\n",
    "print(\"Score if we forecast the median:\",\n",
    "      -metrics.mean_absolute_error(target,median_forecast))"
   ]
  },
  {
   "cell_type": "markdown",
   "metadata": {},
   "source": [
    "We will now try different kind of regressions. These models are great for business insights as we can __quantify the impact__ of our input variables on the target one.\n",
    "\n",
    "<a id='linear_reg'></a>\n",
    "# Linear Regression\n",
    "\n",
    "The easiest way to relate our output variable to our input ones is to use a __linear combination__.\n",
    "\n",
    "A linear regression decomposes the observed output in an additive way such that the coefficients we estimate in the training process can be interpreted as the impact of a given input all other things being equal (AOTBE). For more details see: https://en.wikipedia.org/wiki/Linear_regression\n",
    "\n",
    "And for the `scikit learn` documentation: http://scikit-learn.org/stable/modules/generated/sklearn.linear_model.LinearRegression.html"
   ]
  },
  {
   "cell_type": "code",
   "execution_count": 8,
   "metadata": {
    "collapsed": true
   },
   "outputs": [],
   "source": [
    "# Let's build a simple regression\n",
    "from sklearn import linear_model\n",
    "\n",
    "# We will use cross validation, so import helper functions for this\n",
    "from sklearn.model_selection import cross_val_score, cross_val_predict\n",
    "\n",
    "# Plots\n",
    "from matplotlib import pyplot as plt "
   ]
  },
  {
   "cell_type": "markdown",
   "metadata": {},
   "source": [
    "<a id='model_training'></a>\n",
    "## Model Training\n",
    "\n",
    "With this kind of modelling there is no hyperparameter to tune. Indeed, the model only has to evaluate the _contribution_ of each input variable to the linear combination.  \n",
    "\n",
    "The `cross_val_predicts` functions here returns, for each element in the input, the prediction that was obtained for that element when it was in the test set during the cross-validation process. "
   ]
  },
  {
   "cell_type": "code",
   "execution_count": 10,
   "metadata": {
    "collapsed": true
   },
   "outputs": [],
   "source": [
    "# We setup a simple linear regression, again using cross validation\n",
    "reg=linear_model.LinearRegression()\n",
    "\n",
    "predicted=cross_val_predict(reg, features,target)\n",
    "scores=cross_val_score(reg, features, target, scoring='neg_mean_absolute_error')"
   ]
  },
  {
   "cell_type": "markdown",
   "metadata": {},
   "source": [
    "<a id='out_sample_error'></a>\n",
    "## Out-of-Sample Error\n",
    "As for the classification part, we need to take the average of the different errors obtained during the cross-validation process to compute an out-of-sample error."
   ]
  },
  {
   "cell_type": "code",
   "execution_count": 11,
   "metadata": {},
   "outputs": [
    {
     "name": "stdout",
     "output_type": "stream",
     "text": [
      "Mean score: -58.0733721136\n"
     ]
    }
   ],
   "source": [
    "# Compute the mean error obtained in the CV\n",
    "print(\"Mean score:\", np.mean(scores))"
   ]
  },
  {
   "cell_type": "markdown",
   "metadata": {},
   "source": [
    "Fortunately, there is an improvement compared to the constant model equal to 0 (median baseline).\n",
    "\n",
    "We can also plot our predicted values against the output we actually observe. The more the dots are close to the first bisector, the better are our forecasts. "
   ]
  },
  {
   "cell_type": "code",
   "execution_count": 12,
   "metadata": {},
   "outputs": [
    {
     "data": {
      "image/png": "[encoded data removed]",
      "text/plain": [
       "<matplotlib.figure.Figure at 0x110a3b940>"
      ]
     },
     "metadata": {},
     "output_type": "display_data"
    }
   ],
   "source": [
    "# Let's compare graphically the predicted and actual values\n",
    "fig, ax = plt.subplots()\n",
    "ax.scatter(target, predicted)\n",
    "ax.plot([target.min(), target.max()], [target.min(), target.max()], 'k--', lw=1)\n",
    "ax.set_xlabel('Observed')\n",
    "ax.set_ylabel('Predicted')\n",
    "plt.show()"
   ]
  },
  {
   "cell_type": "markdown",
   "metadata": {},
   "source": [
    "It's quite difficult to visually assess the performance of our model, but the main trend is toward the first bisector which is a good sign.\n",
    "\n",
    "It also looks like there is an outlier we forgot to remove here (dot on the right up side of the graph). \n",
    "\n",
    "<a id='in_sample_error'></a>\n",
    "## In-Sample Error and Estimated Coefficients\n",
    "Let's now train on our entire dataset and have a look at the estimated coefficients to get the patterns the model detected."
   ]
  },
  {
   "cell_type": "code",
   "execution_count": 13,
   "metadata": {
    "collapsed": true
   },
   "outputs": [],
   "source": [
    "# Let's train on all data \n",
    "lin_reg=linear_model.LinearRegression()\n",
    "mod1=lin_reg.fit(features[subset_features],target)"
   ]
  },
  {
   "cell_type": "code",
   "execution_count": 14,
   "metadata": {},
   "outputs": [
    {
     "data": {
      "text/plain": [
       "-56.600083327149065"
      ]
     },
     "execution_count": 14,
     "metadata": {},
     "output_type": "execute_result"
    }
   ],
   "source": [
    "# In-sample error\n",
    "from sklearn.metrics import mean_absolute_error\n",
    "-metrics.mean_absolute_error(target,mod1.predict(features[subset_features]))"
   ]
  },
  {
   "cell_type": "markdown",
   "metadata": {},
   "source": [
    "Remind that it is usual to have a smaller in-sample error as the output data we are comparing our forecasts with has been used to train the model.\n",
    "\n",
    "For the estimated coefficients we should in theory have a look at the __p-values__ - statistic values that indicate whether our estimated coefficient is significantly different from zero. We won't go more into details here. "
   ]
  },
  {
   "cell_type": "code",
   "execution_count": 15,
   "metadata": {},
   "outputs": [
    {
     "data": {
      "text/html": [
       "<div>\n",
       "<style>\n",
       "    .dataframe thead tr:only-child th {\n",
       "        text-align: right;\n",
       "    }\n",
       "\n",
       "    .dataframe thead th {\n",
       "        text-align: left;\n",
       "    }\n",
       "\n",
       "    .dataframe tbody tr th {\n",
       "        vertical-align: top;\n",
       "    }\n",
       "</style>\n",
       "<table border=\"1\" class=\"dataframe\">\n",
       "  <thead>\n",
       "    <tr style=\"text-align: right;\">\n",
       "      <th></th>\n",
       "      <th>coefficient</th>\n",
       "      <th>feature</th>\n",
       "    </tr>\n",
       "  </thead>\n",
       "  <tbody>\n",
       "    <tr>\n",
       "      <th>0</th>\n",
       "      <td>6.541515</td>\n",
       "      <td>most_weekday_weekday_2</td>\n",
       "    </tr>\n",
       "    <tr>\n",
       "      <th>1</th>\n",
       "      <td>4.831388</td>\n",
       "      <td>most_genre_Sport</td>\n",
       "    </tr>\n",
       "    <tr>\n",
       "      <th>2</th>\n",
       "      <td>3.625429</td>\n",
       "      <td>most_genre_Drama</td>\n",
       "    </tr>\n",
       "    <tr>\n",
       "      <th>3</th>\n",
       "      <td>2.676683</td>\n",
       "      <td>most_timeday_Afternoon</td>\n",
       "    </tr>\n",
       "    <tr>\n",
       "      <th>4</th>\n",
       "      <td>2.654163</td>\n",
       "      <td>most_genre_News</td>\n",
       "    </tr>\n",
       "  </tbody>\n",
       "</table>\n",
       "</div>"
      ],
      "text/plain": [
       "   coefficient                 feature\n",
       "0     6.541515  most_weekday_weekday_2\n",
       "1     4.831388        most_genre_Sport\n",
       "2     3.625429        most_genre_Drama\n",
       "3     2.676683  most_timeday_Afternoon\n",
       "4     2.654163         most_genre_News"
      ]
     },
     "execution_count": 15,
     "metadata": {},
     "output_type": "execute_result"
    }
   ],
   "source": [
    "# Let's have a look at the estimated coefficients\n",
    "coef1=pd.DataFrame(\n",
    "    {'feature': list(features[subset_features].columns),\n",
    "     'coefficient': list(mod1.coef_)\n",
    "    })\n",
    "coef1.sort_values(by='coefficient', ascending=False).reset_index(drop=True).head(5)"
   ]
  },
  {
   "cell_type": "code",
   "execution_count": 16,
   "metadata": {},
   "outputs": [
    {
     "data": {
      "text/html": [
       "<div>\n",
       "<style>\n",
       "    .dataframe thead tr:only-child th {\n",
       "        text-align: right;\n",
       "    }\n",
       "\n",
       "    .dataframe thead th {\n",
       "        text-align: left;\n",
       "    }\n",
       "\n",
       "    .dataframe tbody tr th {\n",
       "        vertical-align: top;\n",
       "    }\n",
       "</style>\n",
       "<table border=\"1\" class=\"dataframe\">\n",
       "  <thead>\n",
       "    <tr style=\"text-align: right;\">\n",
       "      <th></th>\n",
       "      <th>coefficient</th>\n",
       "      <th>feature</th>\n",
       "    </tr>\n",
       "  </thead>\n",
       "  <tbody>\n",
       "    <tr>\n",
       "      <th>29</th>\n",
       "      <td>-6.872885</td>\n",
       "      <td>most_genre_Music</td>\n",
       "    </tr>\n",
       "    <tr>\n",
       "      <th>30</th>\n",
       "      <td>-7.023103</td>\n",
       "      <td>most_timeday_Evening</td>\n",
       "    </tr>\n",
       "    <tr>\n",
       "      <th>31</th>\n",
       "      <td>-8.022035</td>\n",
       "      <td>most_timeday_Night</td>\n",
       "    </tr>\n",
       "    <tr>\n",
       "      <th>32</th>\n",
       "      <td>-9.211985</td>\n",
       "      <td>most_weekday_weekday_0</td>\n",
       "    </tr>\n",
       "    <tr>\n",
       "      <th>33</th>\n",
       "      <td>-16.821276</td>\n",
       "      <td>most_genre_Children's</td>\n",
       "    </tr>\n",
       "  </tbody>\n",
       "</table>\n",
       "</div>"
      ],
      "text/plain": [
       "    coefficient                 feature\n",
       "29    -6.872885        most_genre_Music\n",
       "30    -7.023103    most_timeday_Evening\n",
       "31    -8.022035      most_timeday_Night\n",
       "32    -9.211985  most_weekday_weekday_0\n",
       "33   -16.821276   most_genre_Children's"
      ]
     },
     "execution_count": 16,
     "metadata": {},
     "output_type": "execute_result"
    }
   ],
   "source": [
    "coef1.sort_values(by='coefficient', ascending=False).reset_index(drop=True).tail(5)"
   ]
  },
  {
   "cell_type": "markdown",
   "metadata": {},
   "source": [
    "The results are quite interesting here. It seems that some particular habits __drive__ the amount of content consumed. User that consume content on iPlayer most of the time on Wednesdays, or in the afternoon, or whose favourite genre is News are likely to consume more content (positive coefficients). On the other side, users whose favourite genre is Children's won't consume - in terms of total of minutes - much. It's difficult to speak of drivers for _engagement_ here because the minutes watched is highly correlated to the type of content. Children's pieces of content are on average shorter than Sport or Drama ones. It doesn't mean than the user's who consume only Children's content are less engaged. \n",
    "\n",
    "The estimated coefficients can be interpreted as follow: for the `num_genre` variable, the estimated contribution is 1,3. All other thing being equal (favourite genre \"Drama\", favourite time of the day \"Evening\" etc.), consuming one other genre in the past weeks will make the user consume 1,3mn more within the two following weeks. While this is certainly a bit far-fetched, looking at the sign of the coefficient is a good sanity check. For example we won't expect the number of different genre consumed to lower engagement.\n",
    "\n",
    "We also have to bare in mind that we didn't check the _p-values_ here and that the coefficients could not be significant.\n",
    "\n",
    "<a id='ridge_reg'></a>\n",
    "# Ridge Regression\n",
    "\n",
    "__DETAILS __\n",
    "\n",
    "`scikit documentation`: http://scikit-learn.org/stable/modules/generated/sklearn.linear_model.Ridge.html\n",
    "\n",
    "<a id='model_training2'></a>\n",
    "## Model Training and Hyperparameters Tuning\n",
    "\n",
    "We need to tune the penalty parameter _alpha_. Let's have the same approach than for the classification part and do a grid search."
   ]
  },
  {
   "cell_type": "code",
   "execution_count": null,
   "metadata": {
    "collapsed": true
   },
   "outputs": [],
   "source": [
    "# Setup the model and develop a simple grid search against some key parameters\n",
    "param_alpha=[0.001,0.01,0.1,1.0,10,100]"
   ]
  },
  {
   "cell_type": "code",
   "execution_count": null,
   "metadata": {
    "collapsed": true
   },
   "outputs": [],
   "source": [
    "# Let's keep track of our best parameters\n",
    "best_score=-200\n",
    "best_param=0\n",
    "\n",
    "# we will setup a manual grid search, but you can also use the gridsearchCV capability in sklearn\n",
    "for i in param_alpha:\n",
    "    reg_r = linear_model.Ridge(alpha = i)\n",
    "    scores=cross_val_score(reg_r,\n",
    "                           features,\n",
    "                           target,\n",
    "                           scoring='neg_mean_absolute_error')\n",
    "    if np.mean(scores)>best_score:\n",
    "        best_score=np.mean(scores)\n",
    "        best_param=i\n",
    "\n",
    "# print the overall best results\n",
    "print('Best Settings: alpha:',best_param)\n",
    "print('Score:', best_score)"
   ]
  },
  {
   "cell_type": "markdown",
   "metadata": {},
   "source": [
    "__COMMENTS__\n",
    "\n",
    "<a id='best_ridge_reg'></a>\n",
    "## Best Ridge Regression"
   ]
  },
  {
   "cell_type": "code",
   "execution_count": null,
   "metadata": {
    "collapsed": true
   },
   "outputs": [],
   "source": [
    "# Let's keep our best model (hyperparameters tuned)\n",
    "ridge=linear_model.Ridge(alpha = best_param)\n",
    "mod2=ridge.fit(features,target)"
   ]
  },
  {
   "cell_type": "code",
   "execution_count": null,
   "metadata": {
    "collapsed": true
   },
   "outputs": [],
   "source": [
    "# In-sample error\n",
    "-metrics.mean_absolute_error(target,mod2.predict(features))"
   ]
  },
  {
   "cell_type": "code",
   "execution_count": null,
   "metadata": {
    "collapsed": true
   },
   "outputs": [],
   "source": [
    "# Let's compare graphically the predicted and actual values\n",
    "fig, ax = plt.subplots()\n",
    "ax.scatter(target, mod2.predict(features))\n",
    "ax.plot([target.min(), target.max()], [target.min(), target.max()], 'k--', lw=1)\n",
    "ax.set_xlabel('Measured')\n",
    "ax.set_ylabel('Predicted')\n",
    "plt.show()"
   ]
  },
  {
   "cell_type": "markdown",
   "metadata": {},
   "source": [
    "__COMMENTS__\n",
    "\n",
    "<a id='lasso_reg'></a>\n",
    "# Lasso Regression\n",
    "\n",
    "__DETAILS __\n",
    "\n",
    "`scikit documentation`: http://scikit-learn.org/stable/modules/generated/sklearn.linear_model.Lasso.html\n",
    "\n",
    "<a id='model_training3'></a>\n",
    "## Model Training and Hyperparameters Tuning\n",
    "\n",
    "Again we need to tune the penalty parameter _alpha_."
   ]
  },
  {
   "cell_type": "code",
   "execution_count": null,
   "metadata": {
    "collapsed": true
   },
   "outputs": [],
   "source": [
    "# Setup the model and develop a simple grid search against some key parameters\n",
    "param_alpha=[0.001,0.01,0.1,1.0,10,100]"
   ]
  },
  {
   "cell_type": "code",
   "execution_count": null,
   "metadata": {
    "collapsed": true
   },
   "outputs": [],
   "source": [
    "# Let's keep track of our best parameters\n",
    "best_score=-200\n",
    "best_param=0\n",
    "\n",
    "# we will setup a manual grid search, but you can also use the gridsearchCV capability in sklearn\n",
    "for i in param_alpha:\n",
    "    reg_r = linear_model.LassoLars(alpha = i)\n",
    "    scores=cross_val_score(reg_r,\n",
    "                           features,\n",
    "                           target,\n",
    "                           scoring='neg_mean_absolute_error')\n",
    "    if np.mean(scores)>best_score:\n",
    "        best_score=np.mean(scores)\n",
    "        best_param=i\n",
    "\n",
    "# print the overall best results\n",
    "print('Best Settings: alpha:',best_param)\n",
    "print('Score:', best_score)"
   ]
  },
  {
   "cell_type": "markdown",
   "metadata": {},
   "source": [
    "__COMMENTS__\n",
    "\n",
    "<a id='best_lasso_reg'></a>\n",
    "## Best Lasso Regression"
   ]
  },
  {
   "cell_type": "code",
   "execution_count": null,
   "metadata": {
    "collapsed": true
   },
   "outputs": [],
   "source": [
    "# Let's keep our best model (hyperparameters tuned)\n",
    "lasso=linear_model.LassoLars(alpha = best_param)\n",
    "mod3=lasso.fit(features,target)"
   ]
  },
  {
   "cell_type": "code",
   "execution_count": null,
   "metadata": {
    "collapsed": true
   },
   "outputs": [],
   "source": [
    "# In-sample error\n",
    "-metrics.mean_absolute_error(target,mod3.predict(features))"
   ]
  },
  {
   "cell_type": "code",
   "execution_count": null,
   "metadata": {
    "collapsed": true
   },
   "outputs": [],
   "source": [
    "# Let's compare graphically the predicted and actual values\n",
    "fig, ax = plt.subplots()\n",
    "ax.scatter(target, mod3.predict(features))\n",
    "ax.plot([target.min(), target.max()], [target.min(), target.max()], 'k--', lw=1)\n",
    "ax.set_xlabel('Measured')\n",
    "ax.set_ylabel('Predicted')\n",
    "plt.show()"
   ]
  },
  {
   "cell_type": "markdown",
   "metadata": {},
   "source": [
    "__COMMENTS__\n",
    "\n",
    "<a id='combine'></a>\n",
    "# Combine the Regression and Classification Models\n",
    "and generate an overall score \n"
   ]
  }
 ],
 "metadata": {
  "kernelspec": {
   "display_name": "Python 3",
   "language": "python",
   "name": "python3"
  },
  "language_info": {
   "codemirror_mode": {
    "name": "ipython",
    "version": 3
   },
   "file_extension": ".py",
   "mimetype": "text/x-python",
   "name": "python",
   "nbconvert_exporter": "python",
   "pygments_lexer": "ipython3",
   "version": "3.6.2"
  }
 },
 "nbformat": 4,
 "nbformat_minor": 2
}
